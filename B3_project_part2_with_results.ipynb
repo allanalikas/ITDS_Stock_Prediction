{
  "nbformat": 4,
  "nbformat_minor": 0,
  "metadata": {
    "colab": {
      "name": "B3_project.ipynb",
      "provenance": [],
      "collapsed_sections": []
    },
    "kernelspec": {
      "display_name": "Python 3",
      "name": "python3"
    }
  },
  "cells": [
    {
      "cell_type": "markdown",
      "metadata": {
        "id": "vm5m_fC7DLwU"
      },
      "source": [
        "###**Project B3: STOCK MARKET. Using neural networks for stock market prediction**"
      ]
    },
    {
      "cell_type": "markdown",
      "metadata": {
        "id": "w-ZYKtdYDAFk"
      },
      "source": [
        "In our project we will focus on the stock market predictions - the highly volatile and complex time series. Traditionally machine learning approaches like SVM and Regressions are used to predict possible price movements. However in recent research it is shown that neural networks are much better at handling non-linear models. In this project we will see for ourselves, if it is true. "
      ]
    },
    {
      "cell_type": "markdown",
      "metadata": {
        "id": "mFtKYB-FK3aA"
      },
      "source": [
        "# Imports"
      ]
    },
    {
      "cell_type": "markdown",
      "metadata": {
        "id": "YDXUBS7DRyJY"
      },
      "source": [
        "These are the imports that are used in the whole project for plotting and working with Dataframes."
      ]
    },
    {
      "cell_type": "code",
      "metadata": {
        "id": "FRV2O1uwK54j"
      },
      "source": [
        "import pandas as pd\r\n",
        "import numpy as np\r\n",
        "import seaborn as sns\r\n",
        "import matplotlib.pyplot as plt\r\n",
        "from google.colab import files"
      ],
      "execution_count": 1,
      "outputs": []
    },
    {
      "cell_type": "markdown",
      "metadata": {
        "id": "KN8JJl16DKOQ"
      },
      "source": [
        "# Data"
      ]
    },
    {
      "cell_type": "markdown",
      "metadata": {
        "id": "urBbhBsHR5uT"
      },
      "source": [
        "Google Colab way of uploading files to work with."
      ]
    },
    {
      "cell_type": "code",
      "metadata": {
        "colab": {
          "resources": {
            "http://localhost:8080/nbextensions/google.colab/files.js": {
              "data": "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",
              "ok": true,
              "headers": [
                [
                  "content-type",
                  "application/javascript"
                ]
              ],
              "status": 200,
              "status_text": ""
            }
          },
          "base_uri": "https://localhost:8080/",
          "height": 212
        },
        "id": "AaKpl2F1T90j",
        "outputId": "dc938251-41a7-471c-cac4-70ee7d99c075"
      },
      "source": [
        "kagglefiles = files.upload()"
      ],
      "execution_count": 2,
      "outputs": [
        {
          "output_type": "display_data",
          "data": {
            "text/html": [
              "\n",
              "     <input type=\"file\" id=\"files-6a3bc67b-f83f-4726-9fd2-1f83306a8b1e\" name=\"files[]\" multiple disabled\n",
              "        style=\"border:none\" />\n",
              "     <output id=\"result-6a3bc67b-f83f-4726-9fd2-1f83306a8b1e\">\n",
              "      Upload widget is only available when the cell has been executed in the\n",
              "      current browser session. Please rerun this cell to enable.\n",
              "      </output>\n",
              "      <script src=\"/nbextensions/google.colab/files.js\"></script> "
            ],
            "text/plain": [
              "<IPython.core.display.HTML object>"
            ]
          },
          "metadata": {
            "tags": []
          }
        },
        {
          "output_type": "stream",
          "text": [
            "Saving amzn.us.txt to amzn.us (1).txt\n",
            "Saving aple.us.txt to aple.us (1).txt\n",
            "Saving googl.us.txt to googl.us (1).txt\n",
            "Saving msft.us.txt to msft.us (1).txt\n",
            "Saving samg.us.txt to samg.us (1).txt\n"
          ],
          "name": "stdout"
        }
      ]
    },
    {
      "cell_type": "markdown",
      "metadata": {
        "id": "MwRi3WAlUNnX"
      },
      "source": [
        "# Data preparation"
      ]
    },
    {
      "cell_type": "markdown",
      "metadata": {
        "id": "Cy2B7L1jYArV"
      },
      "source": [
        "Reading data into respective dataframes."
      ]
    },
    {
      "cell_type": "code",
      "metadata": {
        "id": "GnDyVOrJeR_q"
      },
      "source": [
        "def create_dataframe(filename):\r\n",
        "  df = pd.read_csv(filename)\r\n",
        "  return df\r\n",
        "\r\n",
        "df_amazon = create_dataframe(\"amzn.us.txt\")\r\n",
        "df_google = create_dataframe(\"googl.us.txt\")\r\n",
        "df_apple = create_dataframe(\"aple.us.txt\")\r\n",
        "df_microsoft = create_dataframe(\"msft.us.txt\")\r\n",
        "df_samsung = create_dataframe(\"samg.us.txt\")"
      ],
      "execution_count": 3,
      "outputs": []
    },
    {
      "cell_type": "markdown",
      "metadata": {
        "id": "CYYs_QokSIvj"
      },
      "source": [
        "Checking the data in the dataframe, whether it contains NaN values. As the original files should not contain any NaN files, this is to check whether the data we have used is not mutated."
      ]
    },
    {
      "cell_type": "code",
      "metadata": {
        "id": "0hDbYKTRV4Dh"
      },
      "source": [
        "def prepare_data(dataframe):\r\n",
        "  print(\"Preparing Data : \")\r\n",
        "  nrofNaNs = dataframe.isnull().sum().sum()\r\n",
        "  if(nrofNaNs == 0):\r\n",
        "    print(\"No NaN values found, returning original dataframe.\")\r\n",
        "    return dataframe\r\n",
        "  else:\r\n",
        "    print(\"Found NaN values\")"
      ],
      "execution_count": 4,
      "outputs": []
    },
    {
      "cell_type": "code",
      "metadata": {
        "id": "3bZiLMGJcD2R",
        "colab": {
          "base_uri": "https://localhost:8080/"
        },
        "outputId": "d736abdd-c0d6-41b8-8d6f-7af50e324e04"
      },
      "source": [
        "df_new_amazon = prepare_data(df_amazon)\r\n",
        "df_new_google = prepare_data(df_google)\r\n",
        "df_new_apple = prepare_data(df_apple)\r\n",
        "df_new_microsoft = prepare_data(df_microsoft)\r\n",
        "df_new_samsung = prepare_data(df_samsung)\r\n",
        "\r\n",
        "dataframe_list = [df_new_amazon,df_new_google,df_new_apple,df_new_microsoft,df_new_samsung]"
      ],
      "execution_count": 5,
      "outputs": [
        {
          "output_type": "stream",
          "text": [
            "Preparing Data : \n",
            "No NaN values found, returning original dataframe.\n",
            "Preparing Data : \n",
            "No NaN values found, returning original dataframe.\n",
            "Preparing Data : \n",
            "No NaN values found, returning original dataframe.\n",
            "Preparing Data : \n",
            "No NaN values found, returning original dataframe.\n",
            "Preparing Data : \n",
            "No NaN values found, returning original dataframe.\n"
          ],
          "name": "stdout"
        }
      ]
    },
    {
      "cell_type": "markdown",
      "metadata": {
        "id": "rFKn4uS7qsGo"
      },
      "source": [
        "# Support vector machine (SVM)"
      ]
    },
    {
      "cell_type": "markdown",
      "metadata": {
        "id": "IiBqTtloNDqC"
      },
      "source": [
        "Support vector machines (SVMs) are supervised learning models with associated learning algortihms that analyze data used for classification and regression analysis. This method is one of the most robust prediction methods, based on the statistical learning framework proposed by Vapnik and Chervonenkis. "
      ]
    },
    {
      "cell_type": "markdown",
      "metadata": {
        "id": "VrfUGsNNjvJV"
      },
      "source": [
        "Imports needed for the support vector machine."
      ]
    },
    {
      "cell_type": "code",
      "metadata": {
        "id": "jT963juuqrUb"
      },
      "source": [
        "from sklearn import svm,preprocessing \r\n",
        "from sklearn.metrics import classification_report"
      ],
      "execution_count": 6,
      "outputs": []
    },
    {
      "cell_type": "markdown",
      "metadata": {
        "id": "O6llbsWokBj5"
      },
      "source": [
        "Function for creating copies of dataframes, so that given dataframes are not changed."
      ]
    },
    {
      "cell_type": "code",
      "metadata": {
        "id": "OsKe3hiMa53T"
      },
      "source": [
        "def create_df_copy(df):\r\n",
        "  return df.copy(deep=True)"
      ],
      "execution_count": 7,
      "outputs": []
    },
    {
      "cell_type": "markdown",
      "metadata": {
        "id": "rKMtL3eDk3WX"
      },
      "source": [
        "Creates a plot depending on the values of Date and Close."
      ]
    },
    {
      "cell_type": "code",
      "metadata": {
        "id": "j0RB6Gm1IB3E"
      },
      "source": [
        "def create_plt(dataframe, name):\r\n",
        "  company_dates = [pd.Timestamp(date) for date in dataframe['Date']]\r\n",
        "  company_close = np.array(dataframe['Close'],dtype='float')\r\n",
        "  \r\n",
        "  plt.title(name)\r\n",
        "  plt.scatter(company_dates,company_close)\r\n",
        "  plt.show()"
      ],
      "execution_count": 8,
      "outputs": []
    },
    {
      "cell_type": "markdown",
      "metadata": {
        "id": "x6SCX0hbO0m9"
      },
      "source": [
        "Function used to get the X and Y depending on the dataframes Close value."
      ]
    },
    {
      "cell_type": "code",
      "metadata": {
        "id": "mk1J9tnKLzth"
      },
      "source": [
        "def get_X_and_Y(df,window_length=7,predict_day_length=1):\r\n",
        "    m = len(df.iloc[0])\r\n",
        "    n = len(df) - window_length\r\n",
        "    m = window_length * m\r\n",
        "\r\n",
        "    X = np.ones((n,m))\r\n",
        "    Y = np.ones((n,1))\r\n",
        "\r\n",
        "    for i in range(len(df)-window_length):\r\n",
        "        ans = [list(df.iloc[j] for j in range(i, i+window_length))]\r\n",
        "        ans = np.array(ans).flatten()\r\n",
        "        X[i] = ans\r\n",
        "        Y[i] = 1 if df.Close[i+window_length+predict_day_length-1] - df.Close[i+window_length-1] > 0 else 0\r\n",
        "      \r\n",
        "    return [X,Y]"
      ],
      "execution_count": 9,
      "outputs": []
    },
    {
      "cell_type": "markdown",
      "metadata": {
        "id": "BioUWTR39PKo"
      },
      "source": [
        "Method that trains the model and calculates the accuracy of the model."
      ]
    },
    {
      "cell_type": "code",
      "metadata": {
        "id": "CaFBpa3S-H5W"
      },
      "source": [
        "def getTrainTestSplit(X, Y, breakoff):\r\n",
        "  train_size = int(len(X) * breakoff)\r\n",
        "  dataArray = df.to_numpy()\r\n",
        "  X_train = X[:train_size]\r\n",
        "  y_train = Y[:train_size]\r\n",
        "  X_test = X[train_size:]\r\n",
        "  y_test = Y[train_size:]\r\n",
        "  return (X_train, X_test, y_train, y_test)"
      ],
      "execution_count": 10,
      "outputs": []
    },
    {
      "cell_type": "code",
      "metadata": {
        "id": "lFew6ii5MB3b"
      },
      "source": [
        "def train_and_test(df,window_length,accurarys,reports):\r\n",
        "    X, Y = get_X_and_Y(df, window_length=window_length)\r\n",
        "    Y = Y.flatten()\r\n",
        "    scaler = preprocessing.StandardScaler()\r\n",
        "    scaler.fit_transform(X)\r\n",
        "    X_train, X_test, Y_train, Y_test = getTrainTestSplit(X, Y, 0.75)\r\n",
        "\r\n",
        "    for kernel_arg in ['rbf', 'poly', 'linear']:\r\n",
        "        clf = svm.SVC(kernel=kernel_arg, max_iter=5000)\r\n",
        "        clf.fit(X_train, Y_train)\r\n",
        "        y_predict = clf.predict(X_test)\r\n",
        "\r\n",
        "        accurary = clf.score(X_test, Y_test)\r\n",
        "        report = classification_report(Y_test, y_predict, target_names = ['Drop','Up'])\r\n",
        "\r\n",
        "        if window_length in accurarys:\r\n",
        "            accurarys[window_length].append(accurary)\r\n",
        "            reports[window_length].append(report)\r\n",
        "        else: \r\n",
        "            accurarys[window_length] = [accurary]\r\n",
        "            reports[window_length] = [report]\r\n",
        "            \r\n",
        "        print('The Accurary of %s : %f'%(kernel_arg,clf.score(X_test, Y_test)))\r\n",
        "        print(report)"
      ],
      "execution_count": 11,
      "outputs": []
    },
    {
      "cell_type": "markdown",
      "metadata": {
        "id": "qjKiiSa8PSC0"
      },
      "source": [
        "This is the function, that plays as main for our SVM model."
      ]
    },
    {
      "cell_type": "code",
      "metadata": {
        "id": "B8VV2MQLKEuX"
      },
      "source": [
        "def run_SVM(df, name):\r\n",
        "  new_df = create_df_copy(df)\r\n",
        "\r\n",
        "  create_plt(new_df, name)\r\n",
        "\r\n",
        "  new_df = new_df.set_index('Date')\r\n",
        "  window_lengths = [7,14,21,30,60,90,120,150,180]\r\n",
        "  accurarys = {}\r\n",
        "  reports ={}\r\n",
        "\r\n",
        "  for length in window_lengths:\r\n",
        "      print('window_length:',length)\r\n",
        "      train_and_test(new_df, length, accurarys, reports)"
      ],
      "execution_count": 12,
      "outputs": []
    },
    {
      "cell_type": "markdown",
      "metadata": {
        "id": "C-7MaRmsPSw6"
      },
      "source": [
        "Running the SVM model for all of our datasets"
      ]
    },
    {
      "cell_type": "code",
      "metadata": {
        "id": "qOQN97r6aerY",
        "colab": {
          "base_uri": "https://localhost:8080/",
          "height": 1000
        },
        "outputId": "fdfa8227-e3a6-475a-b48f-82f69e2cf51f"
      },
      "source": [
        "names = [\"Amazon\", \"Google\", \"Apple\", \"Microsoft\", \"Samsung\"]\r\n",
        "names_idx = 0\r\n",
        "\r\n",
        "for df in dataframe_list:\r\n",
        "  run_SVM(df, names[names_idx])\r\n",
        "  names_idx += 1"
      ],
      "execution_count": 13,
      "outputs": [
        {
          "output_type": "display_data",
          "data": {
            "image/png": "[encoded data removed]",
            "text/plain": [
              "<Figure size 432x288 with 1 Axes>"
            ]
          },
          "metadata": {
            "tags": [],
            "needs_background": "light"
          }
        },
        {
          "output_type": "stream",
          "text": [
            "window_length: 7\n"
          ],
          "name": "stdout"
        },
        {
          "output_type": "stream",
          "text": [
            "/usr/local/lib/python3.6/dist-packages/sklearn/metrics/_classification.py:1272: UndefinedMetricWarning: Precision and F-score are ill-defined and being set to 0.0 in labels with no predicted samples. Use `zero_division` parameter to control this behavior.\n",
            "  _warn_prf(average, modifier, msg_start, len(result))\n"
          ],
          "name": "stderr"
        },
        {
          "output_type": "stream",
          "text": [
            "The Accurary of rbf : 0.467754\n",
            "              precision    recall  f1-score   support\n",
            "\n",
            "        Drop       0.47      1.00      0.64       602\n",
            "          Up       0.00      0.00      0.00       685\n",
            "\n",
            "    accuracy                           0.47      1287\n",
            "   macro avg       0.23      0.50      0.32      1287\n",
            "weighted avg       0.22      0.47      0.30      1287\n",
            "\n"
          ],
          "name": "stdout"
        },
        {
          "output_type": "stream",
          "text": [
            "/usr/local/lib/python3.6/dist-packages/sklearn/svm/_base.py:231: ConvergenceWarning: Solver terminated early (max_iter=5000).  Consider pre-processing your data with StandardScaler or MinMaxScaler.\n",
            "  % self.max_iter, ConvergenceWarning)\n",
            "/usr/local/lib/python3.6/dist-packages/sklearn/metrics/_classification.py:1272: UndefinedMetricWarning: Precision and F-score are ill-defined and being set to 0.0 in labels with no predicted samples. Use `zero_division` parameter to control this behavior.\n",
            "  _warn_prf(average, modifier, msg_start, len(result))\n"
          ],
          "name": "stderr"
        },
        {
          "output_type": "stream",
          "text": [
            "The Accurary of poly : 0.532246\n",
            "              precision    recall  f1-score   support\n",
            "\n",
            "        Drop       0.00      0.00      0.00       602\n",
            "          Up       0.53      1.00      0.69       685\n",
            "\n",
            "    accuracy                           0.53      1287\n",
            "   macro avg       0.27      0.50      0.35      1287\n",
            "weighted avg       0.28      0.53      0.37      1287\n",
            "\n"
          ],
          "name": "stdout"
        },
        {
          "output_type": "stream",
          "text": [
            "/usr/local/lib/python3.6/dist-packages/sklearn/svm/_base.py:231: ConvergenceWarning: Solver terminated early (max_iter=5000).  Consider pre-processing your data with StandardScaler or MinMaxScaler.\n",
            "  % self.max_iter, ConvergenceWarning)\n"
          ],
          "name": "stderr"
        },
        {
          "output_type": "stream",
          "text": [
            "The Accurary of linear : 0.490287\n",
            "              precision    recall  f1-score   support\n",
            "\n",
            "        Drop       0.42      0.23      0.30       602\n",
            "          Up       0.52      0.72      0.60       685\n",
            "\n",
            "    accuracy                           0.49      1287\n",
            "   macro avg       0.47      0.47      0.45      1287\n",
            "weighted avg       0.47      0.49      0.46      1287\n",
            "\n",
            "window_length: 14\n",
            "The Accurary of rbf : 0.467704\n",
            "              precision    recall  f1-score   support\n",
            "\n",
            "        Drop       0.47      1.00      0.64       601\n",
            "          Up       0.50      0.00      0.01       684\n",
            "\n",
            "    accuracy                           0.47      1285\n",
            "   macro avg       0.48      0.50      0.32      1285\n",
            "weighted avg       0.48      0.47      0.30      1285\n",
            "\n"
          ],
          "name": "stdout"
        },
        {
          "output_type": "stream",
          "text": [
            "/usr/local/lib/python3.6/dist-packages/sklearn/svm/_base.py:231: ConvergenceWarning: Solver terminated early (max_iter=5000).  Consider pre-processing your data with StandardScaler or MinMaxScaler.\n",
            "  % self.max_iter, ConvergenceWarning)\n",
            "/usr/local/lib/python3.6/dist-packages/sklearn/metrics/_classification.py:1272: UndefinedMetricWarning: Precision and F-score are ill-defined and being set to 0.0 in labels with no predicted samples. Use `zero_division` parameter to control this behavior.\n",
            "  _warn_prf(average, modifier, msg_start, len(result))\n"
          ],
          "name": "stderr"
        },
        {
          "output_type": "stream",
          "text": [
            "The Accurary of poly : 0.532296\n",
            "              precision    recall  f1-score   support\n",
            "\n",
            "        Drop       0.00      0.00      0.00       601\n",
            "          Up       0.53      1.00      0.69       684\n",
            "\n",
            "    accuracy                           0.53      1285\n",
            "   macro avg       0.27      0.50      0.35      1285\n",
            "weighted avg       0.28      0.53      0.37      1285\n",
            "\n"
          ],
          "name": "stdout"
        },
        {
          "output_type": "stream",
          "text": [
            "/usr/local/lib/python3.6/dist-packages/sklearn/svm/_base.py:231: ConvergenceWarning: Solver terminated early (max_iter=5000).  Consider pre-processing your data with StandardScaler or MinMaxScaler.\n",
            "  % self.max_iter, ConvergenceWarning)\n"
          ],
          "name": "stderr"
        },
        {
          "output_type": "stream",
          "text": [
            "The Accurary of linear : 0.531518\n",
            "              precision    recall  f1-score   support\n",
            "\n",
            "        Drop       0.00      0.00      0.00       601\n",
            "          Up       0.53      1.00      0.69       684\n",
            "\n",
            "    accuracy                           0.53      1285\n",
            "   macro avg       0.27      0.50      0.35      1285\n",
            "weighted avg       0.28      0.53      0.37      1285\n",
            "\n",
            "window_length: 21\n",
            "The Accurary of rbf : 0.466095\n",
            "              precision    recall  f1-score   support\n",
            "\n",
            "        Drop       0.47      0.99      0.63       600\n",
            "          Up       0.43      0.01      0.02       683\n",
            "\n",
            "    accuracy                           0.47      1283\n",
            "   macro avg       0.45      0.50      0.33      1283\n",
            "weighted avg       0.45      0.47      0.31      1283\n",
            "\n"
          ],
          "name": "stdout"
        },
        {
          "output_type": "stream",
          "text": [
            "/usr/local/lib/python3.6/dist-packages/sklearn/svm/_base.py:231: ConvergenceWarning: Solver terminated early (max_iter=5000).  Consider pre-processing your data with StandardScaler or MinMaxScaler.\n",
            "  % self.max_iter, ConvergenceWarning)\n",
            "/usr/local/lib/python3.6/dist-packages/sklearn/metrics/_classification.py:1272: UndefinedMetricWarning: Precision and F-score are ill-defined and being set to 0.0 in labels with no predicted samples. Use `zero_division` parameter to control this behavior.\n",
            "  _warn_prf(average, modifier, msg_start, len(result))\n"
          ],
          "name": "stderr"
        },
        {
          "output_type": "stream",
          "text": [
            "The Accurary of poly : 0.467654\n",
            "              precision    recall  f1-score   support\n",
            "\n",
            "        Drop       0.47      1.00      0.64       600\n",
            "          Up       0.00      0.00      0.00       683\n",
            "\n",
            "    accuracy                           0.47      1283\n",
            "   macro avg       0.23      0.50      0.32      1283\n",
            "weighted avg       0.22      0.47      0.30      1283\n",
            "\n"
          ],
          "name": "stdout"
        },
        {
          "output_type": "stream",
          "text": [
            "/usr/local/lib/python3.6/dist-packages/sklearn/svm/_base.py:231: ConvergenceWarning: Solver terminated early (max_iter=5000).  Consider pre-processing your data with StandardScaler or MinMaxScaler.\n",
            "  % self.max_iter, ConvergenceWarning)\n"
          ],
          "name": "stderr"
        },
        {
          "output_type": "stream",
          "text": [
            "The Accurary of linear : 0.534684\n",
            "              precision    recall  f1-score   support\n",
            "\n",
            "        Drop       0.67      0.01      0.02       600\n",
            "          Up       0.53      1.00      0.69       683\n",
            "\n",
            "    accuracy                           0.53      1283\n",
            "   macro avg       0.60      0.50      0.36      1283\n",
            "weighted avg       0.60      0.53      0.38      1283\n",
            "\n",
            "window_length: 30\n",
            "The Accurary of rbf : 0.469165\n",
            "              precision    recall  f1-score   support\n",
            "\n",
            "        Drop       0.47      0.99      0.64       599\n",
            "          Up       0.60      0.01      0.02       682\n",
            "\n",
            "    accuracy                           0.47      1281\n",
            "   macro avg       0.53      0.50      0.33      1281\n",
            "weighted avg       0.54      0.47      0.31      1281\n",
            "\n"
          ],
          "name": "stdout"
        },
        {
          "output_type": "stream",
          "text": [
            "/usr/local/lib/python3.6/dist-packages/sklearn/svm/_base.py:231: ConvergenceWarning: Solver terminated early (max_iter=5000).  Consider pre-processing your data with StandardScaler or MinMaxScaler.\n",
            "  % self.max_iter, ConvergenceWarning)\n",
            "/usr/local/lib/python3.6/dist-packages/sklearn/metrics/_classification.py:1272: UndefinedMetricWarning: Precision and F-score are ill-defined and being set to 0.0 in labels with no predicted samples. Use `zero_division` parameter to control this behavior.\n",
            "  _warn_prf(average, modifier, msg_start, len(result))\n"
          ],
          "name": "stderr"
        },
        {
          "output_type": "stream",
          "text": [
            "The Accurary of poly : 0.467603\n",
            "              precision    recall  f1-score   support\n",
            "\n",
            "        Drop       0.47      1.00      0.64       599\n",
            "          Up       0.00      0.00      0.00       682\n",
            "\n",
            "    accuracy                           0.47      1281\n",
            "   macro avg       0.23      0.50      0.32      1281\n",
            "weighted avg       0.22      0.47      0.30      1281\n",
            "\n"
          ],
          "name": "stdout"
        },
        {
          "output_type": "stream",
          "text": [
            "/usr/local/lib/python3.6/dist-packages/sklearn/svm/_base.py:231: ConvergenceWarning: Solver terminated early (max_iter=5000).  Consider pre-processing your data with StandardScaler or MinMaxScaler.\n",
            "  % self.max_iter, ConvergenceWarning)\n",
            "/usr/local/lib/python3.6/dist-packages/sklearn/metrics/_classification.py:1272: UndefinedMetricWarning: Precision and F-score are ill-defined and being set to 0.0 in labels with no predicted samples. Use `zero_division` parameter to control this behavior.\n",
            "  _warn_prf(average, modifier, msg_start, len(result))\n"
          ],
          "name": "stderr"
        },
        {
          "output_type": "stream",
          "text": [
            "The Accurary of linear : 0.532397\n",
            "              precision    recall  f1-score   support\n",
            "\n",
            "        Drop       0.00      0.00      0.00       599\n",
            "          Up       0.53      1.00      0.69       682\n",
            "\n",
            "    accuracy                           0.53      1281\n",
            "   macro avg       0.27      0.50      0.35      1281\n",
            "weighted avg       0.28      0.53      0.37      1281\n",
            "\n",
            "window_length: 60\n",
            "The Accurary of rbf : 0.466248\n",
            "              precision    recall  f1-score   support\n",
            "\n",
            "        Drop       0.47      0.99      0.63       594\n",
            "          Up       0.50      0.01      0.02       680\n",
            "\n",
            "    accuracy                           0.47      1274\n",
            "   macro avg       0.48      0.50      0.33      1274\n",
            "weighted avg       0.48      0.47      0.30      1274\n",
            "\n"
          ],
          "name": "stdout"
        },
        {
          "output_type": "stream",
          "text": [
            "/usr/local/lib/python3.6/dist-packages/sklearn/svm/_base.py:231: ConvergenceWarning: Solver terminated early (max_iter=5000).  Consider pre-processing your data with StandardScaler or MinMaxScaler.\n",
            "  % self.max_iter, ConvergenceWarning)\n",
            "/usr/local/lib/python3.6/dist-packages/sklearn/metrics/_classification.py:1272: UndefinedMetricWarning: Precision and F-score are ill-defined and being set to 0.0 in labels with no predicted samples. Use `zero_division` parameter to control this behavior.\n",
            "  _warn_prf(average, modifier, msg_start, len(result))\n"
          ],
          "name": "stderr"
        },
        {
          "output_type": "stream",
          "text": [
            "The Accurary of poly : 0.466248\n",
            "              precision    recall  f1-score   support\n",
            "\n",
            "        Drop       0.47      1.00      0.64       594\n",
            "          Up       0.00      0.00      0.00       680\n",
            "\n",
            "    accuracy                           0.47      1274\n",
            "   macro avg       0.23      0.50      0.32      1274\n",
            "weighted avg       0.22      0.47      0.30      1274\n",
            "\n"
          ],
          "name": "stdout"
        },
        {
          "output_type": "stream",
          "text": [
            "/usr/local/lib/python3.6/dist-packages/sklearn/svm/_base.py:231: ConvergenceWarning: Solver terminated early (max_iter=5000).  Consider pre-processing your data with StandardScaler or MinMaxScaler.\n",
            "  % self.max_iter, ConvergenceWarning)\n",
            "/usr/local/lib/python3.6/dist-packages/sklearn/metrics/_classification.py:1272: UndefinedMetricWarning: Precision and F-score are ill-defined and being set to 0.0 in labels with no predicted samples. Use `zero_division` parameter to control this behavior.\n",
            "  _warn_prf(average, modifier, msg_start, len(result))\n"
          ],
          "name": "stderr"
        },
        {
          "output_type": "stream",
          "text": [
            "The Accurary of linear : 0.533752\n",
            "              precision    recall  f1-score   support\n",
            "\n",
            "        Drop       0.00      0.00      0.00       594\n",
            "          Up       0.53      1.00      0.70       680\n",
            "\n",
            "    accuracy                           0.53      1274\n",
            "   macro avg       0.27      0.50      0.35      1274\n",
            "weighted avg       0.28      0.53      0.37      1274\n",
            "\n",
            "window_length: 90\n",
            "The Accurary of rbf : 0.460506\n",
            "              precision    recall  f1-score   support\n",
            "\n",
            "        Drop       0.46      0.99      0.63       588\n",
            "          Up       0.27      0.00      0.01       678\n",
            "\n",
            "    accuracy                           0.46      1266\n",
            "   macro avg       0.37      0.50      0.32      1266\n",
            "weighted avg       0.36      0.46      0.30      1266\n",
            "\n"
          ],
          "name": "stdout"
        },
        {
          "output_type": "stream",
          "text": [
            "/usr/local/lib/python3.6/dist-packages/sklearn/svm/_base.py:231: ConvergenceWarning: Solver terminated early (max_iter=5000).  Consider pre-processing your data with StandardScaler or MinMaxScaler.\n",
            "  % self.max_iter, ConvergenceWarning)\n",
            "/usr/local/lib/python3.6/dist-packages/sklearn/metrics/_classification.py:1272: UndefinedMetricWarning: Precision and F-score are ill-defined and being set to 0.0 in labels with no predicted samples. Use `zero_division` parameter to control this behavior.\n",
            "  _warn_prf(average, modifier, msg_start, len(result))\n"
          ],
          "name": "stderr"
        },
        {
          "output_type": "stream",
          "text": [
            "The Accurary of poly : 0.464455\n",
            "              precision    recall  f1-score   support\n",
            "\n",
            "        Drop       0.46      1.00      0.63       588\n",
            "          Up       0.00      0.00      0.00       678\n",
            "\n",
            "    accuracy                           0.46      1266\n",
            "   macro avg       0.23      0.50      0.32      1266\n",
            "weighted avg       0.22      0.46      0.29      1266\n",
            "\n"
          ],
          "name": "stdout"
        },
        {
          "output_type": "stream",
          "text": [
            "/usr/local/lib/python3.6/dist-packages/sklearn/svm/_base.py:231: ConvergenceWarning: Solver terminated early (max_iter=5000).  Consider pre-processing your data with StandardScaler or MinMaxScaler.\n",
            "  % self.max_iter, ConvergenceWarning)\n",
            "/usr/local/lib/python3.6/dist-packages/sklearn/metrics/_classification.py:1272: UndefinedMetricWarning: Precision and F-score are ill-defined and being set to 0.0 in labels with no predicted samples. Use `zero_division` parameter to control this behavior.\n",
            "  _warn_prf(average, modifier, msg_start, len(result))\n"
          ],
          "name": "stderr"
        },
        {
          "output_type": "stream",
          "text": [
            "The Accurary of linear : 0.535545\n",
            "              precision    recall  f1-score   support\n",
            "\n",
            "        Drop       0.00      0.00      0.00       588\n",
            "          Up       0.54      1.00      0.70       678\n",
            "\n",
            "    accuracy                           0.54      1266\n",
            "   macro avg       0.27      0.50      0.35      1266\n",
            "weighted avg       0.29      0.54      0.37      1266\n",
            "\n",
            "window_length: 120\n",
            "The Accurary of rbf : 0.466243\n",
            "              precision    recall  f1-score   support\n",
            "\n",
            "        Drop       0.46      0.98      0.63       585\n",
            "          Up       0.55      0.02      0.03       674\n",
            "\n",
            "    accuracy                           0.47      1259\n",
            "   macro avg       0.51      0.50      0.33      1259\n",
            "weighted avg       0.51      0.47      0.31      1259\n",
            "\n"
          ],
          "name": "stdout"
        },
        {
          "output_type": "stream",
          "text": [
            "/usr/local/lib/python3.6/dist-packages/sklearn/svm/_base.py:231: ConvergenceWarning: Solver terminated early (max_iter=5000).  Consider pre-processing your data with StandardScaler or MinMaxScaler.\n",
            "  % self.max_iter, ConvergenceWarning)\n",
            "/usr/local/lib/python3.6/dist-packages/sklearn/metrics/_classification.py:1272: UndefinedMetricWarning: Precision and F-score are ill-defined and being set to 0.0 in labels with no predicted samples. Use `zero_division` parameter to control this behavior.\n",
            "  _warn_prf(average, modifier, msg_start, len(result))\n"
          ],
          "name": "stderr"
        },
        {
          "output_type": "stream",
          "text": [
            "The Accurary of poly : 0.464654\n",
            "              precision    recall  f1-score   support\n",
            "\n",
            "        Drop       0.46      1.00      0.63       585\n",
            "          Up       0.00      0.00      0.00       674\n",
            "\n",
            "    accuracy                           0.46      1259\n",
            "   macro avg       0.23      0.50      0.32      1259\n",
            "weighted avg       0.22      0.46      0.29      1259\n",
            "\n"
          ],
          "name": "stdout"
        },
        {
          "output_type": "stream",
          "text": [
            "/usr/local/lib/python3.6/dist-packages/sklearn/svm/_base.py:231: ConvergenceWarning: Solver terminated early (max_iter=5000).  Consider pre-processing your data with StandardScaler or MinMaxScaler.\n",
            "  % self.max_iter, ConvergenceWarning)\n",
            "/usr/local/lib/python3.6/dist-packages/sklearn/metrics/_classification.py:1272: UndefinedMetricWarning: Precision and F-score are ill-defined and being set to 0.0 in labels with no predicted samples. Use `zero_division` parameter to control this behavior.\n",
            "  _warn_prf(average, modifier, msg_start, len(result))\n"
          ],
          "name": "stderr"
        },
        {
          "output_type": "stream",
          "text": [
            "The Accurary of linear : 0.535346\n",
            "              precision    recall  f1-score   support\n",
            "\n",
            "        Drop       0.00      0.00      0.00       585\n",
            "          Up       0.54      1.00      0.70       674\n",
            "\n",
            "    accuracy                           0.54      1259\n",
            "   macro avg       0.27      0.50      0.35      1259\n",
            "weighted avg       0.29      0.54      0.37      1259\n",
            "\n",
            "window_length: 150\n",
            "The Accurary of rbf : 0.468425\n",
            "              precision    recall  f1-score   support\n",
            "\n",
            "        Drop       0.47      0.94      0.62       583\n",
            "          Up       0.52      0.06      0.10       668\n",
            "\n",
            "    accuracy                           0.47      1251\n",
            "   macro avg       0.49      0.50      0.36      1251\n",
            "weighted avg       0.49      0.47      0.35      1251\n",
            "\n"
          ],
          "name": "stdout"
        },
        {
          "output_type": "stream",
          "text": [
            "/usr/local/lib/python3.6/dist-packages/sklearn/svm/_base.py:231: ConvergenceWarning: Solver terminated early (max_iter=5000).  Consider pre-processing your data with StandardScaler or MinMaxScaler.\n",
            "  % self.max_iter, ConvergenceWarning)\n",
            "/usr/local/lib/python3.6/dist-packages/sklearn/metrics/_classification.py:1272: UndefinedMetricWarning: Precision and F-score are ill-defined and being set to 0.0 in labels with no predicted samples. Use `zero_division` parameter to control this behavior.\n",
            "  _warn_prf(average, modifier, msg_start, len(result))\n"
          ],
          "name": "stderr"
        },
        {
          "output_type": "stream",
          "text": [
            "The Accurary of poly : 0.466027\n",
            "              precision    recall  f1-score   support\n",
            "\n",
            "        Drop       0.47      1.00      0.64       583\n",
            "          Up       0.00      0.00      0.00       668\n",
            "\n",
            "    accuracy                           0.47      1251\n",
            "   macro avg       0.23      0.50      0.32      1251\n",
            "weighted avg       0.22      0.47      0.30      1251\n",
            "\n"
          ],
          "name": "stdout"
        },
        {
          "output_type": "stream",
          "text": [
            "/usr/local/lib/python3.6/dist-packages/sklearn/svm/_base.py:231: ConvergenceWarning: Solver terminated early (max_iter=5000).  Consider pre-processing your data with StandardScaler or MinMaxScaler.\n",
            "  % self.max_iter, ConvergenceWarning)\n",
            "/usr/local/lib/python3.6/dist-packages/sklearn/metrics/_classification.py:1272: UndefinedMetricWarning: Precision and F-score are ill-defined and being set to 0.0 in labels with no predicted samples. Use `zero_division` parameter to control this behavior.\n",
            "  _warn_prf(average, modifier, msg_start, len(result))\n"
          ],
          "name": "stderr"
        },
        {
          "output_type": "stream",
          "text": [
            "The Accurary of linear : 0.533973\n",
            "              precision    recall  f1-score   support\n",
            "\n",
            "        Drop       0.00      0.00      0.00       583\n",
            "          Up       0.53      1.00      0.70       668\n",
            "\n",
            "    accuracy                           0.53      1251\n",
            "   macro avg       0.27      0.50      0.35      1251\n",
            "weighted avg       0.29      0.53      0.37      1251\n",
            "\n",
            "window_length: 180\n",
            "The Accurary of rbf : 0.506431\n",
            "              precision    recall  f1-score   support\n",
            "\n",
            "        Drop       0.47      0.40      0.43       581\n",
            "          Up       0.53      0.60      0.56       663\n",
            "\n",
            "    accuracy                           0.51      1244\n",
            "   macro avg       0.50      0.50      0.50      1244\n",
            "weighted avg       0.50      0.51      0.50      1244\n",
            "\n"
          ],
          "name": "stdout"
        },
        {
          "output_type": "stream",
          "text": [
            "/usr/local/lib/python3.6/dist-packages/sklearn/svm/_base.py:231: ConvergenceWarning: Solver terminated early (max_iter=5000).  Consider pre-processing your data with StandardScaler or MinMaxScaler.\n",
            "  % self.max_iter, ConvergenceWarning)\n",
            "/usr/local/lib/python3.6/dist-packages/sklearn/metrics/_classification.py:1272: UndefinedMetricWarning: Precision and F-score are ill-defined and being set to 0.0 in labels with no predicted samples. Use `zero_division` parameter to control this behavior.\n",
            "  _warn_prf(average, modifier, msg_start, len(result))\n"
          ],
          "name": "stderr"
        },
        {
          "output_type": "stream",
          "text": [
            "The Accurary of poly : 0.467042\n",
            "              precision    recall  f1-score   support\n",
            "\n",
            "        Drop       0.47      1.00      0.64       581\n",
            "          Up       0.00      0.00      0.00       663\n",
            "\n",
            "    accuracy                           0.47      1244\n",
            "   macro avg       0.23      0.50      0.32      1244\n",
            "weighted avg       0.22      0.47      0.30      1244\n",
            "\n"
          ],
          "name": "stdout"
        },
        {
          "output_type": "stream",
          "text": [
            "/usr/local/lib/python3.6/dist-packages/sklearn/svm/_base.py:231: ConvergenceWarning: Solver terminated early (max_iter=5000).  Consider pre-processing your data with StandardScaler or MinMaxScaler.\n",
            "  % self.max_iter, ConvergenceWarning)\n",
            "/usr/local/lib/python3.6/dist-packages/sklearn/metrics/_classification.py:1272: UndefinedMetricWarning: Precision and F-score are ill-defined and being set to 0.0 in labels with no predicted samples. Use `zero_division` parameter to control this behavior.\n",
            "  _warn_prf(average, modifier, msg_start, len(result))\n"
          ],
          "name": "stderr"
        },
        {
          "output_type": "stream",
          "text": [
            "The Accurary of linear : 0.532958\n",
            "              precision    recall  f1-score   support\n",
            "\n",
            "        Drop       0.00      0.00      0.00       581\n",
            "          Up       0.53      1.00      0.70       663\n",
            "\n",
            "    accuracy                           0.53      1244\n",
            "   macro avg       0.27      0.50      0.35      1244\n",
            "weighted avg       0.28      0.53      0.37      1244\n",
            "\n"
          ],
          "name": "stdout"
        },
        {
          "output_type": "display_data",
          "data": {
            "image/png": "[encoded data removed]",
            "text/plain": [
              "<Figure size 432x288 with 1 Axes>"
            ]
          },
          "metadata": {
            "tags": [],
            "needs_background": "light"
          }
        },
        {
          "output_type": "stream",
          "text": [
            "window_length: 7\n"
          ],
          "name": "stdout"
        },
        {
          "output_type": "stream",
          "text": [
            "/usr/local/lib/python3.6/dist-packages/sklearn/metrics/_classification.py:1272: UndefinedMetricWarning: Precision and F-score are ill-defined and being set to 0.0 in labels with no predicted samples. Use `zero_division` parameter to control this behavior.\n",
            "  _warn_prf(average, modifier, msg_start, len(result))\n"
          ],
          "name": "stderr"
        },
        {
          "output_type": "stream",
          "text": [
            "The Accurary of rbf : 0.532452\n",
            "              precision    recall  f1-score   support\n",
            "\n",
            "        Drop       0.00      0.00      0.00       389\n",
            "          Up       0.53      1.00      0.69       443\n",
            "\n",
            "    accuracy                           0.53       832\n",
            "   macro avg       0.27      0.50      0.35       832\n",
            "weighted avg       0.28      0.53      0.37       832\n",
            "\n"
          ],
          "name": "stdout"
        },
        {
          "output_type": "stream",
          "text": [
            "/usr/local/lib/python3.6/dist-packages/sklearn/svm/_base.py:231: ConvergenceWarning: Solver terminated early (max_iter=5000).  Consider pre-processing your data with StandardScaler or MinMaxScaler.\n",
            "  % self.max_iter, ConvergenceWarning)\n",
            "/usr/local/lib/python3.6/dist-packages/sklearn/metrics/_classification.py:1272: UndefinedMetricWarning: Precision and F-score are ill-defined and being set to 0.0 in labels with no predicted samples. Use `zero_division` parameter to control this behavior.\n",
            "  _warn_prf(average, modifier, msg_start, len(result))\n"
          ],
          "name": "stderr"
        },
        {
          "output_type": "stream",
          "text": [
            "The Accurary of poly : 0.532452\n",
            "              precision    recall  f1-score   support\n",
            "\n",
            "        Drop       0.00      0.00      0.00       389\n",
            "          Up       0.53      1.00      0.69       443\n",
            "\n",
            "    accuracy                           0.53       832\n",
            "   macro avg       0.27      0.50      0.35       832\n",
            "weighted avg       0.28      0.53      0.37       832\n",
            "\n",
            "The Accurary of linear : 0.532452\n",
            "              precision    recall  f1-score   support\n",
            "\n",
            "        Drop       0.00      0.00      0.00       389\n",
            "          Up       0.53      1.00      0.69       443\n",
            "\n",
            "    accuracy                           0.53       832\n",
            "   macro avg       0.27      0.50      0.35       832\n",
            "weighted avg       0.28      0.53      0.37       832\n",
            "\n",
            "window_length: 14\n"
          ],
          "name": "stdout"
        },
        {
          "output_type": "stream",
          "text": [
            "/usr/local/lib/python3.6/dist-packages/sklearn/svm/_base.py:231: ConvergenceWarning: Solver terminated early (max_iter=5000).  Consider pre-processing your data with StandardScaler or MinMaxScaler.\n",
            "  % self.max_iter, ConvergenceWarning)\n",
            "/usr/local/lib/python3.6/dist-packages/sklearn/metrics/_classification.py:1272: UndefinedMetricWarning: Precision and F-score are ill-defined and being set to 0.0 in labels with no predicted samples. Use `zero_division` parameter to control this behavior.\n",
            "  _warn_prf(average, modifier, msg_start, len(result))\n",
            "/usr/local/lib/python3.6/dist-packages/sklearn/metrics/_classification.py:1272: UndefinedMetricWarning: Precision and F-score are ill-defined and being set to 0.0 in labels with no predicted samples. Use `zero_division` parameter to control this behavior.\n",
            "  _warn_prf(average, modifier, msg_start, len(result))\n"
          ],
          "name": "stderr"
        },
        {
          "output_type": "stream",
          "text": [
            "The Accurary of rbf : 0.532530\n",
            "              precision    recall  f1-score   support\n",
            "\n",
            "        Drop       0.00      0.00      0.00       388\n",
            "          Up       0.53      1.00      0.69       442\n",
            "\n",
            "    accuracy                           0.53       830\n",
            "   macro avg       0.27      0.50      0.35       830\n",
            "weighted avg       0.28      0.53      0.37       830\n",
            "\n"
          ],
          "name": "stdout"
        },
        {
          "output_type": "stream",
          "text": [
            "/usr/local/lib/python3.6/dist-packages/sklearn/svm/_base.py:231: ConvergenceWarning: Solver terminated early (max_iter=5000).  Consider pre-processing your data with StandardScaler or MinMaxScaler.\n",
            "  % self.max_iter, ConvergenceWarning)\n",
            "/usr/local/lib/python3.6/dist-packages/sklearn/metrics/_classification.py:1272: UndefinedMetricWarning: Precision and F-score are ill-defined and being set to 0.0 in labels with no predicted samples. Use `zero_division` parameter to control this behavior.\n",
            "  _warn_prf(average, modifier, msg_start, len(result))\n"
          ],
          "name": "stderr"
        },
        {
          "output_type": "stream",
          "text": [
            "The Accurary of poly : 0.532530\n",
            "              precision    recall  f1-score   support\n",
            "\n",
            "        Drop       0.00      0.00      0.00       388\n",
            "          Up       0.53      1.00      0.69       442\n",
            "\n",
            "    accuracy                           0.53       830\n",
            "   macro avg       0.27      0.50      0.35       830\n",
            "weighted avg       0.28      0.53      0.37       830\n",
            "\n"
          ],
          "name": "stdout"
        },
        {
          "output_type": "stream",
          "text": [
            "/usr/local/lib/python3.6/dist-packages/sklearn/svm/_base.py:231: ConvergenceWarning: Solver terminated early (max_iter=5000).  Consider pre-processing your data with StandardScaler or MinMaxScaler.\n",
            "  % self.max_iter, ConvergenceWarning)\n",
            "/usr/local/lib/python3.6/dist-packages/sklearn/metrics/_classification.py:1272: UndefinedMetricWarning: Precision and F-score are ill-defined and being set to 0.0 in labels with no predicted samples. Use `zero_division` parameter to control this behavior.\n",
            "  _warn_prf(average, modifier, msg_start, len(result))\n"
          ],
          "name": "stderr"
        },
        {
          "output_type": "stream",
          "text": [
            "The Accurary of linear : 0.532530\n",
            "              precision    recall  f1-score   support\n",
            "\n",
            "        Drop       0.00      0.00      0.00       388\n",
            "          Up       0.53      1.00      0.69       442\n",
            "\n",
            "    accuracy                           0.53       830\n",
            "   macro avg       0.27      0.50      0.35       830\n",
            "weighted avg       0.28      0.53      0.37       830\n",
            "\n",
            "window_length: 21\n"
          ],
          "name": "stdout"
        },
        {
          "output_type": "stream",
          "text": [
            "/usr/local/lib/python3.6/dist-packages/sklearn/metrics/_classification.py:1272: UndefinedMetricWarning: Precision and F-score are ill-defined and being set to 0.0 in labels with no predicted samples. Use `zero_division` parameter to control this behavior.\n",
            "  _warn_prf(average, modifier, msg_start, len(result))\n"
          ],
          "name": "stderr"
        },
        {
          "output_type": "stream",
          "text": [
            "The Accurary of rbf : 0.532609\n",
            "              precision    recall  f1-score   support\n",
            "\n",
            "        Drop       0.00      0.00      0.00       387\n",
            "          Up       0.53      1.00      0.70       441\n",
            "\n",
            "    accuracy                           0.53       828\n",
            "   macro avg       0.27      0.50      0.35       828\n",
            "weighted avg       0.28      0.53      0.37       828\n",
            "\n"
          ],
          "name": "stdout"
        },
        {
          "output_type": "stream",
          "text": [
            "/usr/local/lib/python3.6/dist-packages/sklearn/svm/_base.py:231: ConvergenceWarning: Solver terminated early (max_iter=5000).  Consider pre-processing your data with StandardScaler or MinMaxScaler.\n",
            "  % self.max_iter, ConvergenceWarning)\n",
            "/usr/local/lib/python3.6/dist-packages/sklearn/metrics/_classification.py:1272: UndefinedMetricWarning: Precision and F-score are ill-defined and being set to 0.0 in labels with no predicted samples. Use `zero_division` parameter to control this behavior.\n",
            "  _warn_prf(average, modifier, msg_start, len(result))\n"
          ],
          "name": "stderr"
        },
        {
          "output_type": "stream",
          "text": [
            "The Accurary of poly : 0.532609\n",
            "              precision    recall  f1-score   support\n",
            "\n",
            "        Drop       0.00      0.00      0.00       387\n",
            "          Up       0.53      1.00      0.70       441\n",
            "\n",
            "    accuracy                           0.53       828\n",
            "   macro avg       0.27      0.50      0.35       828\n",
            "weighted avg       0.28      0.53      0.37       828\n",
            "\n"
          ],
          "name": "stdout"
        },
        {
          "output_type": "stream",
          "text": [
            "/usr/local/lib/python3.6/dist-packages/sklearn/svm/_base.py:231: ConvergenceWarning: Solver terminated early (max_iter=5000).  Consider pre-processing your data with StandardScaler or MinMaxScaler.\n",
            "  % self.max_iter, ConvergenceWarning)\n",
            "/usr/local/lib/python3.6/dist-packages/sklearn/metrics/_classification.py:1272: UndefinedMetricWarning: Precision and F-score are ill-defined and being set to 0.0 in labels with no predicted samples. Use `zero_division` parameter to control this behavior.\n",
            "  _warn_prf(average, modifier, msg_start, len(result))\n"
          ],
          "name": "stderr"
        },
        {
          "output_type": "stream",
          "text": [
            "The Accurary of linear : 0.532609\n",
            "              precision    recall  f1-score   support\n",
            "\n",
            "        Drop       0.00      0.00      0.00       387\n",
            "          Up       0.53      1.00      0.70       441\n",
            "\n",
            "    accuracy                           0.53       828\n",
            "   macro avg       0.27      0.50      0.35       828\n",
            "weighted avg       0.28      0.53      0.37       828\n",
            "\n",
            "window_length: 30\n"
          ],
          "name": "stdout"
        },
        {
          "output_type": "stream",
          "text": [
            "/usr/local/lib/python3.6/dist-packages/sklearn/metrics/_classification.py:1272: UndefinedMetricWarning: Precision and F-score are ill-defined and being set to 0.0 in labels with no predicted samples. Use `zero_division` parameter to control this behavior.\n",
            "  _warn_prf(average, modifier, msg_start, len(result))\n"
          ],
          "name": "stderr"
        },
        {
          "output_type": "stream",
          "text": [
            "The Accurary of rbf : 0.532688\n",
            "              precision    recall  f1-score   support\n",
            "\n",
            "        Drop       0.00      0.00      0.00       386\n",
            "          Up       0.53      1.00      0.70       440\n",
            "\n",
            "    accuracy                           0.53       826\n",
            "   macro avg       0.27      0.50      0.35       826\n",
            "weighted avg       0.28      0.53      0.37       826\n",
            "\n"
          ],
          "name": "stdout"
        },
        {
          "output_type": "stream",
          "text": [
            "/usr/local/lib/python3.6/dist-packages/sklearn/svm/_base.py:231: ConvergenceWarning: Solver terminated early (max_iter=5000).  Consider pre-processing your data with StandardScaler or MinMaxScaler.\n",
            "  % self.max_iter, ConvergenceWarning)\n",
            "/usr/local/lib/python3.6/dist-packages/sklearn/metrics/_classification.py:1272: UndefinedMetricWarning: Precision and F-score are ill-defined and being set to 0.0 in labels with no predicted samples. Use `zero_division` parameter to control this behavior.\n",
            "  _warn_prf(average, modifier, msg_start, len(result))\n"
          ],
          "name": "stderr"
        },
        {
          "output_type": "stream",
          "text": [
            "The Accurary of poly : 0.532688\n",
            "              precision    recall  f1-score   support\n",
            "\n",
            "        Drop       0.00      0.00      0.00       386\n",
            "          Up       0.53      1.00      0.70       440\n",
            "\n",
            "    accuracy                           0.53       826\n",
            "   macro avg       0.27      0.50      0.35       826\n",
            "weighted avg       0.28      0.53      0.37       826\n",
            "\n"
          ],
          "name": "stdout"
        },
        {
          "output_type": "stream",
          "text": [
            "/usr/local/lib/python3.6/dist-packages/sklearn/svm/_base.py:231: ConvergenceWarning: Solver terminated early (max_iter=5000).  Consider pre-processing your data with StandardScaler or MinMaxScaler.\n",
            "  % self.max_iter, ConvergenceWarning)\n",
            "/usr/local/lib/python3.6/dist-packages/sklearn/metrics/_classification.py:1272: UndefinedMetricWarning: Precision and F-score are ill-defined and being set to 0.0 in labels with no predicted samples. Use `zero_division` parameter to control this behavior.\n",
            "  _warn_prf(average, modifier, msg_start, len(result))\n"
          ],
          "name": "stderr"
        },
        {
          "output_type": "stream",
          "text": [
            "The Accurary of linear : 0.532688\n",
            "              precision    recall  f1-score   support\n",
            "\n",
            "        Drop       0.00      0.00      0.00       386\n",
            "          Up       0.53      1.00      0.70       440\n",
            "\n",
            "    accuracy                           0.53       826\n",
            "   macro avg       0.27      0.50      0.35       826\n",
            "weighted avg       0.28      0.53      0.37       826\n",
            "\n",
            "window_length: 60\n"
          ],
          "name": "stdout"
        },
        {
          "output_type": "stream",
          "text": [
            "/usr/local/lib/python3.6/dist-packages/sklearn/metrics/_classification.py:1272: UndefinedMetricWarning: Precision and F-score are ill-defined and being set to 0.0 in labels with no predicted samples. Use `zero_division` parameter to control this behavior.\n",
            "  _warn_prf(average, modifier, msg_start, len(result))\n"
          ],
          "name": "stderr"
        },
        {
          "output_type": "stream",
          "text": [
            "The Accurary of rbf : 0.533578\n",
            "              precision    recall  f1-score   support\n",
            "\n",
            "        Drop       0.00      0.00      0.00       382\n",
            "          Up       0.53      1.00      0.70       437\n",
            "\n",
            "    accuracy                           0.53       819\n",
            "   macro avg       0.27      0.50      0.35       819\n",
            "weighted avg       0.28      0.53      0.37       819\n",
            "\n"
          ],
          "name": "stdout"
        },
        {
          "output_type": "stream",
          "text": [
            "/usr/local/lib/python3.6/dist-packages/sklearn/svm/_base.py:231: ConvergenceWarning: Solver terminated early (max_iter=5000).  Consider pre-processing your data with StandardScaler or MinMaxScaler.\n",
            "  % self.max_iter, ConvergenceWarning)\n",
            "/usr/local/lib/python3.6/dist-packages/sklearn/metrics/_classification.py:1272: UndefinedMetricWarning: Precision and F-score are ill-defined and being set to 0.0 in labels with no predicted samples. Use `zero_division` parameter to control this behavior.\n",
            "  _warn_prf(average, modifier, msg_start, len(result))\n"
          ],
          "name": "stderr"
        },
        {
          "output_type": "stream",
          "text": [
            "The Accurary of poly : 0.533578\n",
            "              precision    recall  f1-score   support\n",
            "\n",
            "        Drop       0.00      0.00      0.00       382\n",
            "          Up       0.53      1.00      0.70       437\n",
            "\n",
            "    accuracy                           0.53       819\n",
            "   macro avg       0.27      0.50      0.35       819\n",
            "weighted avg       0.28      0.53      0.37       819\n",
            "\n"
          ],
          "name": "stdout"
        },
        {
          "output_type": "stream",
          "text": [
            "/usr/local/lib/python3.6/dist-packages/sklearn/svm/_base.py:231: ConvergenceWarning: Solver terminated early (max_iter=5000).  Consider pre-processing your data with StandardScaler or MinMaxScaler.\n",
            "  % self.max_iter, ConvergenceWarning)\n",
            "/usr/local/lib/python3.6/dist-packages/sklearn/metrics/_classification.py:1272: UndefinedMetricWarning: Precision and F-score are ill-defined and being set to 0.0 in labels with no predicted samples. Use `zero_division` parameter to control this behavior.\n",
            "  _warn_prf(average, modifier, msg_start, len(result))\n"
          ],
          "name": "stderr"
        },
        {
          "output_type": "stream",
          "text": [
            "The Accurary of linear : 0.533578\n",
            "              precision    recall  f1-score   support\n",
            "\n",
            "        Drop       0.00      0.00      0.00       382\n",
            "          Up       0.53      1.00      0.70       437\n",
            "\n",
            "    accuracy                           0.53       819\n",
            "   macro avg       0.27      0.50      0.35       819\n",
            "weighted avg       0.28      0.53      0.37       819\n",
            "\n",
            "window_length: 90\n"
          ],
          "name": "stdout"
        },
        {
          "output_type": "stream",
          "text": [
            "/usr/local/lib/python3.6/dist-packages/sklearn/metrics/_classification.py:1272: UndefinedMetricWarning: Precision and F-score are ill-defined and being set to 0.0 in labels with no predicted samples. Use `zero_division` parameter to control this behavior.\n",
            "  _warn_prf(average, modifier, msg_start, len(result))\n"
          ],
          "name": "stderr"
        },
        {
          "output_type": "stream",
          "text": [
            "The Accurary of rbf : 0.533909\n",
            "              precision    recall  f1-score   support\n",
            "\n",
            "        Drop       0.00      0.00      0.00       378\n",
            "          Up       0.53      1.00      0.70       433\n",
            "\n",
            "    accuracy                           0.53       811\n",
            "   macro avg       0.27      0.50      0.35       811\n",
            "weighted avg       0.29      0.53      0.37       811\n",
            "\n"
          ],
          "name": "stdout"
        },
        {
          "output_type": "stream",
          "text": [
            "/usr/local/lib/python3.6/dist-packages/sklearn/svm/_base.py:231: ConvergenceWarning: Solver terminated early (max_iter=5000).  Consider pre-processing your data with StandardScaler or MinMaxScaler.\n",
            "  % self.max_iter, ConvergenceWarning)\n",
            "/usr/local/lib/python3.6/dist-packages/sklearn/metrics/_classification.py:1272: UndefinedMetricWarning: Precision and F-score are ill-defined and being set to 0.0 in labels with no predicted samples. Use `zero_division` parameter to control this behavior.\n",
            "  _warn_prf(average, modifier, msg_start, len(result))\n"
          ],
          "name": "stderr"
        },
        {
          "output_type": "stream",
          "text": [
            "The Accurary of poly : 0.533909\n",
            "              precision    recall  f1-score   support\n",
            "\n",
            "        Drop       0.00      0.00      0.00       378\n",
            "          Up       0.53      1.00      0.70       433\n",
            "\n",
            "    accuracy                           0.53       811\n",
            "   macro avg       0.27      0.50      0.35       811\n",
            "weighted avg       0.29      0.53      0.37       811\n",
            "\n"
          ],
          "name": "stdout"
        },
        {
          "output_type": "stream",
          "text": [
            "/usr/local/lib/python3.6/dist-packages/sklearn/svm/_base.py:231: ConvergenceWarning: Solver terminated early (max_iter=5000).  Consider pre-processing your data with StandardScaler or MinMaxScaler.\n",
            "  % self.max_iter, ConvergenceWarning)\n",
            "/usr/local/lib/python3.6/dist-packages/sklearn/metrics/_classification.py:1272: UndefinedMetricWarning: Precision and F-score are ill-defined and being set to 0.0 in labels with no predicted samples. Use `zero_division` parameter to control this behavior.\n",
            "  _warn_prf(average, modifier, msg_start, len(result))\n"
          ],
          "name": "stderr"
        },
        {
          "output_type": "stream",
          "text": [
            "The Accurary of linear : 0.533909\n",
            "              precision    recall  f1-score   support\n",
            "\n",
            "        Drop       0.00      0.00      0.00       378\n",
            "          Up       0.53      1.00      0.70       433\n",
            "\n",
            "    accuracy                           0.53       811\n",
            "   macro avg       0.27      0.50      0.35       811\n",
            "weighted avg       0.29      0.53      0.37       811\n",
            "\n",
            "window_length: 120\n"
          ],
          "name": "stdout"
        },
        {
          "output_type": "stream",
          "text": [
            "/usr/local/lib/python3.6/dist-packages/sklearn/metrics/_classification.py:1272: UndefinedMetricWarning: Precision and F-score are ill-defined and being set to 0.0 in labels with no predicted samples. Use `zero_division` parameter to control this behavior.\n",
            "  _warn_prf(average, modifier, msg_start, len(result))\n"
          ],
          "name": "stderr"
        },
        {
          "output_type": "stream",
          "text": [
            "The Accurary of rbf : 0.533582\n",
            "              precision    recall  f1-score   support\n",
            "\n",
            "        Drop       0.00      0.00      0.00       375\n",
            "          Up       0.53      1.00      0.70       429\n",
            "\n",
            "    accuracy                           0.53       804\n",
            "   macro avg       0.27      0.50      0.35       804\n",
            "weighted avg       0.28      0.53      0.37       804\n",
            "\n"
          ],
          "name": "stdout"
        },
        {
          "output_type": "stream",
          "text": [
            "/usr/local/lib/python3.6/dist-packages/sklearn/svm/_base.py:231: ConvergenceWarning: Solver terminated early (max_iter=5000).  Consider pre-processing your data with StandardScaler or MinMaxScaler.\n",
            "  % self.max_iter, ConvergenceWarning)\n",
            "/usr/local/lib/python3.6/dist-packages/sklearn/metrics/_classification.py:1272: UndefinedMetricWarning: Precision and F-score are ill-defined and being set to 0.0 in labels with no predicted samples. Use `zero_division` parameter to control this behavior.\n",
            "  _warn_prf(average, modifier, msg_start, len(result))\n"
          ],
          "name": "stderr"
        },
        {
          "output_type": "stream",
          "text": [
            "The Accurary of poly : 0.533582\n",
            "              precision    recall  f1-score   support\n",
            "\n",
            "        Drop       0.00      0.00      0.00       375\n",
            "          Up       0.53      1.00      0.70       429\n",
            "\n",
            "    accuracy                           0.53       804\n",
            "   macro avg       0.27      0.50      0.35       804\n",
            "weighted avg       0.28      0.53      0.37       804\n",
            "\n"
          ],
          "name": "stdout"
        },
        {
          "output_type": "stream",
          "text": [
            "/usr/local/lib/python3.6/dist-packages/sklearn/svm/_base.py:231: ConvergenceWarning: Solver terminated early (max_iter=5000).  Consider pre-processing your data with StandardScaler or MinMaxScaler.\n",
            "  % self.max_iter, ConvergenceWarning)\n",
            "/usr/local/lib/python3.6/dist-packages/sklearn/metrics/_classification.py:1272: UndefinedMetricWarning: Precision and F-score are ill-defined and being set to 0.0 in labels with no predicted samples. Use `zero_division` parameter to control this behavior.\n",
            "  _warn_prf(average, modifier, msg_start, len(result))\n"
          ],
          "name": "stderr"
        },
        {
          "output_type": "stream",
          "text": [
            "The Accurary of linear : 0.533582\n",
            "              precision    recall  f1-score   support\n",
            "\n",
            "        Drop       0.00      0.00      0.00       375\n",
            "          Up       0.53      1.00      0.70       429\n",
            "\n",
            "    accuracy                           0.53       804\n",
            "   macro avg       0.27      0.50      0.35       804\n",
            "weighted avg       0.28      0.53      0.37       804\n",
            "\n",
            "window_length: 150\n"
          ],
          "name": "stdout"
        },
        {
          "output_type": "stream",
          "text": [
            "/usr/local/lib/python3.6/dist-packages/sklearn/metrics/_classification.py:1272: UndefinedMetricWarning: Precision and F-score are ill-defined and being set to 0.0 in labels with no predicted samples. Use `zero_division` parameter to control this behavior.\n",
            "  _warn_prf(average, modifier, msg_start, len(result))\n"
          ],
          "name": "stderr"
        },
        {
          "output_type": "stream",
          "text": [
            "The Accurary of rbf : 0.533920\n",
            "              precision    recall  f1-score   support\n",
            "\n",
            "        Drop       0.00      0.00      0.00       371\n",
            "          Up       0.53      1.00      0.70       425\n",
            "\n",
            "    accuracy                           0.53       796\n",
            "   macro avg       0.27      0.50      0.35       796\n",
            "weighted avg       0.29      0.53      0.37       796\n",
            "\n"
          ],
          "name": "stdout"
        },
        {
          "output_type": "stream",
          "text": [
            "/usr/local/lib/python3.6/dist-packages/sklearn/svm/_base.py:231: ConvergenceWarning: Solver terminated early (max_iter=5000).  Consider pre-processing your data with StandardScaler or MinMaxScaler.\n",
            "  % self.max_iter, ConvergenceWarning)\n",
            "/usr/local/lib/python3.6/dist-packages/sklearn/metrics/_classification.py:1272: UndefinedMetricWarning: Precision and F-score are ill-defined and being set to 0.0 in labels with no predicted samples. Use `zero_division` parameter to control this behavior.\n",
            "  _warn_prf(average, modifier, msg_start, len(result))\n"
          ],
          "name": "stderr"
        },
        {
          "output_type": "stream",
          "text": [
            "The Accurary of poly : 0.533920\n",
            "              precision    recall  f1-score   support\n",
            "\n",
            "        Drop       0.00      0.00      0.00       371\n",
            "          Up       0.53      1.00      0.70       425\n",
            "\n",
            "    accuracy                           0.53       796\n",
            "   macro avg       0.27      0.50      0.35       796\n",
            "weighted avg       0.29      0.53      0.37       796\n",
            "\n"
          ],
          "name": "stdout"
        },
        {
          "output_type": "stream",
          "text": [
            "/usr/local/lib/python3.6/dist-packages/sklearn/svm/_base.py:231: ConvergenceWarning: Solver terminated early (max_iter=5000).  Consider pre-processing your data with StandardScaler or MinMaxScaler.\n",
            "  % self.max_iter, ConvergenceWarning)\n",
            "/usr/local/lib/python3.6/dist-packages/sklearn/metrics/_classification.py:1272: UndefinedMetricWarning: Precision and F-score are ill-defined and being set to 0.0 in labels with no predicted samples. Use `zero_division` parameter to control this behavior.\n",
            "  _warn_prf(average, modifier, msg_start, len(result))\n"
          ],
          "name": "stderr"
        },
        {
          "output_type": "stream",
          "text": [
            "The Accurary of linear : 0.466080\n",
            "              precision    recall  f1-score   support\n",
            "\n",
            "        Drop       0.47      1.00      0.64       371\n",
            "          Up       0.00      0.00      0.00       425\n",
            "\n",
            "    accuracy                           0.47       796\n",
            "   macro avg       0.23      0.50      0.32       796\n",
            "weighted avg       0.22      0.47      0.30       796\n",
            "\n",
            "window_length: 180\n"
          ],
          "name": "stdout"
        },
        {
          "output_type": "stream",
          "text": [
            "/usr/local/lib/python3.6/dist-packages/sklearn/metrics/_classification.py:1272: UndefinedMetricWarning: Precision and F-score are ill-defined and being set to 0.0 in labels with no predicted samples. Use `zero_division` parameter to control this behavior.\n",
            "  _warn_prf(average, modifier, msg_start, len(result))\n"
          ],
          "name": "stderr"
        },
        {
          "output_type": "stream",
          "text": [
            "The Accurary of rbf : 0.533587\n",
            "              precision    recall  f1-score   support\n",
            "\n",
            "        Drop       0.00      0.00      0.00       368\n",
            "          Up       0.53      1.00      0.70       421\n",
            "\n",
            "    accuracy                           0.53       789\n",
            "   macro avg       0.27      0.50      0.35       789\n",
            "weighted avg       0.28      0.53      0.37       789\n",
            "\n"
          ],
          "name": "stdout"
        },
        {
          "output_type": "stream",
          "text": [
            "/usr/local/lib/python3.6/dist-packages/sklearn/metrics/_classification.py:1272: UndefinedMetricWarning: Precision and F-score are ill-defined and being set to 0.0 in labels with no predicted samples. Use `zero_division` parameter to control this behavior.\n",
            "  _warn_prf(average, modifier, msg_start, len(result))\n"
          ],
          "name": "stderr"
        },
        {
          "output_type": "stream",
          "text": [
            "The Accurary of poly : 0.533587\n",
            "              precision    recall  f1-score   support\n",
            "\n",
            "        Drop       0.00      0.00      0.00       368\n",
            "          Up       0.53      1.00      0.70       421\n",
            "\n",
            "    accuracy                           0.53       789\n",
            "   macro avg       0.27      0.50      0.35       789\n",
            "weighted avg       0.28      0.53      0.37       789\n",
            "\n"
          ],
          "name": "stdout"
        },
        {
          "output_type": "stream",
          "text": [
            "/usr/local/lib/python3.6/dist-packages/sklearn/svm/_base.py:231: ConvergenceWarning: Solver terminated early (max_iter=5000).  Consider pre-processing your data with StandardScaler or MinMaxScaler.\n",
            "  % self.max_iter, ConvergenceWarning)\n"
          ],
          "name": "stderr"
        },
        {
          "output_type": "stream",
          "text": [
            "The Accurary of linear : 0.471483\n",
            "              precision    recall  f1-score   support\n",
            "\n",
            "        Drop       0.47      0.91      0.62       368\n",
            "          Up       0.53      0.09      0.15       421\n",
            "\n",
            "    accuracy                           0.47       789\n",
            "   macro avg       0.50      0.50      0.38       789\n",
            "weighted avg       0.50      0.47      0.37       789\n",
            "\n"
          ],
          "name": "stdout"
        },
        {
          "output_type": "display_data",
          "data": {
            "image/png": "[encoded data removed]",
            "text/plain": [
              "<Figure size 432x288 with 1 Axes>"
            ]
          },
          "metadata": {
            "tags": [],
            "needs_background": "light"
          }
        },
        {
          "output_type": "stream",
          "text": [
            "window_length: 7\n",
            "The Accurary of rbf : 0.519231\n",
            "              precision    recall  f1-score   support\n",
            "\n",
            "        Drop       0.50      0.01      0.03        75\n",
            "          Up       0.52      0.99      0.68        81\n",
            "\n",
            "    accuracy                           0.52       156\n",
            "   macro avg       0.51      0.50      0.35       156\n",
            "weighted avg       0.51      0.52      0.37       156\n",
            "\n",
            "The Accurary of poly : 0.519231\n",
            "              precision    recall  f1-score   support\n",
            "\n",
            "        Drop       0.00      0.00      0.00        75\n",
            "          Up       0.52      1.00      0.68        81\n",
            "\n",
            "    accuracy                           0.52       156\n",
            "   macro avg       0.26      0.50      0.34       156\n",
            "weighted avg       0.27      0.52      0.35       156\n",
            "\n",
            "The Accurary of linear : 0.467949\n",
            "              precision    recall  f1-score   support\n",
            "\n",
            "        Drop       0.28      0.07      0.11        75\n",
            "          Up       0.49      0.84      0.62        81\n",
            "\n",
            "    accuracy                           0.47       156\n",
            "   macro avg       0.39      0.45      0.36       156\n",
            "weighted avg       0.39      0.47      0.37       156\n",
            "\n",
            "window_length: 14\n"
          ],
          "name": "stdout"
        },
        {
          "output_type": "stream",
          "text": [
            "/usr/local/lib/python3.6/dist-packages/sklearn/svm/_base.py:231: ConvergenceWarning: Solver terminated early (max_iter=5000).  Consider pre-processing your data with StandardScaler or MinMaxScaler.\n",
            "  % self.max_iter, ConvergenceWarning)\n",
            "/usr/local/lib/python3.6/dist-packages/sklearn/metrics/_classification.py:1272: UndefinedMetricWarning: Precision and F-score are ill-defined and being set to 0.0 in labels with no predicted samples. Use `zero_division` parameter to control this behavior.\n",
            "  _warn_prf(average, modifier, msg_start, len(result))\n",
            "/usr/local/lib/python3.6/dist-packages/sklearn/svm/_base.py:231: ConvergenceWarning: Solver terminated early (max_iter=5000).  Consider pre-processing your data with StandardScaler or MinMaxScaler.\n",
            "  % self.max_iter, ConvergenceWarning)\n",
            "/usr/local/lib/python3.6/dist-packages/sklearn/metrics/_classification.py:1272: UndefinedMetricWarning: Precision and F-score are ill-defined and being set to 0.0 in labels with no predicted samples. Use `zero_division` parameter to control this behavior.\n",
            "  _warn_prf(average, modifier, msg_start, len(result))\n",
            "/usr/local/lib/python3.6/dist-packages/sklearn/metrics/_classification.py:1272: UndefinedMetricWarning: Precision and F-score are ill-defined and being set to 0.0 in labels with no predicted samples. Use `zero_division` parameter to control this behavior.\n",
            "  _warn_prf(average, modifier, msg_start, len(result))\n",
            "/usr/local/lib/python3.6/dist-packages/sklearn/svm/_base.py:231: ConvergenceWarning: Solver terminated early (max_iter=5000).  Consider pre-processing your data with StandardScaler or MinMaxScaler.\n",
            "  % self.max_iter, ConvergenceWarning)\n"
          ],
          "name": "stderr"
        },
        {
          "output_type": "stream",
          "text": [
            "The Accurary of rbf : 0.525974\n",
            "              precision    recall  f1-score   support\n",
            "\n",
            "        Drop       0.00      0.00      0.00        73\n",
            "          Up       0.53      1.00      0.69        81\n",
            "\n",
            "    accuracy                           0.53       154\n",
            "   macro avg       0.26      0.50      0.34       154\n",
            "weighted avg       0.28      0.53      0.36       154\n",
            "\n",
            "The Accurary of poly : 0.525974\n",
            "              precision    recall  f1-score   support\n",
            "\n",
            "        Drop       0.00      0.00      0.00        73\n",
            "          Up       0.53      1.00      0.69        81\n",
            "\n",
            "    accuracy                           0.53       154\n",
            "   macro avg       0.26      0.50      0.34       154\n",
            "weighted avg       0.28      0.53      0.36       154\n",
            "\n",
            "The Accurary of linear : 0.487013\n",
            "              precision    recall  f1-score   support\n",
            "\n",
            "        Drop       0.36      0.11      0.17        73\n",
            "          Up       0.51      0.83      0.63        81\n",
            "\n",
            "    accuracy                           0.49       154\n",
            "   macro avg       0.44      0.47      0.40       154\n",
            "weighted avg       0.44      0.49      0.41       154\n",
            "\n",
            "window_length: 21\n",
            "The Accurary of rbf : 0.506579\n",
            "              precision    recall  f1-score   support\n",
            "\n",
            "        Drop       0.00      0.00      0.00        72\n",
            "          Up       0.52      0.96      0.67        80\n",
            "\n",
            "    accuracy                           0.51       152\n",
            "   macro avg       0.26      0.48      0.34       152\n",
            "weighted avg       0.27      0.51      0.35       152\n",
            "\n",
            "The Accurary of poly : 0.526316\n",
            "              precision    recall  f1-score   support\n",
            "\n",
            "        Drop       0.00      0.00      0.00        72\n",
            "          Up       0.53      1.00      0.69        80\n",
            "\n",
            "    accuracy                           0.53       152\n",
            "   macro avg       0.26      0.50      0.34       152\n",
            "weighted avg       0.28      0.53      0.36       152\n",
            "\n",
            "The Accurary of linear : 0.526316\n",
            "              precision    recall  f1-score   support\n",
            "\n",
            "        Drop       0.00      0.00      0.00        72\n",
            "          Up       0.53      1.00      0.69        80\n",
            "\n",
            "    accuracy                           0.53       152\n",
            "   macro avg       0.26      0.50      0.34       152\n",
            "weighted avg       0.28      0.53      0.36       152\n",
            "\n",
            "window_length: 30\n"
          ],
          "name": "stdout"
        },
        {
          "output_type": "stream",
          "text": [
            "/usr/local/lib/python3.6/dist-packages/sklearn/metrics/_classification.py:1272: UndefinedMetricWarning: Precision and F-score are ill-defined and being set to 0.0 in labels with no predicted samples. Use `zero_division` parameter to control this behavior.\n",
            "  _warn_prf(average, modifier, msg_start, len(result))\n",
            "/usr/local/lib/python3.6/dist-packages/sklearn/svm/_base.py:231: ConvergenceWarning: Solver terminated early (max_iter=5000).  Consider pre-processing your data with StandardScaler or MinMaxScaler.\n",
            "  % self.max_iter, ConvergenceWarning)\n",
            "/usr/local/lib/python3.6/dist-packages/sklearn/metrics/_classification.py:1272: UndefinedMetricWarning: Precision and F-score are ill-defined and being set to 0.0 in labels with no predicted samples. Use `zero_division` parameter to control this behavior.\n",
            "  _warn_prf(average, modifier, msg_start, len(result))\n"
          ],
          "name": "stderr"
        },
        {
          "output_type": "stream",
          "text": [
            "The Accurary of rbf : 0.513333\n",
            "              precision    recall  f1-score   support\n",
            "\n",
            "        Drop       0.00      0.00      0.00        71\n",
            "          Up       0.52      0.97      0.68        79\n",
            "\n",
            "    accuracy                           0.51       150\n",
            "   macro avg       0.26      0.49      0.34       150\n",
            "weighted avg       0.27      0.51      0.36       150\n",
            "\n",
            "The Accurary of poly : 0.526667\n",
            "              precision    recall  f1-score   support\n",
            "\n",
            "        Drop       0.00      0.00      0.00        71\n",
            "          Up       0.53      1.00      0.69        79\n",
            "\n",
            "    accuracy                           0.53       150\n",
            "   macro avg       0.26      0.50      0.34       150\n",
            "weighted avg       0.28      0.53      0.36       150\n",
            "\n",
            "The Accurary of linear : 0.540000\n",
            "              precision    recall  f1-score   support\n",
            "\n",
            "        Drop       0.62      0.07      0.13        71\n",
            "          Up       0.54      0.96      0.69        79\n",
            "\n",
            "    accuracy                           0.54       150\n",
            "   macro avg       0.58      0.52      0.41       150\n",
            "weighted avg       0.58      0.54      0.42       150\n",
            "\n",
            "window_length: 60\n"
          ],
          "name": "stdout"
        },
        {
          "output_type": "stream",
          "text": [
            "/usr/local/lib/python3.6/dist-packages/sklearn/metrics/_classification.py:1272: UndefinedMetricWarning: Precision and F-score are ill-defined and being set to 0.0 in labels with no predicted samples. Use `zero_division` parameter to control this behavior.\n",
            "  _warn_prf(average, modifier, msg_start, len(result))\n",
            "/usr/local/lib/python3.6/dist-packages/sklearn/svm/_base.py:231: ConvergenceWarning: Solver terminated early (max_iter=5000).  Consider pre-processing your data with StandardScaler or MinMaxScaler.\n",
            "  % self.max_iter, ConvergenceWarning)\n"
          ],
          "name": "stderr"
        },
        {
          "output_type": "stream",
          "text": [
            "The Accurary of rbf : 0.507042\n",
            "              precision    recall  f1-score   support\n",
            "\n",
            "        Drop       0.20      0.01      0.03        67\n",
            "          Up       0.52      0.95      0.67        75\n",
            "\n",
            "    accuracy                           0.51       142\n",
            "   macro avg       0.36      0.48      0.35       142\n",
            "weighted avg       0.37      0.51      0.37       142\n",
            "\n",
            "The Accurary of poly : 0.528169\n",
            "              precision    recall  f1-score   support\n",
            "\n",
            "        Drop       0.00      0.00      0.00        67\n",
            "          Up       0.53      1.00      0.69        75\n",
            "\n",
            "    accuracy                           0.53       142\n",
            "   macro avg       0.26      0.50      0.35       142\n",
            "weighted avg       0.28      0.53      0.37       142\n",
            "\n"
          ],
          "name": "stdout"
        },
        {
          "output_type": "stream",
          "text": [
            "/usr/local/lib/python3.6/dist-packages/sklearn/metrics/_classification.py:1272: UndefinedMetricWarning: Precision and F-score are ill-defined and being set to 0.0 in labels with no predicted samples. Use `zero_division` parameter to control this behavior.\n",
            "  _warn_prf(average, modifier, msg_start, len(result))\n",
            "/usr/local/lib/python3.6/dist-packages/sklearn/svm/_base.py:231: ConvergenceWarning: Solver terminated early (max_iter=5000).  Consider pre-processing your data with StandardScaler or MinMaxScaler.\n",
            "  % self.max_iter, ConvergenceWarning)\n"
          ],
          "name": "stderr"
        },
        {
          "output_type": "stream",
          "text": [
            "The Accurary of linear : 0.528169\n",
            "              precision    recall  f1-score   support\n",
            "\n",
            "        Drop       0.50      0.06      0.11        67\n",
            "          Up       0.53      0.95      0.68        75\n",
            "\n",
            "    accuracy                           0.53       142\n",
            "   macro avg       0.51      0.50      0.39       142\n",
            "weighted avg       0.52      0.53      0.41       142\n",
            "\n",
            "window_length: 90\n",
            "The Accurary of rbf : 0.511111\n",
            "              precision    recall  f1-score   support\n",
            "\n",
            "        Drop       0.00      0.00      0.00        65\n",
            "          Up       0.51      0.99      0.68        70\n",
            "\n",
            "    accuracy                           0.51       135\n",
            "   macro avg       0.26      0.49      0.34       135\n",
            "weighted avg       0.27      0.51      0.35       135\n",
            "\n"
          ],
          "name": "stdout"
        },
        {
          "output_type": "stream",
          "text": [
            "/usr/local/lib/python3.6/dist-packages/sklearn/metrics/_classification.py:1272: UndefinedMetricWarning: Precision and F-score are ill-defined and being set to 0.0 in labels with no predicted samples. Use `zero_division` parameter to control this behavior.\n",
            "  _warn_prf(average, modifier, msg_start, len(result))\n",
            "/usr/local/lib/python3.6/dist-packages/sklearn/svm/_base.py:231: ConvergenceWarning: Solver terminated early (max_iter=5000).  Consider pre-processing your data with StandardScaler or MinMaxScaler.\n",
            "  % self.max_iter, ConvergenceWarning)\n"
          ],
          "name": "stderr"
        },
        {
          "output_type": "stream",
          "text": [
            "The Accurary of poly : 0.518519\n",
            "              precision    recall  f1-score   support\n",
            "\n",
            "        Drop       0.00      0.00      0.00        65\n",
            "          Up       0.52      1.00      0.68        70\n",
            "\n",
            "    accuracy                           0.52       135\n",
            "   macro avg       0.26      0.50      0.34       135\n",
            "weighted avg       0.27      0.52      0.35       135\n",
            "\n",
            "The Accurary of linear : 0.533333\n",
            "              precision    recall  f1-score   support\n",
            "\n",
            "        Drop       0.58      0.11      0.18        65\n",
            "          Up       0.53      0.93      0.67        70\n",
            "\n",
            "    accuracy                           0.53       135\n",
            "   macro avg       0.56      0.52      0.43       135\n",
            "weighted avg       0.55      0.53      0.44       135\n",
            "\n",
            "window_length: 120\n",
            "The Accurary of rbf : 0.496063\n",
            "              precision    recall  f1-score   support\n",
            "\n",
            "        Drop       0.25      0.03      0.06        60\n",
            "          Up       0.51      0.91      0.66        67\n",
            "\n",
            "    accuracy                           0.50       127\n",
            "   macro avg       0.38      0.47      0.36       127\n",
            "weighted avg       0.39      0.50      0.37       127\n",
            "\n"
          ],
          "name": "stdout"
        },
        {
          "output_type": "stream",
          "text": [
            "/usr/local/lib/python3.6/dist-packages/sklearn/metrics/_classification.py:1272: UndefinedMetricWarning: Precision and F-score are ill-defined and being set to 0.0 in labels with no predicted samples. Use `zero_division` parameter to control this behavior.\n",
            "  _warn_prf(average, modifier, msg_start, len(result))\n",
            "/usr/local/lib/python3.6/dist-packages/sklearn/svm/_base.py:231: ConvergenceWarning: Solver terminated early (max_iter=5000).  Consider pre-processing your data with StandardScaler or MinMaxScaler.\n",
            "  % self.max_iter, ConvergenceWarning)\n"
          ],
          "name": "stderr"
        },
        {
          "output_type": "stream",
          "text": [
            "The Accurary of poly : 0.527559\n",
            "              precision    recall  f1-score   support\n",
            "\n",
            "        Drop       0.00      0.00      0.00        60\n",
            "          Up       0.53      1.00      0.69        67\n",
            "\n",
            "    accuracy                           0.53       127\n",
            "   macro avg       0.26      0.50      0.35       127\n",
            "weighted avg       0.28      0.53      0.36       127\n",
            "\n",
            "The Accurary of linear : 0.511811\n",
            "              precision    recall  f1-score   support\n",
            "\n",
            "        Drop       0.47      0.25      0.33        60\n",
            "          Up       0.53      0.75      0.62        67\n",
            "\n",
            "    accuracy                           0.51       127\n",
            "   macro avg       0.50      0.50      0.47       127\n",
            "weighted avg       0.50      0.51      0.48       127\n",
            "\n",
            "window_length: 150\n",
            "The Accurary of rbf : 0.491667\n",
            "              precision    recall  f1-score   support\n",
            "\n",
            "        Drop       0.36      0.09      0.14        57\n",
            "          Up       0.51      0.86      0.64        63\n",
            "\n",
            "    accuracy                           0.49       120\n",
            "   macro avg       0.43      0.47      0.39       120\n",
            "weighted avg       0.44      0.49      0.40       120\n",
            "\n",
            "The Accurary of poly : 0.516667\n",
            "              precision    recall  f1-score   support\n",
            "\n",
            "        Drop       0.00      0.00      0.00        57\n",
            "          Up       0.52      0.98      0.68        63\n",
            "\n",
            "    accuracy                           0.52       120\n",
            "   macro avg       0.26      0.49      0.34       120\n",
            "weighted avg       0.27      0.52      0.36       120\n",
            "\n"
          ],
          "name": "stdout"
        },
        {
          "output_type": "stream",
          "text": [
            "/usr/local/lib/python3.6/dist-packages/sklearn/svm/_base.py:231: ConvergenceWarning: Solver terminated early (max_iter=5000).  Consider pre-processing your data with StandardScaler or MinMaxScaler.\n",
            "  % self.max_iter, ConvergenceWarning)\n"
          ],
          "name": "stderr"
        },
        {
          "output_type": "stream",
          "text": [
            "The Accurary of linear : 0.525000\n",
            "              precision    recall  f1-score   support\n",
            "\n",
            "        Drop       0.50      0.42      0.46        57\n",
            "          Up       0.54      0.62      0.58        63\n",
            "\n",
            "    accuracy                           0.53       120\n",
            "   macro avg       0.52      0.52      0.52       120\n",
            "weighted avg       0.52      0.53      0.52       120\n",
            "\n",
            "window_length: 180\n",
            "The Accurary of rbf : 0.517857\n",
            "              precision    recall  f1-score   support\n",
            "\n",
            "        Drop       0.47      0.15      0.23        53\n",
            "          Up       0.53      0.85      0.65        59\n",
            "\n",
            "    accuracy                           0.52       112\n",
            "   macro avg       0.50      0.50      0.44       112\n",
            "weighted avg       0.50      0.52      0.45       112\n",
            "\n",
            "The Accurary of poly : 0.482143\n",
            "              precision    recall  f1-score   support\n",
            "\n",
            "        Drop       0.22      0.04      0.06        53\n",
            "          Up       0.50      0.88      0.64        59\n",
            "\n",
            "    accuracy                           0.48       112\n",
            "   macro avg       0.36      0.46      0.35       112\n",
            "weighted avg       0.37      0.48      0.37       112\n",
            "\n"
          ],
          "name": "stdout"
        },
        {
          "output_type": "stream",
          "text": [
            "/usr/local/lib/python3.6/dist-packages/sklearn/svm/_base.py:231: ConvergenceWarning: Solver terminated early (max_iter=5000).  Consider pre-processing your data with StandardScaler or MinMaxScaler.\n",
            "  % self.max_iter, ConvergenceWarning)\n"
          ],
          "name": "stderr"
        },
        {
          "output_type": "stream",
          "text": [
            "The Accurary of linear : 0.428571\n",
            "              precision    recall  f1-score   support\n",
            "\n",
            "        Drop       0.37      0.30      0.33        53\n",
            "          Up       0.46      0.54      0.50        59\n",
            "\n",
            "    accuracy                           0.43       112\n",
            "   macro avg       0.42      0.42      0.42       112\n",
            "weighted avg       0.42      0.43      0.42       112\n",
            "\n"
          ],
          "name": "stdout"
        },
        {
          "output_type": "display_data",
          "data": {
            "image/png": "[encoded data removed]",
            "text/plain": [
              "<Figure size 432x288 with 1 Axes>"
            ]
          },
          "metadata": {
            "tags": [],
            "needs_background": "light"
          }
        },
        {
          "output_type": "stream",
          "text": [
            "window_length: 7\n"
          ],
          "name": "stdout"
        },
        {
          "output_type": "stream",
          "text": [
            "/usr/local/lib/python3.6/dist-packages/sklearn/svm/_base.py:231: ConvergenceWarning: Solver terminated early (max_iter=5000).  Consider pre-processing your data with StandardScaler or MinMaxScaler.\n",
            "  % self.max_iter, ConvergenceWarning)\n"
          ],
          "name": "stderr"
        },
        {
          "output_type": "stream",
          "text": [
            "The Accurary of rbf : 0.490471\n",
            "              precision    recall  f1-score   support\n",
            "\n",
            "        Drop       0.49      1.00      0.66       979\n",
            "          Up       0.00      0.00      0.00      1015\n",
            "\n",
            "    accuracy                           0.49      1994\n",
            "   macro avg       0.25      0.50      0.33      1994\n",
            "weighted avg       0.24      0.49      0.32      1994\n",
            "\n"
          ],
          "name": "stdout"
        },
        {
          "output_type": "stream",
          "text": [
            "/usr/local/lib/python3.6/dist-packages/sklearn/svm/_base.py:231: ConvergenceWarning: Solver terminated early (max_iter=5000).  Consider pre-processing your data with StandardScaler or MinMaxScaler.\n",
            "  % self.max_iter, ConvergenceWarning)\n",
            "/usr/local/lib/python3.6/dist-packages/sklearn/metrics/_classification.py:1272: UndefinedMetricWarning: Precision and F-score are ill-defined and being set to 0.0 in labels with no predicted samples. Use `zero_division` parameter to control this behavior.\n",
            "  _warn_prf(average, modifier, msg_start, len(result))\n"
          ],
          "name": "stderr"
        },
        {
          "output_type": "stream",
          "text": [
            "The Accurary of poly : 0.509027\n",
            "              precision    recall  f1-score   support\n",
            "\n",
            "        Drop       0.00      0.00      0.00       979\n",
            "          Up       0.51      1.00      0.67      1015\n",
            "\n",
            "    accuracy                           0.51      1994\n",
            "   macro avg       0.25      0.50      0.34      1994\n",
            "weighted avg       0.26      0.51      0.34      1994\n",
            "\n"
          ],
          "name": "stdout"
        },
        {
          "output_type": "stream",
          "text": [
            "/usr/local/lib/python3.6/dist-packages/sklearn/svm/_base.py:231: ConvergenceWarning: Solver terminated early (max_iter=5000).  Consider pre-processing your data with StandardScaler or MinMaxScaler.\n",
            "  % self.max_iter, ConvergenceWarning)\n"
          ],
          "name": "stderr"
        },
        {
          "output_type": "stream",
          "text": [
            "The Accurary of linear : 0.508024\n",
            "              precision    recall  f1-score   support\n",
            "\n",
            "        Drop       0.45      0.01      0.02       979\n",
            "          Up       0.51      0.99      0.67      1015\n",
            "\n",
            "    accuracy                           0.51      1994\n",
            "   macro avg       0.48      0.50      0.35      1994\n",
            "weighted avg       0.48      0.51      0.35      1994\n",
            "\n",
            "window_length: 14\n"
          ],
          "name": "stdout"
        },
        {
          "output_type": "stream",
          "text": [
            "/usr/local/lib/python3.6/dist-packages/sklearn/svm/_base.py:231: ConvergenceWarning: Solver terminated early (max_iter=5000).  Consider pre-processing your data with StandardScaler or MinMaxScaler.\n",
            "  % self.max_iter, ConvergenceWarning)\n",
            "/usr/local/lib/python3.6/dist-packages/sklearn/metrics/_classification.py:1272: UndefinedMetricWarning: Precision and F-score are ill-defined and being set to 0.0 in labels with no predicted samples. Use `zero_division` parameter to control this behavior.\n",
            "  _warn_prf(average, modifier, msg_start, len(result))\n"
          ],
          "name": "stderr"
        },
        {
          "output_type": "stream",
          "text": [
            "The Accurary of rbf : 0.490718\n",
            "              precision    recall  f1-score   support\n",
            "\n",
            "        Drop       0.49      1.00      0.66       978\n",
            "          Up       0.00      0.00      0.00      1015\n",
            "\n",
            "    accuracy                           0.49      1993\n",
            "   macro avg       0.25      0.50      0.33      1993\n",
            "weighted avg       0.24      0.49      0.32      1993\n",
            "\n"
          ],
          "name": "stdout"
        },
        {
          "output_type": "stream",
          "text": [
            "/usr/local/lib/python3.6/dist-packages/sklearn/svm/_base.py:231: ConvergenceWarning: Solver terminated early (max_iter=5000).  Consider pre-processing your data with StandardScaler or MinMaxScaler.\n",
            "  % self.max_iter, ConvergenceWarning)\n"
          ],
          "name": "stderr"
        },
        {
          "output_type": "stream",
          "text": [
            "The Accurary of poly : 0.489714\n",
            "              precision    recall  f1-score   support\n",
            "\n",
            "        Drop       0.49      1.00      0.66       978\n",
            "          Up       0.00      0.00      0.00      1015\n",
            "\n",
            "    accuracy                           0.49      1993\n",
            "   macro avg       0.25      0.50      0.33      1993\n",
            "weighted avg       0.24      0.49      0.32      1993\n",
            "\n"
          ],
          "name": "stdout"
        },
        {
          "output_type": "stream",
          "text": [
            "/usr/local/lib/python3.6/dist-packages/sklearn/svm/_base.py:231: ConvergenceWarning: Solver terminated early (max_iter=5000).  Consider pre-processing your data with StandardScaler or MinMaxScaler.\n",
            "  % self.max_iter, ConvergenceWarning)\n"
          ],
          "name": "stderr"
        },
        {
          "output_type": "stream",
          "text": [
            "The Accurary of linear : 0.509784\n",
            "              precision    recall  f1-score   support\n",
            "\n",
            "        Drop       0.51      0.03      0.07       978\n",
            "          Up       0.51      0.97      0.67      1015\n",
            "\n",
            "    accuracy                           0.51      1993\n",
            "   macro avg       0.51      0.50      0.37      1993\n",
            "weighted avg       0.51      0.51      0.37      1993\n",
            "\n",
            "window_length: 21\n"
          ],
          "name": "stdout"
        },
        {
          "output_type": "stream",
          "text": [
            "/usr/local/lib/python3.6/dist-packages/sklearn/svm/_base.py:231: ConvergenceWarning: Solver terminated early (max_iter=5000).  Consider pre-processing your data with StandardScaler or MinMaxScaler.\n",
            "  % self.max_iter, ConvergenceWarning)\n",
            "/usr/local/lib/python3.6/dist-packages/sklearn/metrics/_classification.py:1272: UndefinedMetricWarning: Precision and F-score are ill-defined and being set to 0.0 in labels with no predicted samples. Use `zero_division` parameter to control this behavior.\n",
            "  _warn_prf(average, modifier, msg_start, len(result))\n"
          ],
          "name": "stderr"
        },
        {
          "output_type": "stream",
          "text": [
            "The Accurary of rbf : 0.490708\n",
            "              precision    recall  f1-score   support\n",
            "\n",
            "        Drop       0.49      1.00      0.66       977\n",
            "          Up       0.00      0.00      0.00      1014\n",
            "\n",
            "    accuracy                           0.49      1991\n",
            "   macro avg       0.25      0.50      0.33      1991\n",
            "weighted avg       0.24      0.49      0.32      1991\n",
            "\n"
          ],
          "name": "stdout"
        },
        {
          "output_type": "stream",
          "text": [
            "/usr/local/lib/python3.6/dist-packages/sklearn/svm/_base.py:231: ConvergenceWarning: Solver terminated early (max_iter=5000).  Consider pre-processing your data with StandardScaler or MinMaxScaler.\n",
            "  % self.max_iter, ConvergenceWarning)\n"
          ],
          "name": "stderr"
        },
        {
          "output_type": "stream",
          "text": [
            "The Accurary of poly : 0.490708\n",
            "              precision    recall  f1-score   support\n",
            "\n",
            "        Drop       0.49      1.00      0.66       977\n",
            "          Up       0.50      0.00      0.00      1014\n",
            "\n",
            "    accuracy                           0.49      1991\n",
            "   macro avg       0.50      0.50      0.33      1991\n",
            "weighted avg       0.50      0.49      0.32      1991\n",
            "\n"
          ],
          "name": "stdout"
        },
        {
          "output_type": "stream",
          "text": [
            "/usr/local/lib/python3.6/dist-packages/sklearn/svm/_base.py:231: ConvergenceWarning: Solver terminated early (max_iter=5000).  Consider pre-processing your data with StandardScaler or MinMaxScaler.\n",
            "  % self.max_iter, ConvergenceWarning)\n"
          ],
          "name": "stderr"
        },
        {
          "output_type": "stream",
          "text": [
            "The Accurary of linear : 0.509292\n",
            "              precision    recall  f1-score   support\n",
            "\n",
            "        Drop       0.50      0.00      0.00       977\n",
            "          Up       0.51      1.00      0.67      1014\n",
            "\n",
            "    accuracy                           0.51      1991\n",
            "   macro avg       0.50      0.50      0.34      1991\n",
            "weighted avg       0.50      0.51      0.34      1991\n",
            "\n",
            "window_length: 30\n"
          ],
          "name": "stdout"
        },
        {
          "output_type": "stream",
          "text": [
            "/usr/local/lib/python3.6/dist-packages/sklearn/svm/_base.py:231: ConvergenceWarning: Solver terminated early (max_iter=5000).  Consider pre-processing your data with StandardScaler or MinMaxScaler.\n",
            "  % self.max_iter, ConvergenceWarning)\n",
            "/usr/local/lib/python3.6/dist-packages/sklearn/metrics/_classification.py:1272: UndefinedMetricWarning: Precision and F-score are ill-defined and being set to 0.0 in labels with no predicted samples. Use `zero_division` parameter to control this behavior.\n",
            "  _warn_prf(average, modifier, msg_start, len(result))\n"
          ],
          "name": "stderr"
        },
        {
          "output_type": "stream",
          "text": [
            "The Accurary of rbf : 0.490699\n",
            "              precision    recall  f1-score   support\n",
            "\n",
            "        Drop       0.49      1.00      0.66       976\n",
            "          Up       0.00      0.00      0.00      1013\n",
            "\n",
            "    accuracy                           0.49      1989\n",
            "   macro avg       0.25      0.50      0.33      1989\n",
            "weighted avg       0.24      0.49      0.32      1989\n",
            "\n"
          ],
          "name": "stdout"
        },
        {
          "output_type": "stream",
          "text": [
            "/usr/local/lib/python3.6/dist-packages/sklearn/svm/_base.py:231: ConvergenceWarning: Solver terminated early (max_iter=5000).  Consider pre-processing your data with StandardScaler or MinMaxScaler.\n",
            "  % self.max_iter, ConvergenceWarning)\n",
            "/usr/local/lib/python3.6/dist-packages/sklearn/metrics/_classification.py:1272: UndefinedMetricWarning: Precision and F-score are ill-defined and being set to 0.0 in labels with no predicted samples. Use `zero_division` parameter to control this behavior.\n",
            "  _warn_prf(average, modifier, msg_start, len(result))\n"
          ],
          "name": "stderr"
        },
        {
          "output_type": "stream",
          "text": [
            "The Accurary of poly : 0.490699\n",
            "              precision    recall  f1-score   support\n",
            "\n",
            "        Drop       0.49      1.00      0.66       976\n",
            "          Up       0.00      0.00      0.00      1013\n",
            "\n",
            "    accuracy                           0.49      1989\n",
            "   macro avg       0.25      0.50      0.33      1989\n",
            "weighted avg       0.24      0.49      0.32      1989\n",
            "\n"
          ],
          "name": "stdout"
        },
        {
          "output_type": "stream",
          "text": [
            "/usr/local/lib/python3.6/dist-packages/sklearn/svm/_base.py:231: ConvergenceWarning: Solver terminated early (max_iter=5000).  Consider pre-processing your data with StandardScaler or MinMaxScaler.\n",
            "  % self.max_iter, ConvergenceWarning)\n"
          ],
          "name": "stderr"
        },
        {
          "output_type": "stream",
          "text": [
            "The Accurary of linear : 0.508296\n",
            "              precision    recall  f1-score   support\n",
            "\n",
            "        Drop       0.44      0.01      0.01       976\n",
            "          Up       0.51      0.99      0.67      1013\n",
            "\n",
            "    accuracy                           0.51      1989\n",
            "   macro avg       0.47      0.50      0.34      1989\n",
            "weighted avg       0.47      0.51      0.35      1989\n",
            "\n",
            "window_length: 60\n",
            "The Accurary of rbf : 0.491166\n",
            "              precision    recall  f1-score   support\n",
            "\n",
            "        Drop       0.49      1.00      0.66       975\n",
            "          Up       0.25      0.00      0.00      1006\n",
            "\n",
            "    accuracy                           0.49      1981\n",
            "   macro avg       0.37      0.50      0.33      1981\n",
            "weighted avg       0.37      0.49      0.33      1981\n",
            "\n"
          ],
          "name": "stdout"
        },
        {
          "output_type": "stream",
          "text": [
            "/usr/local/lib/python3.6/dist-packages/sklearn/svm/_base.py:231: ConvergenceWarning: Solver terminated early (max_iter=5000).  Consider pre-processing your data with StandardScaler or MinMaxScaler.\n",
            "  % self.max_iter, ConvergenceWarning)\n",
            "/usr/local/lib/python3.6/dist-packages/sklearn/metrics/_classification.py:1272: UndefinedMetricWarning: Precision and F-score are ill-defined and being set to 0.0 in labels with no predicted samples. Use `zero_division` parameter to control this behavior.\n",
            "  _warn_prf(average, modifier, msg_start, len(result))\n"
          ],
          "name": "stderr"
        },
        {
          "output_type": "stream",
          "text": [
            "The Accurary of poly : 0.492176\n",
            "              precision    recall  f1-score   support\n",
            "\n",
            "        Drop       0.49      1.00      0.66       975\n",
            "          Up       0.00      0.00      0.00      1006\n",
            "\n",
            "    accuracy                           0.49      1981\n",
            "   macro avg       0.25      0.50      0.33      1981\n",
            "weighted avg       0.24      0.49      0.32      1981\n",
            "\n"
          ],
          "name": "stdout"
        },
        {
          "output_type": "stream",
          "text": [
            "/usr/local/lib/python3.6/dist-packages/sklearn/svm/_base.py:231: ConvergenceWarning: Solver terminated early (max_iter=5000).  Consider pre-processing your data with StandardScaler or MinMaxScaler.\n",
            "  % self.max_iter, ConvergenceWarning)\n",
            "/usr/local/lib/python3.6/dist-packages/sklearn/metrics/_classification.py:1272: UndefinedMetricWarning: Precision and F-score are ill-defined and being set to 0.0 in labels with no predicted samples. Use `zero_division` parameter to control this behavior.\n",
            "  _warn_prf(average, modifier, msg_start, len(result))\n"
          ],
          "name": "stderr"
        },
        {
          "output_type": "stream",
          "text": [
            "The Accurary of linear : 0.507824\n",
            "              precision    recall  f1-score   support\n",
            "\n",
            "        Drop       0.00      0.00      0.00       975\n",
            "          Up       0.51      1.00      0.67      1006\n",
            "\n",
            "    accuracy                           0.51      1981\n",
            "   macro avg       0.25      0.50      0.34      1981\n",
            "weighted avg       0.26      0.51      0.34      1981\n",
            "\n",
            "window_length: 90\n",
            "The Accurary of rbf : 0.491895\n",
            "              precision    recall  f1-score   support\n",
            "\n",
            "        Drop       0.49      0.99      0.66       971\n",
            "          Up       0.50      0.01      0.02      1003\n",
            "\n",
            "    accuracy                           0.49      1974\n",
            "   macro avg       0.50      0.50      0.34      1974\n",
            "weighted avg       0.50      0.49      0.33      1974\n",
            "\n"
          ],
          "name": "stdout"
        },
        {
          "output_type": "stream",
          "text": [
            "/usr/local/lib/python3.6/dist-packages/sklearn/svm/_base.py:231: ConvergenceWarning: Solver terminated early (max_iter=5000).  Consider pre-processing your data with StandardScaler or MinMaxScaler.\n",
            "  % self.max_iter, ConvergenceWarning)\n",
            "/usr/local/lib/python3.6/dist-packages/sklearn/metrics/_classification.py:1272: UndefinedMetricWarning: Precision and F-score are ill-defined and being set to 0.0 in labels with no predicted samples. Use `zero_division` parameter to control this behavior.\n",
            "  _warn_prf(average, modifier, msg_start, len(result))\n"
          ],
          "name": "stderr"
        },
        {
          "output_type": "stream",
          "text": [
            "The Accurary of poly : 0.491895\n",
            "              precision    recall  f1-score   support\n",
            "\n",
            "        Drop       0.49      1.00      0.66       971\n",
            "          Up       0.00      0.00      0.00      1003\n",
            "\n",
            "    accuracy                           0.49      1974\n",
            "   macro avg       0.25      0.50      0.33      1974\n",
            "weighted avg       0.24      0.49      0.32      1974\n",
            "\n"
          ],
          "name": "stdout"
        },
        {
          "output_type": "stream",
          "text": [
            "/usr/local/lib/python3.6/dist-packages/sklearn/svm/_base.py:231: ConvergenceWarning: Solver terminated early (max_iter=5000).  Consider pre-processing your data with StandardScaler or MinMaxScaler.\n",
            "  % self.max_iter, ConvergenceWarning)\n"
          ],
          "name": "stderr"
        },
        {
          "output_type": "stream",
          "text": [
            "The Accurary of linear : 0.497974\n",
            "              precision    recall  f1-score   support\n",
            "\n",
            "        Drop       0.49      0.60      0.54       971\n",
            "          Up       0.51      0.40      0.45      1003\n",
            "\n",
            "    accuracy                           0.50      1974\n",
            "   macro avg       0.50      0.50      0.49      1974\n",
            "weighted avg       0.50      0.50      0.49      1974\n",
            "\n",
            "window_length: 120\n",
            "The Accurary of rbf : 0.496439\n",
            "              precision    recall  f1-score   support\n",
            "\n",
            "        Drop       0.49      0.98      0.66       966\n",
            "          Up       0.60      0.03      0.06      1000\n",
            "\n",
            "    accuracy                           0.50      1966\n",
            "   macro avg       0.55      0.50      0.36      1966\n",
            "weighted avg       0.55      0.50      0.35      1966\n",
            "\n"
          ],
          "name": "stdout"
        },
        {
          "output_type": "stream",
          "text": [
            "/usr/local/lib/python3.6/dist-packages/sklearn/svm/_base.py:231: ConvergenceWarning: Solver terminated early (max_iter=5000).  Consider pre-processing your data with StandardScaler or MinMaxScaler.\n",
            "  % self.max_iter, ConvergenceWarning)\n",
            "/usr/local/lib/python3.6/dist-packages/sklearn/metrics/_classification.py:1272: UndefinedMetricWarning: Precision and F-score are ill-defined and being set to 0.0 in labels with no predicted samples. Use `zero_division` parameter to control this behavior.\n",
            "  _warn_prf(average, modifier, msg_start, len(result))\n"
          ],
          "name": "stderr"
        },
        {
          "output_type": "stream",
          "text": [
            "The Accurary of poly : 0.491353\n",
            "              precision    recall  f1-score   support\n",
            "\n",
            "        Drop       0.49      1.00      0.66       966\n",
            "          Up       0.00      0.00      0.00      1000\n",
            "\n",
            "    accuracy                           0.49      1966\n",
            "   macro avg       0.25      0.50      0.33      1966\n",
            "weighted avg       0.24      0.49      0.32      1966\n",
            "\n"
          ],
          "name": "stdout"
        },
        {
          "output_type": "stream",
          "text": [
            "/usr/local/lib/python3.6/dist-packages/sklearn/svm/_base.py:231: ConvergenceWarning: Solver terminated early (max_iter=5000).  Consider pre-processing your data with StandardScaler or MinMaxScaler.\n",
            "  % self.max_iter, ConvergenceWarning)\n",
            "/usr/local/lib/python3.6/dist-packages/sklearn/metrics/_classification.py:1272: UndefinedMetricWarning: Precision and F-score are ill-defined and being set to 0.0 in labels with no predicted samples. Use `zero_division` parameter to control this behavior.\n",
            "  _warn_prf(average, modifier, msg_start, len(result))\n"
          ],
          "name": "stderr"
        },
        {
          "output_type": "stream",
          "text": [
            "The Accurary of linear : 0.508647\n",
            "              precision    recall  f1-score   support\n",
            "\n",
            "        Drop       0.00      0.00      0.00       966\n",
            "          Up       0.51      1.00      0.67      1000\n",
            "\n",
            "    accuracy                           0.51      1966\n",
            "   macro avg       0.25      0.50      0.34      1966\n",
            "weighted avg       0.26      0.51      0.34      1966\n",
            "\n",
            "window_length: 150\n",
            "The Accurary of rbf : 0.504849\n",
            "              precision    recall  f1-score   support\n",
            "\n",
            "        Drop       0.50      0.96      0.66       964\n",
            "          Up       0.63      0.06      0.11       995\n",
            "\n",
            "    accuracy                           0.50      1959\n",
            "   macro avg       0.56      0.51      0.38      1959\n",
            "weighted avg       0.56      0.50      0.38      1959\n",
            "\n"
          ],
          "name": "stdout"
        },
        {
          "output_type": "stream",
          "text": [
            "/usr/local/lib/python3.6/dist-packages/sklearn/svm/_base.py:231: ConvergenceWarning: Solver terminated early (max_iter=5000).  Consider pre-processing your data with StandardScaler or MinMaxScaler.\n",
            "  % self.max_iter, ConvergenceWarning)\n",
            "/usr/local/lib/python3.6/dist-packages/sklearn/metrics/_classification.py:1272: UndefinedMetricWarning: Precision and F-score are ill-defined and being set to 0.0 in labels with no predicted samples. Use `zero_division` parameter to control this behavior.\n",
            "  _warn_prf(average, modifier, msg_start, len(result))\n"
          ],
          "name": "stderr"
        },
        {
          "output_type": "stream",
          "text": [
            "The Accurary of poly : 0.492088\n",
            "              precision    recall  f1-score   support\n",
            "\n",
            "        Drop       0.49      1.00      0.66       964\n",
            "          Up       0.00      0.00      0.00       995\n",
            "\n",
            "    accuracy                           0.49      1959\n",
            "   macro avg       0.25      0.50      0.33      1959\n",
            "weighted avg       0.24      0.49      0.32      1959\n",
            "\n"
          ],
          "name": "stdout"
        },
        {
          "output_type": "stream",
          "text": [
            "/usr/local/lib/python3.6/dist-packages/sklearn/svm/_base.py:231: ConvergenceWarning: Solver terminated early (max_iter=5000).  Consider pre-processing your data with StandardScaler or MinMaxScaler.\n",
            "  % self.max_iter, ConvergenceWarning)\n",
            "/usr/local/lib/python3.6/dist-packages/sklearn/metrics/_classification.py:1272: UndefinedMetricWarning: Precision and F-score are ill-defined and being set to 0.0 in labels with no predicted samples. Use `zero_division` parameter to control this behavior.\n",
            "  _warn_prf(average, modifier, msg_start, len(result))\n"
          ],
          "name": "stderr"
        },
        {
          "output_type": "stream",
          "text": [
            "The Accurary of linear : 0.507912\n",
            "              precision    recall  f1-score   support\n",
            "\n",
            "        Drop       0.00      0.00      0.00       964\n",
            "          Up       0.51      1.00      0.67       995\n",
            "\n",
            "    accuracy                           0.51      1959\n",
            "   macro avg       0.25      0.50      0.34      1959\n",
            "weighted avg       0.26      0.51      0.34      1959\n",
            "\n",
            "window_length: 180\n",
            "The Accurary of rbf : 0.498719\n",
            "              precision    recall  f1-score   support\n",
            "\n",
            "        Drop       0.50      0.94      0.65       960\n",
            "          Up       0.55      0.07      0.12       991\n",
            "\n",
            "    accuracy                           0.50      1951\n",
            "   macro avg       0.52      0.51      0.38      1951\n",
            "weighted avg       0.53      0.50      0.38      1951\n",
            "\n"
          ],
          "name": "stdout"
        },
        {
          "output_type": "stream",
          "text": [
            "/usr/local/lib/python3.6/dist-packages/sklearn/svm/_base.py:231: ConvergenceWarning: Solver terminated early (max_iter=5000).  Consider pre-processing your data with StandardScaler or MinMaxScaler.\n",
            "  % self.max_iter, ConvergenceWarning)\n",
            "/usr/local/lib/python3.6/dist-packages/sklearn/metrics/_classification.py:1272: UndefinedMetricWarning: Precision and F-score are ill-defined and being set to 0.0 in labels with no predicted samples. Use `zero_division` parameter to control this behavior.\n",
            "  _warn_prf(average, modifier, msg_start, len(result))\n"
          ],
          "name": "stderr"
        },
        {
          "output_type": "stream",
          "text": [
            "The Accurary of poly : 0.492055\n",
            "              precision    recall  f1-score   support\n",
            "\n",
            "        Drop       0.49      1.00      0.66       960\n",
            "          Up       0.00      0.00      0.00       991\n",
            "\n",
            "    accuracy                           0.49      1951\n",
            "   macro avg       0.25      0.50      0.33      1951\n",
            "weighted avg       0.24      0.49      0.32      1951\n",
            "\n"
          ],
          "name": "stdout"
        },
        {
          "output_type": "stream",
          "text": [
            "/usr/local/lib/python3.6/dist-packages/sklearn/svm/_base.py:231: ConvergenceWarning: Solver terminated early (max_iter=5000).  Consider pre-processing your data with StandardScaler or MinMaxScaler.\n",
            "  % self.max_iter, ConvergenceWarning)\n"
          ],
          "name": "stderr"
        },
        {
          "output_type": "stream",
          "text": [
            "The Accurary of linear : 0.508457\n",
            "              precision    recall  f1-score   support\n",
            "\n",
            "        Drop       0.52      0.02      0.03       960\n",
            "          Up       0.51      0.99      0.67       991\n",
            "\n",
            "    accuracy                           0.51      1951\n",
            "   macro avg       0.51      0.50      0.35      1951\n",
            "weighted avg       0.51      0.51      0.36      1951\n",
            "\n"
          ],
          "name": "stdout"
        },
        {
          "output_type": "display_data",
          "data": {
            "image/png": "[encoded data removed]",
            "text/plain": [
              "<Figure size 432x288 with 1 Axes>"
            ]
          },
          "metadata": {
            "tags": [],
            "needs_background": "light"
          }
        },
        {
          "output_type": "stream",
          "text": [
            "window_length: 7\n",
            "The Accurary of rbf : 0.560000\n",
            "              precision    recall  f1-score   support\n",
            "\n",
            "        Drop       0.56      0.98      0.72       155\n",
            "          Up       0.40      0.02      0.03       120\n",
            "\n",
            "    accuracy                           0.56       275\n",
            "   macro avg       0.48      0.50      0.37       275\n",
            "weighted avg       0.49      0.56      0.42       275\n",
            "\n",
            "The Accurary of poly : 0.563636\n",
            "              precision    recall  f1-score   support\n",
            "\n",
            "        Drop       0.56      1.00      0.72       155\n",
            "          Up       0.00      0.00      0.00       120\n",
            "\n",
            "    accuracy                           0.56       275\n",
            "   macro avg       0.28      0.50      0.36       275\n",
            "weighted avg       0.32      0.56      0.41       275\n",
            "\n",
            "The Accurary of linear : 0.436364\n",
            "              precision    recall  f1-score   support\n",
            "\n",
            "        Drop       0.00      0.00      0.00       155\n",
            "          Up       0.44      1.00      0.61       120\n",
            "\n",
            "    accuracy                           0.44       275\n",
            "   macro avg       0.22      0.50      0.30       275\n",
            "weighted avg       0.19      0.44      0.27       275\n",
            "\n",
            "window_length: 14\n"
          ],
          "name": "stdout"
        },
        {
          "output_type": "stream",
          "text": [
            "/usr/local/lib/python3.6/dist-packages/sklearn/svm/_base.py:231: ConvergenceWarning: Solver terminated early (max_iter=5000).  Consider pre-processing your data with StandardScaler or MinMaxScaler.\n",
            "  % self.max_iter, ConvergenceWarning)\n",
            "/usr/local/lib/python3.6/dist-packages/sklearn/metrics/_classification.py:1272: UndefinedMetricWarning: Precision and F-score are ill-defined and being set to 0.0 in labels with no predicted samples. Use `zero_division` parameter to control this behavior.\n",
            "  _warn_prf(average, modifier, msg_start, len(result))\n",
            "/usr/local/lib/python3.6/dist-packages/sklearn/svm/_base.py:231: ConvergenceWarning: Solver terminated early (max_iter=5000).  Consider pre-processing your data with StandardScaler or MinMaxScaler.\n",
            "  % self.max_iter, ConvergenceWarning)\n",
            "/usr/local/lib/python3.6/dist-packages/sklearn/metrics/_classification.py:1272: UndefinedMetricWarning: Precision and F-score are ill-defined and being set to 0.0 in labels with no predicted samples. Use `zero_division` parameter to control this behavior.\n",
            "  _warn_prf(average, modifier, msg_start, len(result))\n"
          ],
          "name": "stderr"
        },
        {
          "output_type": "stream",
          "text": [
            "The Accurary of rbf : 0.564103\n",
            "              precision    recall  f1-score   support\n",
            "\n",
            "        Drop       0.57      0.99      0.72       155\n",
            "          Up       0.33      0.01      0.02       118\n",
            "\n",
            "    accuracy                           0.56       273\n",
            "   macro avg       0.45      0.50      0.37       273\n",
            "weighted avg       0.47      0.56      0.42       273\n",
            "\n",
            "The Accurary of poly : 0.567766\n",
            "              precision    recall  f1-score   support\n",
            "\n",
            "        Drop       0.57      1.00      0.72       155\n",
            "          Up       0.00      0.00      0.00       118\n",
            "\n",
            "    accuracy                           0.57       273\n",
            "   macro avg       0.28      0.50      0.36       273\n",
            "weighted avg       0.32      0.57      0.41       273\n",
            "\n",
            "The Accurary of linear : 0.549451\n",
            "              precision    recall  f1-score   support\n",
            "\n",
            "        Drop       0.57      0.88      0.69       155\n",
            "          Up       0.42      0.11      0.17       118\n",
            "\n",
            "    accuracy                           0.55       273\n",
            "   macro avg       0.49      0.50      0.43       273\n",
            "weighted avg       0.50      0.55      0.47       273\n",
            "\n",
            "window_length: 21\n"
          ],
          "name": "stdout"
        },
        {
          "output_type": "stream",
          "text": [
            "/usr/local/lib/python3.6/dist-packages/sklearn/metrics/_classification.py:1272: UndefinedMetricWarning: Precision and F-score are ill-defined and being set to 0.0 in labels with no predicted samples. Use `zero_division` parameter to control this behavior.\n",
            "  _warn_prf(average, modifier, msg_start, len(result))\n",
            "/usr/local/lib/python3.6/dist-packages/sklearn/svm/_base.py:231: ConvergenceWarning: Solver terminated early (max_iter=5000).  Consider pre-processing your data with StandardScaler or MinMaxScaler.\n",
            "  % self.max_iter, ConvergenceWarning)\n"
          ],
          "name": "stderr"
        },
        {
          "output_type": "stream",
          "text": [
            "The Accurary of rbf : 0.564576\n",
            "              precision    recall  f1-score   support\n",
            "\n",
            "        Drop       0.57      0.99      0.72       153\n",
            "          Up       0.50      0.02      0.03       118\n",
            "\n",
            "    accuracy                           0.56       271\n",
            "   macro avg       0.53      0.50      0.38       271\n",
            "weighted avg       0.54      0.56      0.42       271\n",
            "\n"
          ],
          "name": "stdout"
        },
        {
          "output_type": "stream",
          "text": [
            "/usr/local/lib/python3.6/dist-packages/sklearn/metrics/_classification.py:1272: UndefinedMetricWarning: Precision and F-score are ill-defined and being set to 0.0 in labels with no predicted samples. Use `zero_division` parameter to control this behavior.\n",
            "  _warn_prf(average, modifier, msg_start, len(result))\n",
            "/usr/local/lib/python3.6/dist-packages/sklearn/svm/_base.py:231: ConvergenceWarning: Solver terminated early (max_iter=5000).  Consider pre-processing your data with StandardScaler or MinMaxScaler.\n",
            "  % self.max_iter, ConvergenceWarning)\n",
            "/usr/local/lib/python3.6/dist-packages/sklearn/metrics/_classification.py:1272: UndefinedMetricWarning: Precision and F-score are ill-defined and being set to 0.0 in labels with no predicted samples. Use `zero_division` parameter to control this behavior.\n",
            "  _warn_prf(average, modifier, msg_start, len(result))\n"
          ],
          "name": "stderr"
        },
        {
          "output_type": "stream",
          "text": [
            "The Accurary of poly : 0.564576\n",
            "              precision    recall  f1-score   support\n",
            "\n",
            "        Drop       0.56      1.00      0.72       153\n",
            "          Up       0.00      0.00      0.00       118\n",
            "\n",
            "    accuracy                           0.56       271\n",
            "   macro avg       0.28      0.50      0.36       271\n",
            "weighted avg       0.32      0.56      0.41       271\n",
            "\n",
            "The Accurary of linear : 0.435424\n",
            "              precision    recall  f1-score   support\n",
            "\n",
            "        Drop       0.00      0.00      0.00       153\n",
            "          Up       0.44      1.00      0.61       118\n",
            "\n",
            "    accuracy                           0.44       271\n",
            "   macro avg       0.22      0.50      0.30       271\n",
            "weighted avg       0.19      0.44      0.26       271\n",
            "\n",
            "window_length: 30\n",
            "The Accurary of rbf : 0.565056\n",
            "              precision    recall  f1-score   support\n",
            "\n",
            "        Drop       0.56      0.99      0.72       151\n",
            "          Up       0.67      0.02      0.03       118\n",
            "\n",
            "    accuracy                           0.57       269\n",
            "   macro avg       0.62      0.51      0.38       269\n",
            "weighted avg       0.61      0.57      0.42       269\n",
            "\n"
          ],
          "name": "stdout"
        },
        {
          "output_type": "stream",
          "text": [
            "/usr/local/lib/python3.6/dist-packages/sklearn/metrics/_classification.py:1272: UndefinedMetricWarning: Precision and F-score are ill-defined and being set to 0.0 in labels with no predicted samples. Use `zero_division` parameter to control this behavior.\n",
            "  _warn_prf(average, modifier, msg_start, len(result))\n",
            "/usr/local/lib/python3.6/dist-packages/sklearn/svm/_base.py:231: ConvergenceWarning: Solver terminated early (max_iter=5000).  Consider pre-processing your data with StandardScaler or MinMaxScaler.\n",
            "  % self.max_iter, ConvergenceWarning)\n",
            "/usr/local/lib/python3.6/dist-packages/sklearn/metrics/_classification.py:1272: UndefinedMetricWarning: Precision and F-score are ill-defined and being set to 0.0 in labels with no predicted samples. Use `zero_division` parameter to control this behavior.\n",
            "  _warn_prf(average, modifier, msg_start, len(result))\n"
          ],
          "name": "stderr"
        },
        {
          "output_type": "stream",
          "text": [
            "The Accurary of poly : 0.561338\n",
            "              precision    recall  f1-score   support\n",
            "\n",
            "        Drop       0.56      1.00      0.72       151\n",
            "          Up       0.00      0.00      0.00       118\n",
            "\n",
            "    accuracy                           0.56       269\n",
            "   macro avg       0.28      0.50      0.36       269\n",
            "weighted avg       0.32      0.56      0.40       269\n",
            "\n",
            "The Accurary of linear : 0.438662\n",
            "              precision    recall  f1-score   support\n",
            "\n",
            "        Drop       0.00      0.00      0.00       151\n",
            "          Up       0.44      1.00      0.61       118\n",
            "\n",
            "    accuracy                           0.44       269\n",
            "   macro avg       0.22      0.50      0.30       269\n",
            "weighted avg       0.19      0.44      0.27       269\n",
            "\n",
            "window_length: 60\n"
          ],
          "name": "stdout"
        },
        {
          "output_type": "stream",
          "text": [
            "/usr/local/lib/python3.6/dist-packages/sklearn/metrics/_classification.py:1272: UndefinedMetricWarning: Precision and F-score are ill-defined and being set to 0.0 in labels with no predicted samples. Use `zero_division` parameter to control this behavior.\n",
            "  _warn_prf(average, modifier, msg_start, len(result))\n"
          ],
          "name": "stderr"
        },
        {
          "output_type": "stream",
          "text": [
            "The Accurary of rbf : 0.555556\n",
            "              precision    recall  f1-score   support\n",
            "\n",
            "        Drop       0.56      1.00      0.71       145\n",
            "          Up       0.00      0.00      0.00       116\n",
            "\n",
            "    accuracy                           0.56       261\n",
            "   macro avg       0.28      0.50      0.36       261\n",
            "weighted avg       0.31      0.56      0.40       261\n",
            "\n"
          ],
          "name": "stdout"
        },
        {
          "output_type": "stream",
          "text": [
            "/usr/local/lib/python3.6/dist-packages/sklearn/metrics/_classification.py:1272: UndefinedMetricWarning: Precision and F-score are ill-defined and being set to 0.0 in labels with no predicted samples. Use `zero_division` parameter to control this behavior.\n",
            "  _warn_prf(average, modifier, msg_start, len(result))\n"
          ],
          "name": "stderr"
        },
        {
          "output_type": "stream",
          "text": [
            "The Accurary of poly : 0.555556\n",
            "              precision    recall  f1-score   support\n",
            "\n",
            "        Drop       0.56      1.00      0.71       145\n",
            "          Up       0.00      0.00      0.00       116\n",
            "\n",
            "    accuracy                           0.56       261\n",
            "   macro avg       0.28      0.50      0.36       261\n",
            "weighted avg       0.31      0.56      0.40       261\n",
            "\n"
          ],
          "name": "stdout"
        },
        {
          "output_type": "stream",
          "text": [
            "/usr/local/lib/python3.6/dist-packages/sklearn/svm/_base.py:231: ConvergenceWarning: Solver terminated early (max_iter=5000).  Consider pre-processing your data with StandardScaler or MinMaxScaler.\n",
            "  % self.max_iter, ConvergenceWarning)\n"
          ],
          "name": "stderr"
        },
        {
          "output_type": "stream",
          "text": [
            "The Accurary of linear : 0.521073\n",
            "              precision    recall  f1-score   support\n",
            "\n",
            "        Drop       0.57      0.58      0.57       145\n",
            "          Up       0.46      0.45      0.45       116\n",
            "\n",
            "    accuracy                           0.52       261\n",
            "   macro avg       0.51      0.51      0.51       261\n",
            "weighted avg       0.52      0.52      0.52       261\n",
            "\n",
            "window_length: 90\n"
          ],
          "name": "stdout"
        },
        {
          "output_type": "stream",
          "text": [
            "/usr/local/lib/python3.6/dist-packages/sklearn/metrics/_classification.py:1272: UndefinedMetricWarning: Precision and F-score are ill-defined and being set to 0.0 in labels with no predicted samples. Use `zero_division` parameter to control this behavior.\n",
            "  _warn_prf(average, modifier, msg_start, len(result))\n"
          ],
          "name": "stderr"
        },
        {
          "output_type": "stream",
          "text": [
            "The Accurary of rbf : 0.555118\n",
            "              precision    recall  f1-score   support\n",
            "\n",
            "        Drop       0.56      1.00      0.71       141\n",
            "          Up       0.00      0.00      0.00       113\n",
            "\n",
            "    accuracy                           0.56       254\n",
            "   macro avg       0.28      0.50      0.36       254\n",
            "weighted avg       0.31      0.56      0.40       254\n",
            "\n"
          ],
          "name": "stdout"
        },
        {
          "output_type": "stream",
          "text": [
            "/usr/local/lib/python3.6/dist-packages/sklearn/metrics/_classification.py:1272: UndefinedMetricWarning: Precision and F-score are ill-defined and being set to 0.0 in labels with no predicted samples. Use `zero_division` parameter to control this behavior.\n",
            "  _warn_prf(average, modifier, msg_start, len(result))\n"
          ],
          "name": "stderr"
        },
        {
          "output_type": "stream",
          "text": [
            "The Accurary of poly : 0.555118\n",
            "              precision    recall  f1-score   support\n",
            "\n",
            "        Drop       0.56      1.00      0.71       141\n",
            "          Up       0.00      0.00      0.00       113\n",
            "\n",
            "    accuracy                           0.56       254\n",
            "   macro avg       0.28      0.50      0.36       254\n",
            "weighted avg       0.31      0.56      0.40       254\n",
            "\n"
          ],
          "name": "stdout"
        },
        {
          "output_type": "stream",
          "text": [
            "/usr/local/lib/python3.6/dist-packages/sklearn/svm/_base.py:231: ConvergenceWarning: Solver terminated early (max_iter=5000).  Consider pre-processing your data with StandardScaler or MinMaxScaler.\n",
            "  % self.max_iter, ConvergenceWarning)\n",
            "/usr/local/lib/python3.6/dist-packages/sklearn/metrics/_classification.py:1272: UndefinedMetricWarning: Precision and F-score are ill-defined and being set to 0.0 in labels with no predicted samples. Use `zero_division` parameter to control this behavior.\n",
            "  _warn_prf(average, modifier, msg_start, len(result))\n"
          ],
          "name": "stderr"
        },
        {
          "output_type": "stream",
          "text": [
            "The Accurary of linear : 0.444882\n",
            "              precision    recall  f1-score   support\n",
            "\n",
            "        Drop       0.00      0.00      0.00       141\n",
            "          Up       0.44      1.00      0.62       113\n",
            "\n",
            "    accuracy                           0.44       254\n",
            "   macro avg       0.22      0.50      0.31       254\n",
            "weighted avg       0.20      0.44      0.27       254\n",
            "\n",
            "window_length: 120\n"
          ],
          "name": "stdout"
        },
        {
          "output_type": "stream",
          "text": [
            "/usr/local/lib/python3.6/dist-packages/sklearn/metrics/_classification.py:1272: UndefinedMetricWarning: Precision and F-score are ill-defined and being set to 0.0 in labels with no predicted samples. Use `zero_division` parameter to control this behavior.\n",
            "  _warn_prf(average, modifier, msg_start, len(result))\n"
          ],
          "name": "stderr"
        },
        {
          "output_type": "stream",
          "text": [
            "The Accurary of rbf : 0.560976\n",
            "              precision    recall  f1-score   support\n",
            "\n",
            "        Drop       0.56      1.00      0.72       138\n",
            "          Up       0.00      0.00      0.00       108\n",
            "\n",
            "    accuracy                           0.56       246\n",
            "   macro avg       0.28      0.50      0.36       246\n",
            "weighted avg       0.31      0.56      0.40       246\n",
            "\n"
          ],
          "name": "stdout"
        },
        {
          "output_type": "stream",
          "text": [
            "/usr/local/lib/python3.6/dist-packages/sklearn/metrics/_classification.py:1272: UndefinedMetricWarning: Precision and F-score are ill-defined and being set to 0.0 in labels with no predicted samples. Use `zero_division` parameter to control this behavior.\n",
            "  _warn_prf(average, modifier, msg_start, len(result))\n"
          ],
          "name": "stderr"
        },
        {
          "output_type": "stream",
          "text": [
            "The Accurary of poly : 0.560976\n",
            "              precision    recall  f1-score   support\n",
            "\n",
            "        Drop       0.56      1.00      0.72       138\n",
            "          Up       0.00      0.00      0.00       108\n",
            "\n",
            "    accuracy                           0.56       246\n",
            "   macro avg       0.28      0.50      0.36       246\n",
            "weighted avg       0.31      0.56      0.40       246\n",
            "\n"
          ],
          "name": "stdout"
        },
        {
          "output_type": "stream",
          "text": [
            "/usr/local/lib/python3.6/dist-packages/sklearn/svm/_base.py:231: ConvergenceWarning: Solver terminated early (max_iter=5000).  Consider pre-processing your data with StandardScaler or MinMaxScaler.\n",
            "  % self.max_iter, ConvergenceWarning)\n",
            "/usr/local/lib/python3.6/dist-packages/sklearn/metrics/_classification.py:1272: UndefinedMetricWarning: Precision and F-score are ill-defined and being set to 0.0 in labels with no predicted samples. Use `zero_division` parameter to control this behavior.\n",
            "  _warn_prf(average, modifier, msg_start, len(result))\n"
          ],
          "name": "stderr"
        },
        {
          "output_type": "stream",
          "text": [
            "The Accurary of linear : 0.439024\n",
            "              precision    recall  f1-score   support\n",
            "\n",
            "        Drop       0.00      0.00      0.00       138\n",
            "          Up       0.44      1.00      0.61       108\n",
            "\n",
            "    accuracy                           0.44       246\n",
            "   macro avg       0.22      0.50      0.31       246\n",
            "weighted avg       0.19      0.44      0.27       246\n",
            "\n",
            "window_length: 150\n"
          ],
          "name": "stdout"
        },
        {
          "output_type": "stream",
          "text": [
            "/usr/local/lib/python3.6/dist-packages/sklearn/metrics/_classification.py:1272: UndefinedMetricWarning: Precision and F-score are ill-defined and being set to 0.0 in labels with no predicted samples. Use `zero_division` parameter to control this behavior.\n",
            "  _warn_prf(average, modifier, msg_start, len(result))\n"
          ],
          "name": "stderr"
        },
        {
          "output_type": "stream",
          "text": [
            "The Accurary of rbf : 0.560669\n",
            "              precision    recall  f1-score   support\n",
            "\n",
            "        Drop       0.56      1.00      0.72       134\n",
            "          Up       0.00      0.00      0.00       105\n",
            "\n",
            "    accuracy                           0.56       239\n",
            "   macro avg       0.28      0.50      0.36       239\n",
            "weighted avg       0.31      0.56      0.40       239\n",
            "\n"
          ],
          "name": "stdout"
        },
        {
          "output_type": "stream",
          "text": [
            "/usr/local/lib/python3.6/dist-packages/sklearn/metrics/_classification.py:1272: UndefinedMetricWarning: Precision and F-score are ill-defined and being set to 0.0 in labels with no predicted samples. Use `zero_division` parameter to control this behavior.\n",
            "  _warn_prf(average, modifier, msg_start, len(result))\n"
          ],
          "name": "stderr"
        },
        {
          "output_type": "stream",
          "text": [
            "The Accurary of poly : 0.560669\n",
            "              precision    recall  f1-score   support\n",
            "\n",
            "        Drop       0.56      1.00      0.72       134\n",
            "          Up       0.00      0.00      0.00       105\n",
            "\n",
            "    accuracy                           0.56       239\n",
            "   macro avg       0.28      0.50      0.36       239\n",
            "weighted avg       0.31      0.56      0.40       239\n",
            "\n"
          ],
          "name": "stdout"
        },
        {
          "output_type": "stream",
          "text": [
            "/usr/local/lib/python3.6/dist-packages/sklearn/svm/_base.py:231: ConvergenceWarning: Solver terminated early (max_iter=5000).  Consider pre-processing your data with StandardScaler or MinMaxScaler.\n",
            "  % self.max_iter, ConvergenceWarning)\n",
            "/usr/local/lib/python3.6/dist-packages/sklearn/metrics/_classification.py:1272: UndefinedMetricWarning: Precision and F-score are ill-defined and being set to 0.0 in labels with no predicted samples. Use `zero_division` parameter to control this behavior.\n",
            "  _warn_prf(average, modifier, msg_start, len(result))\n"
          ],
          "name": "stderr"
        },
        {
          "output_type": "stream",
          "text": [
            "The Accurary of linear : 0.439331\n",
            "              precision    recall  f1-score   support\n",
            "\n",
            "        Drop       0.00      0.00      0.00       134\n",
            "          Up       0.44      1.00      0.61       105\n",
            "\n",
            "    accuracy                           0.44       239\n",
            "   macro avg       0.22      0.50      0.31       239\n",
            "weighted avg       0.19      0.44      0.27       239\n",
            "\n",
            "window_length: 180\n"
          ],
          "name": "stdout"
        },
        {
          "output_type": "stream",
          "text": [
            "/usr/local/lib/python3.6/dist-packages/sklearn/metrics/_classification.py:1272: UndefinedMetricWarning: Precision and F-score are ill-defined and being set to 0.0 in labels with no predicted samples. Use `zero_division` parameter to control this behavior.\n",
            "  _warn_prf(average, modifier, msg_start, len(result))\n"
          ],
          "name": "stderr"
        },
        {
          "output_type": "stream",
          "text": [
            "The Accurary of rbf : 0.558442\n",
            "              precision    recall  f1-score   support\n",
            "\n",
            "        Drop       0.56      1.00      0.72       129\n",
            "          Up       0.00      0.00      0.00       102\n",
            "\n",
            "    accuracy                           0.56       231\n",
            "   macro avg       0.28      0.50      0.36       231\n",
            "weighted avg       0.31      0.56      0.40       231\n",
            "\n"
          ],
          "name": "stdout"
        },
        {
          "output_type": "stream",
          "text": [
            "/usr/local/lib/python3.6/dist-packages/sklearn/metrics/_classification.py:1272: UndefinedMetricWarning: Precision and F-score are ill-defined and being set to 0.0 in labels with no predicted samples. Use `zero_division` parameter to control this behavior.\n",
            "  _warn_prf(average, modifier, msg_start, len(result))\n"
          ],
          "name": "stderr"
        },
        {
          "output_type": "stream",
          "text": [
            "The Accurary of poly : 0.558442\n",
            "              precision    recall  f1-score   support\n",
            "\n",
            "        Drop       0.56      1.00      0.72       129\n",
            "          Up       0.00      0.00      0.00       102\n",
            "\n",
            "    accuracy                           0.56       231\n",
            "   macro avg       0.28      0.50      0.36       231\n",
            "weighted avg       0.31      0.56      0.40       231\n",
            "\n"
          ],
          "name": "stdout"
        },
        {
          "output_type": "stream",
          "text": [
            "/usr/local/lib/python3.6/dist-packages/sklearn/svm/_base.py:231: ConvergenceWarning: Solver terminated early (max_iter=5000).  Consider pre-processing your data with StandardScaler or MinMaxScaler.\n",
            "  % self.max_iter, ConvergenceWarning)\n"
          ],
          "name": "stderr"
        },
        {
          "output_type": "stream",
          "text": [
            "The Accurary of linear : 0.441558\n",
            "              precision    recall  f1-score   support\n",
            "\n",
            "        Drop       0.00      0.00      0.00       129\n",
            "          Up       0.44      1.00      0.61       102\n",
            "\n",
            "    accuracy                           0.44       231\n",
            "   macro avg       0.22      0.50      0.31       231\n",
            "weighted avg       0.19      0.44      0.27       231\n",
            "\n"
          ],
          "name": "stdout"
        },
        {
          "output_type": "stream",
          "text": [
            "/usr/local/lib/python3.6/dist-packages/sklearn/metrics/_classification.py:1272: UndefinedMetricWarning: Precision and F-score are ill-defined and being set to 0.0 in labels with no predicted samples. Use `zero_division` parameter to control this behavior.\n",
            "  _warn_prf(average, modifier, msg_start, len(result))\n"
          ],
          "name": "stderr"
        }
      ]
    },
    {
      "cell_type": "markdown",
      "metadata": {
        "id": "ONGHF-gNviZv"
      },
      "source": [
        "# Neural Networks"
      ]
    },
    {
      "cell_type": "markdown",
      "metadata": {
        "id": "c25ThBW7yx_C"
      },
      "source": [
        "Imports that the Neural Networks will use."
      ]
    },
    {
      "cell_type": "code",
      "metadata": {
        "id": "Q-EWJ9Bnvidp"
      },
      "source": [
        "from tensorflow.keras.models import Sequential\r\n",
        "from tensorflow.keras.layers import LSTM\r\n",
        "from tensorflow.keras.layers import Dense\r\n",
        "from tensorflow.keras.layers import Dropout\r\n",
        "from tensorflow.keras.layers import Conv1D\r\n",
        "from tensorflow.keras.layers import Flatten\r\n",
        "from tensorflow.keras.layers import MaxPooling1D\r\n",
        "from sklearn.preprocessing import MinMaxScaler\r\n",
        "from sklearn.metrics import accuracy_score, precision_score, recall_score, f1_score"
      ],
      "execution_count": 14,
      "outputs": []
    },
    {
      "cell_type": "markdown",
      "metadata": {
        "id": "hZQsKSiv7eRs"
      },
      "source": [
        "## LSTM"
      ]
    },
    {
      "cell_type": "markdown",
      "metadata": {
        "id": "n4qLyOvCTVKQ"
      },
      "source": [
        "Long short-term memory (LSTM) is an artificial recurrent neural network (RNN) architecture used in the field of deep learning. LSTM models are able to store information over a period of time. This characteristic is extremely useful when we deal with Time-Series or Sequential Data like financial data as all transactions usually have a date with them. When using an LSTM model we are free and able to decide what information will be stored and what discarded."
      ]
    },
    {
      "cell_type": "code",
      "metadata": {
        "id": "3gDgy1lirVdc"
      },
      "source": [
        "#Method to add time_step worth of the nearest values to Tensor object.\r\n",
        "def create_LSTM_dataset(dataset, time_step):\r\n",
        "    X, Y = [], []\r\n",
        "    for i in range(len(dataset)-time_step-1):    \r\n",
        "        X.append(dataset[i:(i+time_step), 0])\r\n",
        "        Y.append(dataset[i + time_step, 0])\r\n",
        "    return np.array(X), np.array(Y)\r\n",
        "\r\n",
        "#Method to create a LSTM model with 2 layers with 50 neurons each and 1 output layer.\r\n",
        "def create_LSTM_model (time_step):\r\n",
        "  model=Sequential()\r\n",
        "  model.add(LSTM(50, return_sequences=True, input_shape=(time_step, 1)))\r\n",
        "  model.add(LSTM(50))\r\n",
        "  model.add(Dense(1))\r\n",
        "  model.compile(loss='mean_squared_error', optimizer='adam')\r\n",
        "  model.summary()\r\n",
        "  return model\r\n",
        "\r\n",
        "#Method to split the data into training and validation data. We can't use train_test_split method as we're dealing with a Time-Series\r\n",
        "def splitTrainTestData(breakoff, data):\r\n",
        "  train_size = int(len(data) * breakoff)\r\n",
        "  train_data = data[:train_size,:]\r\n",
        "  test_data = data[train_size:, :1]\r\n",
        "  return (train_data, test_data)\r\n",
        "\r\n",
        "#Normalize the values\r\n",
        "def scaleData(data):\r\n",
        "  scaler=MinMaxScaler()\r\n",
        "  scaled=scaler.fit_transform(data)\r\n",
        "  return scaled\r\n",
        "\r\n",
        "#Create copy so other models won't be affected.\r\n",
        "def create_df_copy(df):\r\n",
        "  return df.copy(deep=True)"
      ],
      "execution_count": 15,
      "outputs": []
    },
    {
      "cell_type": "markdown",
      "metadata": {
        "id": "ueyMBRnYT4lz"
      },
      "source": [
        "The value that this LSTM model will predict will be the \"Close\" value of the stock price. As all of the data is already in chronological order. We just need to take just the target value from the dataset and normalize it. After, which we split the data into training and validation data to later on train our model. To make use of the LSTM characteristic memory, we attach 90 (time_step) chronologically closest values for each entry in the dataframe. When that is done, we reshape the current arrays into Tensor objects so that the Neural Networks are able to easily understand and use them to learn. Our model has 2 LSTM layers with 50 neurons each and a single Dense Layer so that our prediction would be singular entry of data. To test the efficiency of our data, we compare the prediction of the model with the \"Close\" values from the DataFrame on a simple graph.\r\n",
        "\r\n",
        "Our LSTM model was quite succesful, as it was able to grasp the general structure, matching the changes in the stock market, but not quite perfectly. Our LSTM model had a lag of 1 day."
      ]
    },
    {
      "cell_type": "code",
      "metadata": {
        "id": "D7I-tHMhrM5N"
      },
      "source": [
        "def findLSTMResult(dataframe, name) :\r\n",
        "  df = create_df_copy(dataframe)\r\n",
        "\r\n",
        "  data = np.array(df[\"Close\"]).reshape(-1,1)\r\n",
        "  data=scaleData(data)\r\n",
        "\r\n",
        "  train_data, test_data = splitTrainTestData(0.7, data)\r\n",
        "\r\n",
        "  time_step = 90\r\n",
        "  X_train, y_train = create_LSTM_dataset(train_data, time_step)\r\n",
        "  X_test, y_test = create_LSTM_dataset(test_data, time_step)\r\n",
        "\r\n",
        "  X_train = X_train.reshape(X_train.shape[0], X_train.shape[1] , 1)\r\n",
        "  X_test = X_test.reshape(X_test.shape[0], X_test.shape[1] , 1)\r\n",
        "\r\n",
        "  model= create_LSTM_model(time_step)\r\n",
        "\r\n",
        "  model.fit(X_train, y_train, validation_data=(X_test, y_test), epochs=32, batch_size=32)\r\n",
        "\r\n",
        "  resultsplot = np.concatenate((model.predict(X_train), model.predict(X_test)), axis=0)\r\n",
        "\r\n",
        "  sns.lineplot(data=data[:, 0], label=\"Original\")\r\n",
        "  sns.lineplot(data=resultsplot[:, 0], label=\"Predicted\")\r\n",
        "  plt.xlabel(\"Stock close price\")\r\n",
        "  plt.title(name, size=24)\r\n"
      ],
      "execution_count": 16,
      "outputs": []
    },
    {
      "cell_type": "code",
      "metadata": {
        "id": "3cwqByAQrne0",
        "colab": {
          "base_uri": "https://localhost:8080/",
          "height": 1000
        },
        "outputId": "edb2a5a4-b36f-4f1a-f877-bd99b5904873"
      },
      "source": [
        "findLSTMResult(df_new_google, \"Google\")"
      ],
      "execution_count": 17,
      "outputs": [
        {
          "output_type": "stream",
          "text": [
            "Model: \"sequential\"\n",
            "_________________________________________________________________\n",
            "Layer (type)                 Output Shape              Param #   \n",
            "=================================================================\n",
            "lstm (LSTM)                  (None, 90, 50)            10400     \n",
            "_________________________________________________________________\n",
            "lstm_1 (LSTM)                (None, 50)                20200     \n",
            "_________________________________________________________________\n",
            "dense (Dense)                (None, 1)                 51        \n",
            "=================================================================\n",
            "Total params: 30,651\n",
            "Trainable params: 30,651\n",
            "Non-trainable params: 0\n",
            "_________________________________________________________________\n",
            "Epoch 1/32\n",
            "71/71 [==============================] - 7s 92ms/step - loss: 0.0038 - val_loss: 0.0043\n",
            "Epoch 2/32\n",
            "71/71 [==============================] - 6s 91ms/step - loss: 1.7382e-04 - val_loss: 0.0028\n",
            "Epoch 3/32\n",
            "71/71 [==============================] - 6s 91ms/step - loss: 1.5810e-04 - val_loss: 0.0092\n",
            "Epoch 4/32\n",
            "71/71 [==============================] - 6s 88ms/step - loss: 1.9582e-04 - val_loss: 0.0012\n",
            "Epoch 5/32\n",
            "71/71 [==============================] - 7s 92ms/step - loss: 1.3823e-04 - val_loss: 0.0013\n",
            "Epoch 6/32\n",
            "71/71 [==============================] - 7s 93ms/step - loss: 1.3300e-04 - val_loss: 6.1048e-04\n",
            "Epoch 7/32\n",
            "71/71 [==============================] - 7s 94ms/step - loss: 1.2115e-04 - val_loss: 5.3126e-04\n",
            "Epoch 8/32\n",
            "71/71 [==============================] - 7s 93ms/step - loss: 1.2241e-04 - val_loss: 6.1596e-04\n",
            "Epoch 9/32\n",
            "71/71 [==============================] - 6s 90ms/step - loss: 1.2918e-04 - val_loss: 7.1062e-04\n",
            "Epoch 10/32\n",
            "71/71 [==============================] - 7s 92ms/step - loss: 1.1106e-04 - val_loss: 4.6519e-04\n",
            "Epoch 11/32\n",
            "71/71 [==============================] - 7s 93ms/step - loss: 1.0282e-04 - val_loss: 3.0749e-04\n",
            "Epoch 12/32\n",
            "71/71 [==============================] - 6s 90ms/step - loss: 9.5500e-05 - val_loss: 3.3960e-04\n",
            "Epoch 13/32\n",
            "71/71 [==============================] - 7s 93ms/step - loss: 1.0614e-04 - val_loss: 6.7833e-04\n",
            "Epoch 14/32\n",
            "71/71 [==============================] - 7s 92ms/step - loss: 8.8085e-05 - val_loss: 4.6071e-04\n",
            "Epoch 15/32\n",
            "71/71 [==============================] - 6s 91ms/step - loss: 8.7834e-05 - val_loss: 3.7258e-04\n",
            "Epoch 16/32\n",
            "71/71 [==============================] - 7s 92ms/step - loss: 8.3499e-05 - val_loss: 4.1007e-04\n",
            "Epoch 17/32\n",
            "71/71 [==============================] - 7s 92ms/step - loss: 8.9570e-05 - val_loss: 2.6848e-04\n",
            "Epoch 18/32\n",
            "71/71 [==============================] - 7s 97ms/step - loss: 7.3413e-05 - val_loss: 3.5470e-04\n",
            "Epoch 19/32\n",
            "71/71 [==============================] - 6s 90ms/step - loss: 7.1929e-05 - val_loss: 4.0613e-04\n",
            "Epoch 20/32\n",
            "71/71 [==============================] - 7s 93ms/step - loss: 6.9921e-05 - val_loss: 3.5081e-04\n",
            "Epoch 21/32\n",
            "71/71 [==============================] - 7s 93ms/step - loss: 6.7722e-05 - val_loss: 4.7775e-04\n",
            "Epoch 22/32\n",
            "71/71 [==============================] - 6s 90ms/step - loss: 6.3978e-05 - val_loss: 2.4931e-04\n",
            "Epoch 23/32\n",
            "71/71 [==============================] - 6s 91ms/step - loss: 6.5855e-05 - val_loss: 5.6937e-04\n",
            "Epoch 24/32\n",
            "71/71 [==============================] - 7s 93ms/step - loss: 6.3062e-05 - val_loss: 2.4424e-04\n",
            "Epoch 25/32\n",
            "71/71 [==============================] - 7s 93ms/step - loss: 6.0023e-05 - val_loss: 7.6761e-04\n",
            "Epoch 26/32\n",
            "71/71 [==============================] - 6s 91ms/step - loss: 6.5158e-05 - val_loss: 3.0754e-04\n",
            "Epoch 27/32\n",
            "71/71 [==============================] - 7s 95ms/step - loss: 6.1037e-05 - val_loss: 2.4994e-04\n",
            "Epoch 28/32\n",
            "71/71 [==============================] - 7s 93ms/step - loss: 6.1133e-05 - val_loss: 2.1470e-04\n",
            "Epoch 29/32\n",
            "71/71 [==============================] - 7s 93ms/step - loss: 5.4742e-05 - val_loss: 4.0433e-04\n",
            "Epoch 30/32\n",
            "71/71 [==============================] - 6s 89ms/step - loss: 6.3125e-05 - val_loss: 2.1587e-04\n",
            "Epoch 31/32\n",
            "71/71 [==============================] - 6s 88ms/step - loss: 6.6022e-05 - val_loss: 1.9696e-04\n",
            "Epoch 32/32\n",
            "71/71 [==============================] - 6s 91ms/step - loss: 5.2492e-05 - val_loss: 8.2942e-04\n"
          ],
          "name": "stdout"
        },
        {
          "output_type": "display_data",
          "data": {
            "image/png": "[encoded data removed]",
            "text/plain": [
              "<Figure size 432x288 with 1 Axes>"
            ]
          },
          "metadata": {
            "tags": [],
            "needs_background": "light"
          }
        }
      ]
    },
    {
      "cell_type": "code",
      "metadata": {
        "id": "bGmz19mDulXp",
        "colab": {
          "base_uri": "https://localhost:8080/",
          "height": 1000
        },
        "outputId": "b713ec8e-29df-4c7e-c036-3686b2655cfb"
      },
      "source": [
        "findLSTMResult(df_new_amazon, \"Amazon\")"
      ],
      "execution_count": 18,
      "outputs": [
        {
          "output_type": "stream",
          "text": [
            "Model: \"sequential_1\"\n",
            "_________________________________________________________________\n",
            "Layer (type)                 Output Shape              Param #   \n",
            "=================================================================\n",
            "lstm_2 (LSTM)                (None, 90, 50)            10400     \n",
            "_________________________________________________________________\n",
            "lstm_3 (LSTM)                (None, 50)                20200     \n",
            "_________________________________________________________________\n",
            "dense_1 (Dense)              (None, 1)                 51        \n",
            "=================================================================\n",
            "Total params: 30,651\n",
            "Trainable params: 30,651\n",
            "Non-trainable params: 0\n",
            "_________________________________________________________________\n",
            "Epoch 1/32\n",
            "110/110 [==============================] - 11s 96ms/step - loss: 1.9063e-04 - val_loss: 5.0336e-04\n",
            "Epoch 2/32\n",
            "110/110 [==============================] - 10s 89ms/step - loss: 1.9575e-05 - val_loss: 6.0035e-04\n",
            "Epoch 3/32\n",
            "110/110 [==============================] - 10s 94ms/step - loss: 1.9246e-05 - val_loss: 3.5169e-04\n",
            "Epoch 4/32\n",
            "110/110 [==============================] - 10s 92ms/step - loss: 1.9445e-05 - val_loss: 2.4115e-04\n",
            "Epoch 5/32\n",
            "110/110 [==============================] - 10s 93ms/step - loss: 1.6431e-05 - val_loss: 2.2120e-04\n",
            "Epoch 6/32\n",
            "110/110 [==============================] - 11s 96ms/step - loss: 1.5626e-05 - val_loss: 3.4251e-04\n",
            "Epoch 7/32\n",
            "110/110 [==============================] - 11s 98ms/step - loss: 1.5772e-05 - val_loss: 1.9370e-04\n",
            "Epoch 8/32\n",
            "110/110 [==============================] - 10s 93ms/step - loss: 1.3459e-05 - val_loss: 2.1330e-04\n",
            "Epoch 9/32\n",
            "110/110 [==============================] - 10s 92ms/step - loss: 1.5278e-05 - val_loss: 1.7530e-04\n",
            "Epoch 10/32\n",
            "110/110 [==============================] - 10s 90ms/step - loss: 1.4155e-05 - val_loss: 4.8367e-04\n",
            "Epoch 11/32\n",
            "110/110 [==============================] - 10s 90ms/step - loss: 1.2037e-05 - val_loss: 2.0107e-04\n",
            "Epoch 12/32\n",
            "110/110 [==============================] - 10s 94ms/step - loss: 1.1911e-05 - val_loss: 4.3957e-04\n",
            "Epoch 13/32\n",
            "110/110 [==============================] - 10s 93ms/step - loss: 1.2135e-05 - val_loss: 1.7948e-04\n",
            "Epoch 14/32\n",
            "110/110 [==============================] - 10s 90ms/step - loss: 1.0470e-05 - val_loss: 1.4463e-04\n",
            "Epoch 15/32\n",
            "110/110 [==============================] - 10s 94ms/step - loss: 1.2328e-05 - val_loss: 1.7015e-04\n",
            "Epoch 16/32\n",
            "110/110 [==============================] - 10s 92ms/step - loss: 1.0691e-05 - val_loss: 1.3352e-04\n",
            "Epoch 17/32\n",
            "110/110 [==============================] - 10s 92ms/step - loss: 9.8012e-06 - val_loss: 1.2970e-04\n",
            "Epoch 18/32\n",
            "110/110 [==============================] - 10s 92ms/step - loss: 9.8784e-06 - val_loss: 2.3072e-04\n",
            "Epoch 19/32\n",
            "110/110 [==============================] - 10s 92ms/step - loss: 9.9246e-06 - val_loss: 3.1284e-04\n",
            "Epoch 20/32\n",
            "110/110 [==============================] - 10s 92ms/step - loss: 9.4240e-06 - val_loss: 1.3345e-04\n",
            "Epoch 21/32\n",
            "110/110 [==============================] - 10s 90ms/step - loss: 8.6394e-06 - val_loss: 1.1408e-04\n",
            "Epoch 22/32\n",
            "110/110 [==============================] - 10s 92ms/step - loss: 8.1641e-06 - val_loss: 1.2509e-04\n",
            "Epoch 23/32\n",
            "110/110 [==============================] - 10s 90ms/step - loss: 8.5935e-06 - val_loss: 1.3091e-04\n",
            "Epoch 24/32\n",
            "110/110 [==============================] - 10s 91ms/step - loss: 8.3724e-06 - val_loss: 1.0274e-04\n",
            "Epoch 25/32\n",
            "110/110 [==============================] - 10s 91ms/step - loss: 7.5443e-06 - val_loss: 1.0510e-04\n",
            "Epoch 26/32\n",
            "110/110 [==============================] - 10s 91ms/step - loss: 7.5924e-06 - val_loss: 9.8366e-05\n",
            "Epoch 27/32\n",
            "110/110 [==============================] - 10s 90ms/step - loss: 7.4532e-06 - val_loss: 9.3531e-05\n",
            "Epoch 28/32\n",
            "110/110 [==============================] - 10s 91ms/step - loss: 7.1701e-06 - val_loss: 9.8621e-05\n",
            "Epoch 29/32\n",
            "110/110 [==============================] - 10s 91ms/step - loss: 7.5994e-06 - val_loss: 9.7128e-05\n",
            "Epoch 30/32\n",
            "110/110 [==============================] - 10s 92ms/step - loss: 7.4169e-06 - val_loss: 9.1381e-05\n",
            "Epoch 31/32\n",
            "110/110 [==============================] - 10s 90ms/step - loss: 7.0131e-06 - val_loss: 1.0464e-04\n",
            "Epoch 32/32\n",
            "110/110 [==============================] - 10s 92ms/step - loss: 5.8391e-06 - val_loss: 1.2714e-04\n"
          ],
          "name": "stdout"
        },
        {
          "output_type": "display_data",
          "data": {
            "image/png": "[encoded data removed]",
            "text/plain": [
              "<Figure size 432x288 with 1 Axes>"
            ]
          },
          "metadata": {
            "tags": [],
            "needs_background": "light"
          }
        }
      ]
    },
    {
      "cell_type": "code",
      "metadata": {
        "id": "tAp6NQ_Hul8l",
        "colab": {
          "base_uri": "https://localhost:8080/",
          "height": 1000
        },
        "outputId": "c187d768-8040-4b13-9011-d7467667b70c"
      },
      "source": [
        "findLSTMResult(df_new_samsung, \"Samsung\")"
      ],
      "execution_count": 19,
      "outputs": [
        {
          "output_type": "stream",
          "text": [
            "Model: \"sequential_2\"\n",
            "_________________________________________________________________\n",
            "Layer (type)                 Output Shape              Param #   \n",
            "=================================================================\n",
            "lstm_4 (LSTM)                (None, 90, 50)            10400     \n",
            "_________________________________________________________________\n",
            "lstm_5 (LSTM)                (None, 50)                20200     \n",
            "_________________________________________________________________\n",
            "dense_2 (Dense)              (None, 1)                 51        \n",
            "=================================================================\n",
            "Total params: 30,651\n",
            "Trainable params: 30,651\n",
            "Non-trainable params: 0\n",
            "_________________________________________________________________\n",
            "Epoch 1/32\n",
            "22/22 [==============================] - 2s 112ms/step - loss: 0.0517 - val_loss: 0.0153\n",
            "Epoch 2/32\n",
            "22/22 [==============================] - 2s 86ms/step - loss: 0.0074 - val_loss: 0.0075\n",
            "Epoch 3/32\n",
            "22/22 [==============================] - 2s 90ms/step - loss: 0.0052 - val_loss: 0.0064\n",
            "Epoch 4/32\n",
            "22/22 [==============================] - 2s 86ms/step - loss: 0.0048 - val_loss: 0.0062\n",
            "Epoch 5/32\n",
            "22/22 [==============================] - 2s 87ms/step - loss: 0.0045 - val_loss: 0.0061\n",
            "Epoch 6/32\n",
            "22/22 [==============================] - 2s 84ms/step - loss: 0.0043 - val_loss: 0.0056\n",
            "Epoch 7/32\n",
            "22/22 [==============================] - 2s 86ms/step - loss: 0.0040 - val_loss: 0.0057\n",
            "Epoch 8/32\n",
            "22/22 [==============================] - 2s 98ms/step - loss: 0.0039 - val_loss: 0.0053\n",
            "Epoch 9/32\n",
            "22/22 [==============================] - 2s 85ms/step - loss: 0.0039 - val_loss: 0.0059\n",
            "Epoch 10/32\n",
            "22/22 [==============================] - 2s 84ms/step - loss: 0.0035 - val_loss: 0.0050\n",
            "Epoch 11/32\n",
            "22/22 [==============================] - 2s 88ms/step - loss: 0.0033 - val_loss: 0.0055\n",
            "Epoch 12/32\n",
            "22/22 [==============================] - 2s 89ms/step - loss: 0.0033 - val_loss: 0.0060\n",
            "Epoch 13/32\n",
            "22/22 [==============================] - 2s 87ms/step - loss: 0.0035 - val_loss: 0.0051\n",
            "Epoch 14/32\n",
            "22/22 [==============================] - 2s 84ms/step - loss: 0.0033 - val_loss: 0.0046\n",
            "Epoch 15/32\n",
            "22/22 [==============================] - 2s 87ms/step - loss: 0.0030 - val_loss: 0.0047\n",
            "Epoch 16/32\n",
            "22/22 [==============================] - 2s 85ms/step - loss: 0.0029 - val_loss: 0.0045\n",
            "Epoch 17/32\n",
            "22/22 [==============================] - 2s 84ms/step - loss: 0.0027 - val_loss: 0.0043\n",
            "Epoch 18/32\n",
            "22/22 [==============================] - 2s 92ms/step - loss: 0.0027 - val_loss: 0.0041\n",
            "Epoch 19/32\n",
            "22/22 [==============================] - 2s 93ms/step - loss: 0.0025 - val_loss: 0.0040\n",
            "Epoch 20/32\n",
            "22/22 [==============================] - 2s 97ms/step - loss: 0.0024 - val_loss: 0.0039\n",
            "Epoch 21/32\n",
            "22/22 [==============================] - 2s 92ms/step - loss: 0.0024 - val_loss: 0.0036\n",
            "Epoch 22/32\n",
            "22/22 [==============================] - 2s 100ms/step - loss: 0.0024 - val_loss: 0.0034\n",
            "Epoch 23/32\n",
            "22/22 [==============================] - 2s 89ms/step - loss: 0.0024 - val_loss: 0.0033\n",
            "Epoch 24/32\n",
            "22/22 [==============================] - 2s 95ms/step - loss: 0.0022 - val_loss: 0.0032\n",
            "Epoch 25/32\n",
            "22/22 [==============================] - 2s 92ms/step - loss: 0.0021 - val_loss: 0.0031\n",
            "Epoch 26/32\n",
            "22/22 [==============================] - 2s 95ms/step - loss: 0.0021 - val_loss: 0.0029\n",
            "Epoch 27/32\n",
            "22/22 [==============================] - 2s 92ms/step - loss: 0.0020 - val_loss: 0.0028\n",
            "Epoch 28/32\n",
            "22/22 [==============================] - 2s 89ms/step - loss: 0.0019 - val_loss: 0.0027\n",
            "Epoch 29/32\n",
            "22/22 [==============================] - 2s 85ms/step - loss: 0.0019 - val_loss: 0.0026\n",
            "Epoch 30/32\n",
            "22/22 [==============================] - 2s 84ms/step - loss: 0.0018 - val_loss: 0.0025\n",
            "Epoch 31/32\n",
            "22/22 [==============================] - 2s 85ms/step - loss: 0.0019 - val_loss: 0.0027\n",
            "Epoch 32/32\n",
            "22/22 [==============================] - 2s 84ms/step - loss: 0.0018 - val_loss: 0.0031\n"
          ],
          "name": "stdout"
        },
        {
          "output_type": "display_data",
          "data": {
            "image/png": "[encoded data removed]",
            "text/plain": [
              "<Figure size 432x288 with 1 Axes>"
            ]
          },
          "metadata": {
            "tags": [],
            "needs_background": "light"
          }
        }
      ]
    },
    {
      "cell_type": "code",
      "metadata": {
        "id": "07s9d9Q4umBb",
        "colab": {
          "base_uri": "https://localhost:8080/",
          "height": 1000
        },
        "outputId": "3e56a5e2-6a20-4fe7-dd84-5249058a8c89"
      },
      "source": [
        "findLSTMResult(df_new_apple, \"Apple\")"
      ],
      "execution_count": 20,
      "outputs": [
        {
          "output_type": "stream",
          "text": [
            "Model: \"sequential_3\"\n",
            "_________________________________________________________________\n",
            "Layer (type)                 Output Shape              Param #   \n",
            "=================================================================\n",
            "lstm_6 (LSTM)                (None, 90, 50)            10400     \n",
            "_________________________________________________________________\n",
            "lstm_7 (LSTM)                (None, 50)                20200     \n",
            "_________________________________________________________________\n",
            "dense_3 (Dense)              (None, 1)                 51        \n",
            "=================================================================\n",
            "Total params: 30,651\n",
            "Trainable params: 30,651\n",
            "Non-trainable params: 0\n",
            "_________________________________________________________________\n",
            "Epoch 1/32\n",
            "11/11 [==============================] - 2s 144ms/step - loss: 0.1167 - val_loss: 0.0197\n",
            "Epoch 2/32\n",
            "11/11 [==============================] - 1s 88ms/step - loss: 0.0185 - val_loss: 0.0241\n",
            "Epoch 3/32\n",
            "11/11 [==============================] - 1s 81ms/step - loss: 0.0108 - val_loss: 0.0038\n",
            "Epoch 4/32\n",
            "11/11 [==============================] - 1s 79ms/step - loss: 0.0092 - val_loss: 0.0076\n",
            "Epoch 5/32\n",
            "11/11 [==============================] - 1s 83ms/step - loss: 0.0084 - val_loss: 0.0034\n",
            "Epoch 6/32\n",
            "11/11 [==============================] - 1s 80ms/step - loss: 0.0079 - val_loss: 0.0040\n",
            "Epoch 7/32\n",
            "11/11 [==============================] - 1s 79ms/step - loss: 0.0074 - val_loss: 0.0037\n",
            "Epoch 8/32\n",
            "11/11 [==============================] - 1s 79ms/step - loss: 0.0071 - val_loss: 0.0032\n",
            "Epoch 9/32\n",
            "11/11 [==============================] - 1s 80ms/step - loss: 0.0067 - val_loss: 0.0030\n",
            "Epoch 10/32\n",
            "11/11 [==============================] - 1s 81ms/step - loss: 0.0064 - val_loss: 0.0037\n",
            "Epoch 11/32\n",
            "11/11 [==============================] - 1s 84ms/step - loss: 0.0063 - val_loss: 0.0022\n",
            "Epoch 12/32\n",
            "11/11 [==============================] - 1s 80ms/step - loss: 0.0058 - val_loss: 0.0029\n",
            "Epoch 13/32\n",
            "11/11 [==============================] - 1s 80ms/step - loss: 0.0055 - val_loss: 0.0021\n",
            "Epoch 14/32\n",
            "11/11 [==============================] - 1s 78ms/step - loss: 0.0053 - val_loss: 0.0025\n",
            "Epoch 15/32\n",
            "11/11 [==============================] - 1s 79ms/step - loss: 0.0050 - val_loss: 0.0022\n",
            "Epoch 16/32\n",
            "11/11 [==============================] - 1s 80ms/step - loss: 0.0048 - val_loss: 0.0024\n",
            "Epoch 17/32\n",
            "11/11 [==============================] - 1s 79ms/step - loss: 0.0047 - val_loss: 0.0028\n",
            "Epoch 18/32\n",
            "11/11 [==============================] - 1s 85ms/step - loss: 0.0046 - val_loss: 0.0044\n",
            "Epoch 19/32\n",
            "11/11 [==============================] - 1s 93ms/step - loss: 0.0045 - val_loss: 0.0026\n",
            "Epoch 20/32\n",
            "11/11 [==============================] - 1s 81ms/step - loss: 0.0043 - val_loss: 0.0030\n",
            "Epoch 21/32\n",
            "11/11 [==============================] - 1s 81ms/step - loss: 0.0042 - val_loss: 0.0030\n",
            "Epoch 22/32\n",
            "11/11 [==============================] - 1s 81ms/step - loss: 0.0040 - val_loss: 0.0038\n",
            "Epoch 23/32\n",
            "11/11 [==============================] - 1s 82ms/step - loss: 0.0042 - val_loss: 0.0023\n",
            "Epoch 24/32\n",
            "11/11 [==============================] - 1s 82ms/step - loss: 0.0038 - val_loss: 0.0029\n",
            "Epoch 25/32\n",
            "11/11 [==============================] - 1s 92ms/step - loss: 0.0037 - val_loss: 0.0018\n",
            "Epoch 26/32\n",
            "11/11 [==============================] - 1s 83ms/step - loss: 0.0038 - val_loss: 0.0016\n",
            "Epoch 27/32\n",
            "11/11 [==============================] - 1s 85ms/step - loss: 0.0037 - val_loss: 0.0016\n",
            "Epoch 28/32\n",
            "11/11 [==============================] - 1s 81ms/step - loss: 0.0039 - val_loss: 0.0017\n",
            "Epoch 29/32\n",
            "11/11 [==============================] - 1s 81ms/step - loss: 0.0038 - val_loss: 0.0016\n",
            "Epoch 30/32\n",
            "11/11 [==============================] - 1s 81ms/step - loss: 0.0035 - val_loss: 0.0019\n",
            "Epoch 31/32\n",
            "11/11 [==============================] - 1s 86ms/step - loss: 0.0033 - val_loss: 0.0019\n",
            "Epoch 32/32\n",
            "11/11 [==============================] - 1s 83ms/step - loss: 0.0033 - val_loss: 0.0018\n"
          ],
          "name": "stdout"
        },
        {
          "output_type": "display_data",
          "data": {
            "image/png": "[encoded data removed]",
            "text/plain": [
              "<Figure size 432x288 with 1 Axes>"
            ]
          },
          "metadata": {
            "tags": [],
            "needs_background": "light"
          }
        }
      ]
    },
    {
      "cell_type": "code",
      "metadata": {
        "id": "X4K5pAhrreun",
        "colab": {
          "base_uri": "https://localhost:8080/",
          "height": 1000
        },
        "outputId": "5fdf2b65-a480-4a8c-fb94-92776b45cc9e"
      },
      "source": [
        "findLSTMResult(df_new_microsoft, \"Microsoft\")"
      ],
      "execution_count": 21,
      "outputs": [
        {
          "output_type": "stream",
          "text": [
            "Model: \"sequential_4\"\n",
            "_________________________________________________________________\n",
            "Layer (type)                 Output Shape              Param #   \n",
            "=================================================================\n",
            "lstm_8 (LSTM)                (None, 90, 50)            10400     \n",
            "_________________________________________________________________\n",
            "lstm_9 (LSTM)                (None, 50)                20200     \n",
            "_________________________________________________________________\n",
            "dense_4 (Dense)              (None, 1)                 51        \n",
            "=================================================================\n",
            "Total params: 30,651\n",
            "Trainable params: 30,651\n",
            "Non-trainable params: 0\n",
            "_________________________________________________________________\n",
            "Epoch 1/32\n",
            "172/172 [==============================] - 16s 92ms/step - loss: 0.0014 - val_loss: 6.4740e-04\n",
            "Epoch 2/32\n",
            "172/172 [==============================] - 16s 91ms/step - loss: 1.2917e-04 - val_loss: 5.9998e-04\n",
            "Epoch 3/32\n",
            "172/172 [==============================] - 16s 94ms/step - loss: 1.1457e-04 - val_loss: 8.3392e-04\n",
            "Epoch 4/32\n",
            "172/172 [==============================] - 16s 96ms/step - loss: 9.6150e-05 - val_loss: 0.0026\n",
            "Epoch 5/32\n",
            "172/172 [==============================] - 16s 93ms/step - loss: 8.9517e-05 - val_loss: 9.9574e-04\n",
            "Epoch 6/32\n",
            "172/172 [==============================] - 16s 93ms/step - loss: 7.7505e-05 - val_loss: 4.8684e-04\n",
            "Epoch 7/32\n",
            "172/172 [==============================] - 16s 94ms/step - loss: 7.9826e-05 - val_loss: 7.4354e-04\n",
            "Epoch 8/32\n",
            "172/172 [==============================] - 16s 92ms/step - loss: 6.8777e-05 - val_loss: 8.5187e-04\n",
            "Epoch 9/32\n",
            "172/172 [==============================] - 16s 91ms/step - loss: 6.1580e-05 - val_loss: 3.9694e-04\n",
            "Epoch 10/32\n",
            "172/172 [==============================] - 16s 94ms/step - loss: 6.1062e-05 - val_loss: 4.6071e-04\n",
            "Epoch 11/32\n",
            "172/172 [==============================] - 16s 93ms/step - loss: 6.0301e-05 - val_loss: 3.8052e-04\n",
            "Epoch 12/32\n",
            "172/172 [==============================] - 16s 93ms/step - loss: 5.8875e-05 - val_loss: 1.3509e-04\n",
            "Epoch 13/32\n",
            "172/172 [==============================] - 16s 93ms/step - loss: 5.2758e-05 - val_loss: 5.9098e-04\n",
            "Epoch 14/32\n",
            "172/172 [==============================] - 16s 94ms/step - loss: 5.0041e-05 - val_loss: 1.8675e-04\n",
            "Epoch 15/32\n",
            "172/172 [==============================] - 16s 94ms/step - loss: 4.5356e-05 - val_loss: 2.3582e-04\n",
            "Epoch 16/32\n",
            "172/172 [==============================] - 16s 95ms/step - loss: 4.0788e-05 - val_loss: 1.2563e-04\n",
            "Epoch 17/32\n",
            "172/172 [==============================] - 16s 94ms/step - loss: 4.2899e-05 - val_loss: 2.3963e-04\n",
            "Epoch 18/32\n",
            "172/172 [==============================] - 16s 92ms/step - loss: 4.0214e-05 - val_loss: 1.9540e-04\n",
            "Epoch 19/32\n",
            "172/172 [==============================] - 16s 91ms/step - loss: 3.8271e-05 - val_loss: 6.9233e-05\n",
            "Epoch 20/32\n",
            "172/172 [==============================] - 16s 91ms/step - loss: 3.5949e-05 - val_loss: 1.0572e-04\n",
            "Epoch 21/32\n",
            "172/172 [==============================] - 16s 95ms/step - loss: 3.7613e-05 - val_loss: 1.4945e-04\n",
            "Epoch 22/32\n",
            "172/172 [==============================] - 16s 92ms/step - loss: 3.4696e-05 - val_loss: 8.2678e-05\n",
            "Epoch 23/32\n",
            "172/172 [==============================] - 16s 93ms/step - loss: 3.5367e-05 - val_loss: 1.2088e-04\n",
            "Epoch 24/32\n",
            "172/172 [==============================] - 16s 90ms/step - loss: 3.1215e-05 - val_loss: 1.6473e-04\n",
            "Epoch 25/32\n",
            "172/172 [==============================] - 16s 92ms/step - loss: 2.8164e-05 - val_loss: 1.3526e-04\n",
            "Epoch 26/32\n",
            "172/172 [==============================] - 16s 92ms/step - loss: 3.1746e-05 - val_loss: 6.2593e-05\n",
            "Epoch 27/32\n",
            "172/172 [==============================] - 16s 93ms/step - loss: 2.8444e-05 - val_loss: 1.4142e-04\n",
            "Epoch 28/32\n",
            "172/172 [==============================] - 16s 91ms/step - loss: 3.2976e-05 - val_loss: 7.7146e-05\n",
            "Epoch 29/32\n",
            "172/172 [==============================] - 16s 91ms/step - loss: 2.6828e-05 - val_loss: 6.5762e-05\n",
            "Epoch 30/32\n",
            "172/172 [==============================] - 16s 95ms/step - loss: 2.8142e-05 - val_loss: 6.9688e-05\n",
            "Epoch 31/32\n",
            "172/172 [==============================] - 16s 92ms/step - loss: 2.7515e-05 - val_loss: 9.8054e-05\n",
            "Epoch 32/32\n",
            "172/172 [==============================] - 16s 91ms/step - loss: 3.0639e-05 - val_loss: 2.1798e-04\n"
          ],
          "name": "stdout"
        },
        {
          "output_type": "display_data",
          "data": {
            "image/png": "[encoded data removed]",
            "text/plain": [
              "<Figure size 432x288 with 1 Axes>"
            ]
          },
          "metadata": {
            "tags": [],
            "needs_background": "light"
          }
        }
      ]
    },
    {
      "cell_type": "markdown",
      "metadata": {
        "id": "yja0CW3O7qAm"
      },
      "source": [
        "## CNN"
      ]
    },
    {
      "cell_type": "markdown",
      "metadata": {
        "id": "mez_kHcgWUX0"
      },
      "source": [
        "Convolutional neural network (CNN, or ConvNet) is a class of deep neural networks, that is most commonly applied to analyzing visual imagery and have applications in financial time series.\r\n",
        "\r\n",
        "As CNNs are recommended for stock prediction, we thought we would try them out and see whether they should be or not.\r\n",
        "\r\n",
        "Our objective with the CNN was to try to predict whether the stock price went up during the day or not. To understand easier whether the \"Close\" value was higher than the \"Open\" value for each entry in the dataframe.\r\n",
        "\r\n",
        "Starting with making a new boolean column whether it went up during the day or not. We split the data into training and validation data and normalized it as before with our LSTM model. As our understanding of the CNN is not in-depth, we sticked with a simple model to test the generalization of predicting such classes on financial data. To get our results, we used sklearn.metric functions to see the accuracy, precision, recall and f1 of the model."
      ]
    },
    {
      "cell_type": "code",
      "metadata": {
        "id": "RmPNkVxeTeMn"
      },
      "source": [
        "#Method to make our CNN model\r\n",
        "def create_CNN_model (shapesize):\r\n",
        "  model = Sequential()\r\n",
        "  model.add(Conv1D(filters=32, kernel_size=1, input_shape=(shapesize, 1)))\r\n",
        "  model.add(MaxPooling1D(pool_size=(1)))\r\n",
        "  model.add(Flatten())\r\n",
        "  model.add(Dense(1, activation='sigmoid'))\r\n",
        "  model.compile(loss='binary_crossentropy', optimizer='adam', metrics=['accuracy'])\r\n",
        "  model.summary()\r\n",
        "  return model\r\n",
        "\r\n",
        "#Method to split our data into training and validation with 0.8 split.\r\n",
        "def createCNNTrainTestData(df):\r\n",
        "  train_size = int(len(df) * 0.8)\r\n",
        "  dataArray = df.to_numpy()\r\n",
        "  X_train = dataArray[:train_size, :-1]\r\n",
        "  y_train = dataArray[:train_size, -1]\r\n",
        "  X_test = dataArray[train_size:, :-1]\r\n",
        "  y_test = dataArray[train_size:, -1]\r\n",
        "  return (X_train, y_train, X_test, y_test)\r\n",
        "\r\n",
        "#Method to print out our metrics for the model.\r\n",
        "def printStatistics(y_test, results):\r\n",
        "  accuracy = accuracy_score(y_test, results)\r\n",
        "  precision = precision_score(y_test, results)\r\n",
        "  recall = recall_score(y_test, results)\r\n",
        "  f1 = f1_score(y_test, results)\r\n",
        "  print('Accuracy: '+str(accuracy))\r\n",
        "  print('Precision: '+str(precision))\r\n",
        "  print('Recall: '+str(recall))\r\n",
        "  print('F1 Score: '+str(f1))\r\n"
      ],
      "execution_count": 22,
      "outputs": []
    },
    {
      "cell_type": "code",
      "metadata": {
        "id": "lcuoha70r6_6"
      },
      "source": [
        "def findCNNResult(dataframe) :\r\n",
        "  df = create_df_copy(dataframe)\r\n",
        "\r\n",
        "  df['Shift'] = df['Open'].shift(periods=-10).dropna()\r\n",
        "  df['y'] = np.where(df['Open'] < df['Shift'], 1, 0)\r\n",
        "  df = df.drop(labels=['Date', 'OpenInt'], axis=1)\r\n",
        "\r\n",
        "  X_train, y_train, X_test, y_test = createCNNTrainTestData(df)\r\n",
        "\r\n",
        "  scaler = MinMaxScaler()\r\n",
        "  X_train = scaler.fit_transform(X_train).reshape(X_train.shape[0], X_train.shape[1], 1)\r\n",
        "  X_test = X_test.reshape(X_test.shape[0], X_test.shape[1], 1)\r\n",
        "\r\n",
        "  model = create_CNN_model(X_train.shape[1])\r\n",
        "  model.fit(X_train, y_train, validation_data=(X_test, y_test), epochs=50, batch_size=1000, verbose=1)\r\n",
        "\r\n",
        "  results = model.predict_classes(X_test, verbose=0)[:, 0]\r\n",
        "\r\n",
        "  printStatistics(y_test, results)"
      ],
      "execution_count": 23,
      "outputs": []
    },
    {
      "cell_type": "code",
      "metadata": {
        "id": "z72qWMbOtCog",
        "colab": {
          "base_uri": "https://localhost:8080/"
        },
        "outputId": "639335a2-ab21-4927-ceaf-46d7b4c8d177"
      },
      "source": [
        "findCNNResult(df_new_google)"
      ],
      "execution_count": 24,
      "outputs": [
        {
          "output_type": "stream",
          "text": [
            "Model: \"sequential_5\"\n",
            "_________________________________________________________________\n",
            "Layer (type)                 Output Shape              Param #   \n",
            "=================================================================\n",
            "conv1d (Conv1D)              (None, 6, 32)             64        \n",
            "_________________________________________________________________\n",
            "max_pooling1d (MaxPooling1D) (None, 6, 32)             0         \n",
            "_________________________________________________________________\n",
            "flatten (Flatten)            (None, 192)               0         \n",
            "_________________________________________________________________\n",
            "dense_5 (Dense)              (None, 1)                 193       \n",
            "=================================================================\n",
            "Total params: 257\n",
            "Trainable params: 257\n",
            "Non-trainable params: 0\n",
            "_________________________________________________________________\n",
            "Epoch 1/50\n",
            "3/3 [==============================] - 0s 52ms/step - loss: 0.7058 - accuracy: 0.4422 - val_loss: inf - val_accuracy: 0.5952\n",
            "Epoch 2/50\n",
            "3/3 [==============================] - 0s 10ms/step - loss: 0.6985 - accuracy: 0.4651 - val_loss: inf - val_accuracy: 0.5952\n",
            "Epoch 3/50\n",
            "3/3 [==============================] - 0s 10ms/step - loss: 0.6925 - accuracy: 0.5191 - val_loss: inf - val_accuracy: 0.5952\n",
            "Epoch 4/50\n",
            "3/3 [==============================] - 0s 9ms/step - loss: 0.6888 - accuracy: 0.5656 - val_loss: inf - val_accuracy: 0.5952\n",
            "Epoch 5/50\n",
            "3/3 [==============================] - 0s 9ms/step - loss: 0.6864 - accuracy: 0.5728 - val_loss: inf - val_accuracy: 0.5952\n",
            "Epoch 6/50\n",
            "3/3 [==============================] - 0s 9ms/step - loss: 0.6849 - accuracy: 0.5728 - val_loss: inf - val_accuracy: 0.5952\n",
            "Epoch 7/50\n",
            "3/3 [==============================] - 0s 10ms/step - loss: 0.6846 - accuracy: 0.5728 - val_loss: inf - val_accuracy: 0.5952\n",
            "Epoch 8/50\n",
            "3/3 [==============================] - 0s 10ms/step - loss: 0.6846 - accuracy: 0.5728 - val_loss: inf - val_accuracy: 0.5952\n",
            "Epoch 9/50\n",
            "3/3 [==============================] - 0s 10ms/step - loss: 0.6846 - accuracy: 0.5728 - val_loss: inf - val_accuracy: 0.5952\n",
            "Epoch 10/50\n",
            "3/3 [==============================] - 0s 10ms/step - loss: 0.6845 - accuracy: 0.5728 - val_loss: inf - val_accuracy: 0.5952\n",
            "Epoch 11/50\n",
            "3/3 [==============================] - 0s 10ms/step - loss: 0.6842 - accuracy: 0.5728 - val_loss: inf - val_accuracy: 0.5952\n",
            "Epoch 12/50\n",
            "3/3 [==============================] - 0s 9ms/step - loss: 0.6839 - accuracy: 0.5728 - val_loss: inf - val_accuracy: 0.5952\n",
            "Epoch 13/50\n",
            "3/3 [==============================] - 0s 9ms/step - loss: 0.6835 - accuracy: 0.5728 - val_loss: inf - val_accuracy: 0.5952\n",
            "Epoch 14/50\n",
            "3/3 [==============================] - 0s 9ms/step - loss: 0.6831 - accuracy: 0.5728 - val_loss: inf - val_accuracy: 0.5952\n",
            "Epoch 15/50\n",
            "3/3 [==============================] - 0s 11ms/step - loss: 0.6828 - accuracy: 0.5728 - val_loss: inf - val_accuracy: 0.5952\n",
            "Epoch 16/50\n",
            "3/3 [==============================] - 0s 10ms/step - loss: 0.6826 - accuracy: 0.5728 - val_loss: inf - val_accuracy: 0.5952\n",
            "Epoch 17/50\n",
            "3/3 [==============================] - 0s 10ms/step - loss: 0.6825 - accuracy: 0.5728 - val_loss: inf - val_accuracy: 0.5952\n",
            "Epoch 18/50\n",
            "3/3 [==============================] - 0s 10ms/step - loss: 0.6822 - accuracy: 0.5728 - val_loss: inf - val_accuracy: 0.5952\n",
            "Epoch 19/50\n",
            "3/3 [==============================] - 0s 10ms/step - loss: 0.6820 - accuracy: 0.5728 - val_loss: inf - val_accuracy: 0.5952\n",
            "Epoch 20/50\n",
            "3/3 [==============================] - 0s 10ms/step - loss: 0.6817 - accuracy: 0.5728 - val_loss: inf - val_accuracy: 0.5952\n",
            "Epoch 21/50\n",
            "3/3 [==============================] - 0s 10ms/step - loss: 0.6814 - accuracy: 0.5728 - val_loss: inf - val_accuracy: 0.5952\n",
            "Epoch 22/50\n",
            "3/3 [==============================] - 0s 14ms/step - loss: 0.6812 - accuracy: 0.5728 - val_loss: inf - val_accuracy: 0.5952\n",
            "Epoch 23/50\n",
            "3/3 [==============================] - 0s 11ms/step - loss: 0.6809 - accuracy: 0.5728 - val_loss: inf - val_accuracy: 0.5952\n",
            "Epoch 24/50\n",
            "3/3 [==============================] - 0s 10ms/step - loss: 0.6807 - accuracy: 0.5728 - val_loss: inf - val_accuracy: 0.5952\n",
            "Epoch 25/50\n",
            "3/3 [==============================] - 0s 12ms/step - loss: 0.6804 - accuracy: 0.5728 - val_loss: inf - val_accuracy: 0.5952\n",
            "Epoch 26/50\n",
            "3/3 [==============================] - 0s 10ms/step - loss: 0.6802 - accuracy: 0.5728 - val_loss: inf - val_accuracy: 0.5952\n",
            "Epoch 27/50\n",
            "3/3 [==============================] - 0s 10ms/step - loss: 0.6799 - accuracy: 0.5728 - val_loss: inf - val_accuracy: 0.5952\n",
            "Epoch 28/50\n",
            "3/3 [==============================] - 0s 11ms/step - loss: 0.6798 - accuracy: 0.5728 - val_loss: inf - val_accuracy: 0.5952\n",
            "Epoch 29/50\n",
            "3/3 [==============================] - 0s 11ms/step - loss: 0.6794 - accuracy: 0.5728 - val_loss: inf - val_accuracy: 0.5952\n",
            "Epoch 30/50\n",
            "3/3 [==============================] - 0s 11ms/step - loss: 0.6792 - accuracy: 0.5728 - val_loss: inf - val_accuracy: 0.5952\n",
            "Epoch 31/50\n",
            "3/3 [==============================] - 0s 11ms/step - loss: 0.6789 - accuracy: 0.5728 - val_loss: inf - val_accuracy: 0.5952\n",
            "Epoch 32/50\n",
            "3/3 [==============================] - 0s 9ms/step - loss: 0.6787 - accuracy: 0.5728 - val_loss: inf - val_accuracy: 0.5952\n",
            "Epoch 33/50\n",
            "3/3 [==============================] - 0s 12ms/step - loss: 0.6784 - accuracy: 0.5728 - val_loss: inf - val_accuracy: 0.5952\n",
            "Epoch 34/50\n",
            "3/3 [==============================] - 0s 11ms/step - loss: 0.6781 - accuracy: 0.5728 - val_loss: inf - val_accuracy: 0.5952\n",
            "Epoch 35/50\n",
            "3/3 [==============================] - 0s 11ms/step - loss: 0.6779 - accuracy: 0.5728 - val_loss: inf - val_accuracy: 0.3898\n",
            "Epoch 36/50\n",
            "3/3 [==============================] - 0s 11ms/step - loss: 0.6776 - accuracy: 0.5728 - val_loss: inf - val_accuracy: 0.3898\n",
            "Epoch 37/50\n",
            "3/3 [==============================] - 0s 10ms/step - loss: 0.6774 - accuracy: 0.5728 - val_loss: inf - val_accuracy: 0.3898\n",
            "Epoch 38/50\n",
            "3/3 [==============================] - 0s 10ms/step - loss: 0.6771 - accuracy: 0.5728 - val_loss: inf - val_accuracy: 0.3898\n",
            "Epoch 39/50\n",
            "3/3 [==============================] - 0s 12ms/step - loss: 0.6768 - accuracy: 0.5728 - val_loss: inf - val_accuracy: 0.3898\n",
            "Epoch 40/50\n",
            "3/3 [==============================] - 0s 11ms/step - loss: 0.6766 - accuracy: 0.5728 - val_loss: inf - val_accuracy: 0.3898\n",
            "Epoch 41/50\n",
            "3/3 [==============================] - 0s 10ms/step - loss: 0.6763 - accuracy: 0.5728 - val_loss: inf - val_accuracy: 0.3898\n",
            "Epoch 42/50\n",
            "3/3 [==============================] - 0s 10ms/step - loss: 0.6761 - accuracy: 0.5728 - val_loss: inf - val_accuracy: 0.3898\n",
            "Epoch 43/50\n",
            "3/3 [==============================] - 0s 11ms/step - loss: 0.6758 - accuracy: 0.5728 - val_loss: inf - val_accuracy: 0.3898\n",
            "Epoch 44/50\n",
            "3/3 [==============================] - 0s 11ms/step - loss: 0.6756 - accuracy: 0.5728 - val_loss: inf - val_accuracy: 0.3898\n",
            "Epoch 45/50\n",
            "3/3 [==============================] - 0s 10ms/step - loss: 0.6753 - accuracy: 0.5728 - val_loss: inf - val_accuracy: 0.3898\n",
            "Epoch 46/50\n",
            "3/3 [==============================] - 0s 12ms/step - loss: 0.6750 - accuracy: 0.5728 - val_loss: inf - val_accuracy: 0.3898\n",
            "Epoch 47/50\n",
            "3/3 [==============================] - 0s 12ms/step - loss: 0.6748 - accuracy: 0.5728 - val_loss: inf - val_accuracy: 0.3898\n",
            "Epoch 48/50\n",
            "3/3 [==============================] - 0s 11ms/step - loss: 0.6745 - accuracy: 0.5728 - val_loss: inf - val_accuracy: 0.3898\n",
            "Epoch 49/50\n",
            "3/3 [==============================] - 0s 11ms/step - loss: 0.6743 - accuracy: 0.5728 - val_loss: inf - val_accuracy: 0.3898\n",
            "Epoch 50/50\n",
            "3/3 [==============================] - 0s 10ms/step - loss: 0.6740 - accuracy: 0.5728 - val_loss: inf - val_accuracy: 0.3898\n",
            "WARNING:tensorflow:From <ipython-input-23-77d7ba4e49bb>:17: Sequential.predict_classes (from tensorflow.python.keras.engine.sequential) is deprecated and will be removed after 2021-01-01.\n",
            "Instructions for updating:\n",
            "Please use instead:* `np.argmax(model.predict(x), axis=-1)`,   if your model does multi-class classification   (e.g. if it uses a `softmax` last-layer activation).* `(model.predict(x) > 0.5).astype(\"int32\")`,   if your model does binary classification   (e.g. if it uses a `sigmoid` last-layer activation).\n",
            "Accuracy: 0.38980509745127434\n",
            "Precision: 0.0\n",
            "Recall: 0.0\n",
            "F1 Score: 0.0\n"
          ],
          "name": "stdout"
        }
      ]
    },
    {
      "cell_type": "code",
      "metadata": {
        "id": "R532w4o3xwCM",
        "colab": {
          "base_uri": "https://localhost:8080/"
        },
        "outputId": "d278fa40-2a55-4865-bc95-c3ec96919e29"
      },
      "source": [
        "findCNNResult(df_new_apple)"
      ],
      "execution_count": 25,
      "outputs": [
        {
          "output_type": "stream",
          "text": [
            "Model: \"sequential_6\"\n",
            "_________________________________________________________________\n",
            "Layer (type)                 Output Shape              Param #   \n",
            "=================================================================\n",
            "conv1d_1 (Conv1D)            (None, 6, 32)             64        \n",
            "_________________________________________________________________\n",
            "max_pooling1d_1 (MaxPooling1 (None, 6, 32)             0         \n",
            "_________________________________________________________________\n",
            "flatten_1 (Flatten)          (None, 192)               0         \n",
            "_________________________________________________________________\n",
            "dense_6 (Dense)              (None, 1)                 193       \n",
            "=================================================================\n",
            "Total params: 257\n",
            "Trainable params: 257\n",
            "Non-trainable params: 0\n",
            "_________________________________________________________________\n",
            "Epoch 1/50\n",
            "1/1 [==============================] - 0s 134ms/step - loss: 0.6991 - accuracy: 0.5219 - val_loss: 45889.7930 - val_accuracy: 0.5873\n",
            "Epoch 2/50\n",
            "1/1 [==============================] - 0s 20ms/step - loss: 0.6974 - accuracy: 0.5219 - val_loss: 43190.4844 - val_accuracy: 0.5873\n",
            "Epoch 3/50\n",
            "1/1 [==============================] - 0s 19ms/step - loss: 0.6960 - accuracy: 0.5219 - val_loss: 40571.9688 - val_accuracy: 0.5873\n",
            "Epoch 4/50\n",
            "1/1 [==============================] - 0s 21ms/step - loss: 0.6947 - accuracy: 0.5219 - val_loss: 38027.3828 - val_accuracy: 0.5873\n",
            "Epoch 5/50\n",
            "1/1 [==============================] - 0s 21ms/step - loss: 0.6936 - accuracy: 0.5199 - val_loss: 35563.5352 - val_accuracy: 0.5873\n",
            "Epoch 6/50\n",
            "1/1 [==============================] - 0s 19ms/step - loss: 0.6926 - accuracy: 0.5199 - val_loss: 33192.9883 - val_accuracy: 0.5873\n",
            "Epoch 7/50\n",
            "1/1 [==============================] - 0s 22ms/step - loss: 0.6917 - accuracy: 0.5199 - val_loss: 30927.0195 - val_accuracy: 0.5873\n",
            "Epoch 8/50\n",
            "1/1 [==============================] - 0s 20ms/step - loss: 0.6910 - accuracy: 0.5279 - val_loss: 28775.1504 - val_accuracy: 0.5873\n",
            "Epoch 9/50\n",
            "1/1 [==============================] - 0s 20ms/step - loss: 0.6904 - accuracy: 0.5339 - val_loss: 26748.6387 - val_accuracy: 0.5873\n",
            "Epoch 10/50\n",
            "1/1 [==============================] - 0s 23ms/step - loss: 0.6899 - accuracy: 0.5558 - val_loss: 24862.6543 - val_accuracy: 0.5873\n",
            "Epoch 11/50\n",
            "1/1 [==============================] - 0s 26ms/step - loss: 0.6894 - accuracy: 0.5677 - val_loss: 23134.2305 - val_accuracy: 0.5873\n",
            "Epoch 12/50\n",
            "1/1 [==============================] - 0s 21ms/step - loss: 0.6890 - accuracy: 0.5677 - val_loss: 21577.0117 - val_accuracy: 0.5873\n",
            "Epoch 13/50\n",
            "1/1 [==============================] - 0s 20ms/step - loss: 0.6886 - accuracy: 0.5936 - val_loss: 20197.4473 - val_accuracy: 0.5873\n",
            "Epoch 14/50\n",
            "1/1 [==============================] - 0s 21ms/step - loss: 0.6882 - accuracy: 0.6574 - val_loss: 18993.8926 - val_accuracy: 0.5873\n",
            "Epoch 15/50\n",
            "1/1 [==============================] - 0s 21ms/step - loss: 0.6877 - accuracy: 0.6952 - val_loss: 17957.8535 - val_accuracy: 0.5873\n",
            "Epoch 16/50\n",
            "1/1 [==============================] - 0s 21ms/step - loss: 0.6873 - accuracy: 0.7052 - val_loss: 17076.1562 - val_accuracy: 0.5873\n",
            "Epoch 17/50\n",
            "1/1 [==============================] - 0s 22ms/step - loss: 0.6869 - accuracy: 0.7191 - val_loss: 16333.1387 - val_accuracy: 0.5873\n",
            "Epoch 18/50\n",
            "1/1 [==============================] - 0s 21ms/step - loss: 0.6864 - accuracy: 0.7470 - val_loss: 15712.2559 - val_accuracy: 0.5873\n",
            "Epoch 19/50\n",
            "1/1 [==============================] - 0s 19ms/step - loss: 0.6859 - accuracy: 0.7669 - val_loss: 15197.0693 - val_accuracy: 0.5873\n",
            "Epoch 20/50\n",
            "1/1 [==============================] - 0s 20ms/step - loss: 0.6855 - accuracy: 0.7829 - val_loss: 14771.7363 - val_accuracy: 0.5873\n",
            "Epoch 21/50\n",
            "1/1 [==============================] - 0s 19ms/step - loss: 0.6850 - accuracy: 0.7849 - val_loss: 14421.1699 - val_accuracy: 0.5873\n",
            "Epoch 22/50\n",
            "1/1 [==============================] - 0s 21ms/step - loss: 0.6844 - accuracy: 0.7908 - val_loss: 14130.9736 - val_accuracy: 0.5873\n",
            "Epoch 23/50\n",
            "1/1 [==============================] - 0s 20ms/step - loss: 0.6839 - accuracy: 0.8028 - val_loss: 13887.4268 - val_accuracy: 0.5873\n",
            "Epoch 24/50\n",
            "1/1 [==============================] - 0s 19ms/step - loss: 0.6834 - accuracy: 0.7849 - val_loss: 13677.3828 - val_accuracy: 0.5873\n",
            "Epoch 25/50\n",
            "1/1 [==============================] - 0s 25ms/step - loss: 0.6829 - accuracy: 0.7371 - val_loss: 13488.3447 - val_accuracy: 0.5873\n",
            "Epoch 26/50\n",
            "1/1 [==============================] - 0s 24ms/step - loss: 0.6824 - accuracy: 0.7072 - val_loss: 13308.5430 - val_accuracy: 0.5873\n",
            "Epoch 27/50\n",
            "1/1 [==============================] - 0s 24ms/step - loss: 0.6819 - accuracy: 0.6713 - val_loss: 13127.1016 - val_accuracy: 0.5873\n",
            "Epoch 28/50\n",
            "1/1 [==============================] - 0s 19ms/step - loss: 0.6815 - accuracy: 0.6474 - val_loss: 12934.1982 - val_accuracy: 0.5873\n",
            "Epoch 29/50\n",
            "1/1 [==============================] - 0s 21ms/step - loss: 0.6810 - accuracy: 0.6235 - val_loss: 12721.2559 - val_accuracy: 0.5873\n",
            "Epoch 30/50\n",
            "1/1 [==============================] - 0s 23ms/step - loss: 0.6805 - accuracy: 0.6076 - val_loss: 12481.0654 - val_accuracy: 0.5873\n",
            "Epoch 31/50\n",
            "1/1 [==============================] - 0s 21ms/step - loss: 0.6800 - accuracy: 0.5956 - val_loss: 12207.9209 - val_accuracy: 0.5873\n",
            "Epoch 32/50\n",
            "1/1 [==============================] - 0s 22ms/step - loss: 0.6795 - accuracy: 0.5916 - val_loss: 11897.6406 - val_accuracy: 0.5873\n",
            "Epoch 33/50\n",
            "1/1 [==============================] - 0s 24ms/step - loss: 0.6791 - accuracy: 0.5936 - val_loss: 11547.6074 - val_accuracy: 0.5873\n",
            "Epoch 34/50\n",
            "1/1 [==============================] - 0s 23ms/step - loss: 0.6786 - accuracy: 0.5916 - val_loss: 11156.7100 - val_accuracy: 0.5873\n",
            "Epoch 35/50\n",
            "1/1 [==============================] - 0s 23ms/step - loss: 0.6781 - accuracy: 0.5916 - val_loss: 10725.2588 - val_accuracy: 0.5873\n",
            "Epoch 36/50\n",
            "1/1 [==============================] - 0s 24ms/step - loss: 0.6776 - accuracy: 0.5936 - val_loss: 10254.9053 - val_accuracy: 0.5873\n",
            "Epoch 37/50\n",
            "1/1 [==============================] - 0s 27ms/step - loss: 0.6771 - accuracy: 0.5936 - val_loss: 9748.4902 - val_accuracy: 0.5873\n",
            "Epoch 38/50\n",
            "1/1 [==============================] - 0s 23ms/step - loss: 0.6766 - accuracy: 0.5976 - val_loss: 9209.8936 - val_accuracy: 0.5873\n",
            "Epoch 39/50\n",
            "1/1 [==============================] - 0s 22ms/step - loss: 0.6761 - accuracy: 0.6076 - val_loss: 8643.8828 - val_accuracy: 0.5873\n",
            "Epoch 40/50\n",
            "1/1 [==============================] - 0s 25ms/step - loss: 0.6756 - accuracy: 0.6096 - val_loss: 8055.9209 - val_accuracy: 0.5873\n",
            "Epoch 41/50\n",
            "1/1 [==============================] - 0s 25ms/step - loss: 0.6751 - accuracy: 0.6235 - val_loss: 7451.9956 - val_accuracy: 0.5873\n",
            "Epoch 42/50\n",
            "1/1 [==============================] - 0s 22ms/step - loss: 0.6746 - accuracy: 0.6355 - val_loss: 6838.4258 - val_accuracy: 0.5873\n",
            "Epoch 43/50\n",
            "1/1 [==============================] - 0s 22ms/step - loss: 0.6741 - accuracy: 0.6414 - val_loss: 6221.6538 - val_accuracy: 0.5873\n",
            "Epoch 44/50\n",
            "1/1 [==============================] - 0s 24ms/step - loss: 0.6736 - accuracy: 0.6534 - val_loss: 5608.0273 - val_accuracy: 0.5873\n",
            "Epoch 45/50\n",
            "1/1 [==============================] - 0s 23ms/step - loss: 0.6731 - accuracy: 0.6733 - val_loss: 5003.6118 - val_accuracy: 0.5873\n",
            "Epoch 46/50\n",
            "1/1 [==============================] - 0s 24ms/step - loss: 0.6725 - accuracy: 0.6892 - val_loss: 4413.9390 - val_accuracy: 0.5873\n",
            "Epoch 47/50\n",
            "1/1 [==============================] - 0s 22ms/step - loss: 0.6720 - accuracy: 0.7072 - val_loss: 3843.8591 - val_accuracy: 0.5873\n",
            "Epoch 48/50\n",
            "1/1 [==============================] - 0s 23ms/step - loss: 0.6715 - accuracy: 0.7251 - val_loss: 3297.3513 - val_accuracy: 0.5873\n",
            "Epoch 49/50\n",
            "1/1 [==============================] - 0s 19ms/step - loss: 0.6710 - accuracy: 0.7351 - val_loss: 2777.3875 - val_accuracy: 0.5873\n",
            "Epoch 50/50\n",
            "1/1 [==============================] - 0s 23ms/step - loss: 0.6705 - accuracy: 0.7530 - val_loss: 2285.8745 - val_accuracy: 0.5873\n",
            "Accuracy: 0.5873015873015873\n",
            "Precision: 0.5517241379310345\n",
            "Recall: 1.0\n",
            "F1 Score: 0.7111111111111111\n"
          ],
          "name": "stdout"
        }
      ]
    },
    {
      "cell_type": "code",
      "metadata": {
        "id": "mt2l8AbAxwE4",
        "colab": {
          "base_uri": "https://localhost:8080/"
        },
        "outputId": "db743d7c-444e-4f9b-962e-cd1262802b61"
      },
      "source": [
        "findCNNResult(df_new_amazon)"
      ],
      "execution_count": 26,
      "outputs": [
        {
          "output_type": "stream",
          "text": [
            "Model: \"sequential_7\"\n",
            "_________________________________________________________________\n",
            "Layer (type)                 Output Shape              Param #   \n",
            "=================================================================\n",
            "conv1d_2 (Conv1D)            (None, 6, 32)             64        \n",
            "_________________________________________________________________\n",
            "max_pooling1d_2 (MaxPooling1 (None, 6, 32)             0         \n",
            "_________________________________________________________________\n",
            "flatten_2 (Flatten)          (None, 192)               0         \n",
            "_________________________________________________________________\n",
            "dense_7 (Dense)              (None, 1)                 193       \n",
            "=================================================================\n",
            "Total params: 257\n",
            "Trainable params: 257\n",
            "Non-trainable params: 0\n",
            "_________________________________________________________________\n",
            "Epoch 1/50\n",
            "5/5 [==============================] - 0s 30ms/step - loss: 0.6960 - accuracy: 0.4345 - val_loss: nan - val_accuracy: 0.3909\n",
            "Epoch 2/50\n",
            "5/5 [==============================] - 0s 7ms/step - loss: 0.6926 - accuracy: 0.5388 - val_loss: nan - val_accuracy: 0.3909\n",
            "Epoch 3/50\n",
            "5/5 [==============================] - 0s 7ms/step - loss: 0.6915 - accuracy: 0.5417 - val_loss: nan - val_accuracy: 0.3909\n",
            "Epoch 4/50\n",
            "5/5 [==============================] - 0s 7ms/step - loss: 0.6911 - accuracy: 0.5420 - val_loss: nan - val_accuracy: 0.3909\n",
            "Epoch 5/50\n",
            "5/5 [==============================] - 0s 7ms/step - loss: 0.6910 - accuracy: 0.5420 - val_loss: nan - val_accuracy: 0.3909\n",
            "Epoch 6/50\n",
            "5/5 [==============================] - 0s 7ms/step - loss: 0.6908 - accuracy: 0.5420 - val_loss: nan - val_accuracy: 0.3909\n",
            "Epoch 7/50\n",
            "5/5 [==============================] - 0s 7ms/step - loss: 0.6905 - accuracy: 0.5420 - val_loss: nan - val_accuracy: 0.3909\n",
            "Epoch 8/50\n",
            "5/5 [==============================] - 0s 7ms/step - loss: 0.6902 - accuracy: 0.5420 - val_loss: nan - val_accuracy: 0.3909\n",
            "Epoch 9/50\n",
            "5/5 [==============================] - 0s 7ms/step - loss: 0.6900 - accuracy: 0.5420 - val_loss: inf - val_accuracy: 0.3909\n",
            "Epoch 10/50\n",
            "5/5 [==============================] - 0s 7ms/step - loss: 0.6898 - accuracy: 0.5420 - val_loss: inf - val_accuracy: 0.3909\n",
            "Epoch 11/50\n",
            "5/5 [==============================] - 0s 7ms/step - loss: 0.6897 - accuracy: 0.5420 - val_loss: inf - val_accuracy: 0.5994\n",
            "Epoch 12/50\n",
            "5/5 [==============================] - 0s 8ms/step - loss: 0.6895 - accuracy: 0.5420 - val_loss: inf - val_accuracy: 0.5994\n",
            "Epoch 13/50\n",
            "5/5 [==============================] - 0s 7ms/step - loss: 0.6893 - accuracy: 0.5420 - val_loss: inf - val_accuracy: 0.5994\n",
            "Epoch 14/50\n",
            "5/5 [==============================] - 0s 7ms/step - loss: 0.6891 - accuracy: 0.5420 - val_loss: inf - val_accuracy: 0.5994\n",
            "Epoch 15/50\n",
            "5/5 [==============================] - 0s 8ms/step - loss: 0.6888 - accuracy: 0.5420 - val_loss: inf - val_accuracy: 0.5994\n",
            "Epoch 16/50\n",
            "5/5 [==============================] - 0s 8ms/step - loss: 0.6888 - accuracy: 0.5420 - val_loss: inf - val_accuracy: 0.5994\n",
            "Epoch 17/50\n",
            "5/5 [==============================] - 0s 8ms/step - loss: 0.6887 - accuracy: 0.5420 - val_loss: inf - val_accuracy: 0.5994\n",
            "Epoch 18/50\n",
            "5/5 [==============================] - 0s 9ms/step - loss: 0.6885 - accuracy: 0.5420 - val_loss: inf - val_accuracy: 0.5994\n",
            "Epoch 19/50\n",
            "5/5 [==============================] - 0s 8ms/step - loss: 0.6883 - accuracy: 0.5420 - val_loss: inf - val_accuracy: 0.5994\n",
            "Epoch 20/50\n",
            "5/5 [==============================] - 0s 8ms/step - loss: 0.6881 - accuracy: 0.5420 - val_loss: inf - val_accuracy: 0.5994\n",
            "Epoch 21/50\n",
            "5/5 [==============================] - 0s 8ms/step - loss: 0.6879 - accuracy: 0.5420 - val_loss: inf - val_accuracy: 0.5994\n",
            "Epoch 22/50\n",
            "5/5 [==============================] - 0s 8ms/step - loss: 0.6876 - accuracy: 0.5420 - val_loss: inf - val_accuracy: 0.5994\n",
            "Epoch 23/50\n",
            "5/5 [==============================] - 0s 10ms/step - loss: 0.6874 - accuracy: 0.5420 - val_loss: inf - val_accuracy: 0.5994\n",
            "Epoch 24/50\n",
            "5/5 [==============================] - 0s 8ms/step - loss: 0.6873 - accuracy: 0.5420 - val_loss: inf - val_accuracy: 0.5994\n",
            "Epoch 25/50\n",
            "5/5 [==============================] - 0s 7ms/step - loss: 0.6871 - accuracy: 0.5420 - val_loss: inf - val_accuracy: 0.5994\n",
            "Epoch 26/50\n",
            "5/5 [==============================] - 0s 7ms/step - loss: 0.6869 - accuracy: 0.5420 - val_loss: inf - val_accuracy: 0.5994\n",
            "Epoch 27/50\n",
            "5/5 [==============================] - 0s 8ms/step - loss: 0.6866 - accuracy: 0.5420 - val_loss: inf - val_accuracy: 0.5994\n",
            "Epoch 28/50\n",
            "5/5 [==============================] - 0s 9ms/step - loss: 0.6865 - accuracy: 0.5420 - val_loss: inf - val_accuracy: 0.5994\n",
            "Epoch 29/50\n",
            "5/5 [==============================] - 0s 7ms/step - loss: 0.6863 - accuracy: 0.5420 - val_loss: inf - val_accuracy: 0.5994\n",
            "Epoch 30/50\n",
            "5/5 [==============================] - 0s 7ms/step - loss: 0.6861 - accuracy: 0.5420 - val_loss: inf - val_accuracy: 0.5994\n",
            "Epoch 31/50\n",
            "5/5 [==============================] - 0s 7ms/step - loss: 0.6858 - accuracy: 0.5420 - val_loss: inf - val_accuracy: 0.5994\n",
            "Epoch 32/50\n",
            "5/5 [==============================] - 0s 8ms/step - loss: 0.6856 - accuracy: 0.5420 - val_loss: inf - val_accuracy: 0.5994\n",
            "Epoch 33/50\n",
            "5/5 [==============================] - 0s 8ms/step - loss: 0.6854 - accuracy: 0.5420 - val_loss: inf - val_accuracy: 0.5994\n",
            "Epoch 34/50\n",
            "5/5 [==============================] - 0s 7ms/step - loss: 0.6851 - accuracy: 0.5420 - val_loss: inf - val_accuracy: 0.5994\n",
            "Epoch 35/50\n",
            "5/5 [==============================] - 0s 7ms/step - loss: 0.6850 - accuracy: 0.5420 - val_loss: inf - val_accuracy: 0.5994\n",
            "Epoch 36/50\n",
            "5/5 [==============================] - 0s 7ms/step - loss: 0.6847 - accuracy: 0.5420 - val_loss: nan - val_accuracy: 0.5994\n",
            "Epoch 37/50\n",
            "5/5 [==============================] - 0s 7ms/step - loss: 0.6845 - accuracy: 0.5420 - val_loss: nan - val_accuracy: 0.5994\n",
            "Epoch 38/50\n",
            "5/5 [==============================] - 0s 8ms/step - loss: 0.6842 - accuracy: 0.5420 - val_loss: nan - val_accuracy: 0.5994\n",
            "Epoch 39/50\n",
            "5/5 [==============================] - 0s 8ms/step - loss: 0.6839 - accuracy: 0.5420 - val_loss: nan - val_accuracy: 0.5994\n",
            "Epoch 40/50\n",
            "5/5 [==============================] - 0s 8ms/step - loss: 0.6837 - accuracy: 0.5420 - val_loss: nan - val_accuracy: 0.5994\n",
            "Epoch 41/50\n",
            "5/5 [==============================] - 0s 8ms/step - loss: 0.6834 - accuracy: 0.5420 - val_loss: nan - val_accuracy: 0.5994\n",
            "Epoch 42/50\n",
            "5/5 [==============================] - 0s 8ms/step - loss: 0.6832 - accuracy: 0.5420 - val_loss: nan - val_accuracy: 0.5994\n",
            "Epoch 43/50\n",
            "5/5 [==============================] - 0s 8ms/step - loss: 0.6829 - accuracy: 0.5420 - val_loss: nan - val_accuracy: 0.5994\n",
            "Epoch 44/50\n",
            "5/5 [==============================] - 0s 8ms/step - loss: 0.6826 - accuracy: 0.5420 - val_loss: nan - val_accuracy: 0.5994\n",
            "Epoch 45/50\n",
            "5/5 [==============================] - 0s 8ms/step - loss: 0.6823 - accuracy: 0.5420 - val_loss: nan - val_accuracy: 0.5994\n",
            "Epoch 46/50\n",
            "5/5 [==============================] - 0s 8ms/step - loss: 0.6821 - accuracy: 0.5420 - val_loss: nan - val_accuracy: 0.5994\n",
            "Epoch 47/50\n",
            "5/5 [==============================] - 0s 7ms/step - loss: 0.6819 - accuracy: 0.5420 - val_loss: nan - val_accuracy: 0.5994\n",
            "Epoch 48/50\n",
            "5/5 [==============================] - 0s 8ms/step - loss: 0.6815 - accuracy: 0.5420 - val_loss: nan - val_accuracy: 0.5994\n",
            "Epoch 49/50\n",
            "5/5 [==============================] - 0s 8ms/step - loss: 0.6812 - accuracy: 0.5420 - val_loss: nan - val_accuracy: 0.5994\n",
            "Epoch 50/50\n",
            "5/5 [==============================] - 0s 8ms/step - loss: 0.6809 - accuracy: 0.5420 - val_loss: nan - val_accuracy: 0.5994\n",
            "Accuracy: 0.5994180407371484\n",
            "Precision: 0.5994180407371484\n",
            "Recall: 1.0\n",
            "F1 Score: 0.7495451788963009\n"
          ],
          "name": "stdout"
        }
      ]
    },
    {
      "cell_type": "code",
      "metadata": {
        "id": "TbZwKcxPxwMJ",
        "colab": {
          "base_uri": "https://localhost:8080/"
        },
        "outputId": "f5ad8b8a-82ea-41b5-86c5-b2a5ce875f35"
      },
      "source": [
        "findCNNResult(df_new_samsung)"
      ],
      "execution_count": 27,
      "outputs": [
        {
          "output_type": "stream",
          "text": [
            "Model: \"sequential_8\"\n",
            "_________________________________________________________________\n",
            "Layer (type)                 Output Shape              Param #   \n",
            "=================================================================\n",
            "conv1d_3 (Conv1D)            (None, 6, 32)             64        \n",
            "_________________________________________________________________\n",
            "max_pooling1d_3 (MaxPooling1 (None, 6, 32)             0         \n",
            "_________________________________________________________________\n",
            "flatten_3 (Flatten)          (None, 192)               0         \n",
            "_________________________________________________________________\n",
            "dense_8 (Dense)              (None, 1)                 193       \n",
            "=================================================================\n",
            "Total params: 257\n",
            "Trainable params: 257\n",
            "Non-trainable params: 0\n",
            "_________________________________________________________________\n",
            "Epoch 1/50\n",
            "1/1 [==============================] - 0s 133ms/step - loss: 0.6944 - accuracy: 0.5062 - val_loss: inf - val_accuracy: 0.4615\n",
            "Epoch 2/50\n",
            "1/1 [==============================] - 0s 21ms/step - loss: 0.6938 - accuracy: 0.5085 - val_loss: inf - val_accuracy: 0.4615\n",
            "Epoch 3/50\n",
            "1/1 [==============================] - 0s 23ms/step - loss: 0.6932 - accuracy: 0.5153 - val_loss: inf - val_accuracy: 0.4615\n",
            "Epoch 4/50\n",
            "1/1 [==============================] - 0s 22ms/step - loss: 0.6925 - accuracy: 0.5176 - val_loss: inf - val_accuracy: 0.4615\n",
            "Epoch 5/50\n",
            "1/1 [==============================] - 0s 18ms/step - loss: 0.6919 - accuracy: 0.5221 - val_loss: inf - val_accuracy: 0.4615\n",
            "Epoch 6/50\n",
            "1/1 [==============================] - 0s 22ms/step - loss: 0.6913 - accuracy: 0.5176 - val_loss: inf - val_accuracy: 0.4615\n",
            "Epoch 7/50\n",
            "1/1 [==============================] - 0s 20ms/step - loss: 0.6907 - accuracy: 0.5243 - val_loss: inf - val_accuracy: 0.4615\n",
            "Epoch 8/50\n",
            "1/1 [==============================] - 0s 21ms/step - loss: 0.6901 - accuracy: 0.5323 - val_loss: inf - val_accuracy: 0.4615\n",
            "Epoch 9/50\n",
            "1/1 [==============================] - 0s 18ms/step - loss: 0.6894 - accuracy: 0.5368 - val_loss: inf - val_accuracy: 0.4615\n",
            "Epoch 10/50\n",
            "1/1 [==============================] - 0s 17ms/step - loss: 0.6888 - accuracy: 0.5402 - val_loss: inf - val_accuracy: 0.4615\n",
            "Epoch 11/50\n",
            "1/1 [==============================] - 0s 18ms/step - loss: 0.6883 - accuracy: 0.5493 - val_loss: inf - val_accuracy: 0.4615\n",
            "Epoch 12/50\n",
            "1/1 [==============================] - 0s 23ms/step - loss: 0.6877 - accuracy: 0.5583 - val_loss: inf - val_accuracy: 0.4615\n",
            "Epoch 13/50\n",
            "1/1 [==============================] - 0s 20ms/step - loss: 0.6871 - accuracy: 0.5595 - val_loss: inf - val_accuracy: 0.4615\n",
            "Epoch 14/50\n",
            "1/1 [==============================] - 0s 18ms/step - loss: 0.6865 - accuracy: 0.5764 - val_loss: inf - val_accuracy: 0.4615\n",
            "Epoch 15/50\n",
            "1/1 [==============================] - 0s 19ms/step - loss: 0.6859 - accuracy: 0.5866 - val_loss: inf - val_accuracy: 0.4615\n",
            "Epoch 16/50\n",
            "1/1 [==============================] - 0s 19ms/step - loss: 0.6854 - accuracy: 0.5878 - val_loss: inf - val_accuracy: 0.4615\n",
            "Epoch 17/50\n",
            "1/1 [==============================] - 0s 20ms/step - loss: 0.6848 - accuracy: 0.5889 - val_loss: inf - val_accuracy: 0.4615\n",
            "Epoch 18/50\n",
            "1/1 [==============================] - 0s 22ms/step - loss: 0.6842 - accuracy: 0.5957 - val_loss: inf - val_accuracy: 0.4615\n",
            "Epoch 19/50\n",
            "1/1 [==============================] - 0s 21ms/step - loss: 0.6837 - accuracy: 0.5991 - val_loss: inf - val_accuracy: 0.4615\n",
            "Epoch 20/50\n",
            "1/1 [==============================] - 0s 21ms/step - loss: 0.6831 - accuracy: 0.6002 - val_loss: inf - val_accuracy: 0.4615\n",
            "Epoch 21/50\n",
            "1/1 [==============================] - 0s 19ms/step - loss: 0.6826 - accuracy: 0.6002 - val_loss: inf - val_accuracy: 0.4615\n",
            "Epoch 22/50\n",
            "1/1 [==============================] - 0s 18ms/step - loss: 0.6820 - accuracy: 0.5957 - val_loss: inf - val_accuracy: 0.4615\n",
            "Epoch 23/50\n",
            "1/1 [==============================] - 0s 18ms/step - loss: 0.6815 - accuracy: 0.6025 - val_loss: inf - val_accuracy: 0.4615\n",
            "Epoch 24/50\n",
            "1/1 [==============================] - 0s 18ms/step - loss: 0.6809 - accuracy: 0.5991 - val_loss: inf - val_accuracy: 0.4615\n",
            "Epoch 25/50\n",
            "1/1 [==============================] - 0s 23ms/step - loss: 0.6804 - accuracy: 0.6014 - val_loss: inf - val_accuracy: 0.4615\n",
            "Epoch 26/50\n",
            "1/1 [==============================] - 0s 20ms/step - loss: 0.6799 - accuracy: 0.6002 - val_loss: inf - val_accuracy: 0.4615\n",
            "Epoch 27/50\n",
            "1/1 [==============================] - 0s 18ms/step - loss: 0.6793 - accuracy: 0.6025 - val_loss: inf - val_accuracy: 0.4615\n",
            "Epoch 28/50\n",
            "1/1 [==============================] - 0s 18ms/step - loss: 0.6788 - accuracy: 0.5980 - val_loss: inf - val_accuracy: 0.4615\n",
            "Epoch 29/50\n",
            "1/1 [==============================] - 0s 18ms/step - loss: 0.6783 - accuracy: 0.5980 - val_loss: inf - val_accuracy: 0.4615\n",
            "Epoch 30/50\n",
            "1/1 [==============================] - 0s 18ms/step - loss: 0.6778 - accuracy: 0.5957 - val_loss: inf - val_accuracy: 0.4615\n",
            "Epoch 31/50\n",
            "1/1 [==============================] - 0s 18ms/step - loss: 0.6773 - accuracy: 0.5923 - val_loss: inf - val_accuracy: 0.4615\n",
            "Epoch 32/50\n",
            "1/1 [==============================] - 0s 18ms/step - loss: 0.6768 - accuracy: 0.5934 - val_loss: inf - val_accuracy: 0.4615\n",
            "Epoch 33/50\n",
            "1/1 [==============================] - 0s 18ms/step - loss: 0.6763 - accuracy: 0.5900 - val_loss: inf - val_accuracy: 0.4615\n",
            "Epoch 34/50\n",
            "1/1 [==============================] - 0s 19ms/step - loss: 0.6758 - accuracy: 0.5855 - val_loss: inf - val_accuracy: 0.4615\n",
            "Epoch 35/50\n",
            "1/1 [==============================] - 0s 20ms/step - loss: 0.6753 - accuracy: 0.5832 - val_loss: inf - val_accuracy: 0.4615\n",
            "Epoch 36/50\n",
            "1/1 [==============================] - 0s 19ms/step - loss: 0.6748 - accuracy: 0.5832 - val_loss: inf - val_accuracy: 0.4615\n",
            "Epoch 37/50\n",
            "1/1 [==============================] - 0s 19ms/step - loss: 0.6743 - accuracy: 0.5844 - val_loss: inf - val_accuracy: 0.4615\n",
            "Epoch 38/50\n",
            "1/1 [==============================] - 0s 21ms/step - loss: 0.6738 - accuracy: 0.5821 - val_loss: inf - val_accuracy: 0.4615\n",
            "Epoch 39/50\n",
            "1/1 [==============================] - 0s 19ms/step - loss: 0.6733 - accuracy: 0.5832 - val_loss: inf - val_accuracy: 0.4615\n",
            "Epoch 40/50\n",
            "1/1 [==============================] - 0s 17ms/step - loss: 0.6728 - accuracy: 0.5844 - val_loss: inf - val_accuracy: 0.4615\n",
            "Epoch 41/50\n",
            "1/1 [==============================] - 0s 18ms/step - loss: 0.6724 - accuracy: 0.5832 - val_loss: inf - val_accuracy: 0.4615\n",
            "Epoch 42/50\n",
            "1/1 [==============================] - 0s 24ms/step - loss: 0.6719 - accuracy: 0.5821 - val_loss: inf - val_accuracy: 0.4615\n",
            "Epoch 43/50\n",
            "1/1 [==============================] - 0s 21ms/step - loss: 0.6714 - accuracy: 0.5798 - val_loss: inf - val_accuracy: 0.4615\n",
            "Epoch 44/50\n",
            "1/1 [==============================] - 0s 19ms/step - loss: 0.6710 - accuracy: 0.5832 - val_loss: inf - val_accuracy: 0.4615\n",
            "Epoch 45/50\n",
            "1/1 [==============================] - 0s 19ms/step - loss: 0.6705 - accuracy: 0.5844 - val_loss: inf - val_accuracy: 0.4615\n",
            "Epoch 46/50\n",
            "1/1 [==============================] - 0s 22ms/step - loss: 0.6700 - accuracy: 0.5844 - val_loss: inf - val_accuracy: 0.4615\n",
            "Epoch 47/50\n",
            "1/1 [==============================] - 0s 20ms/step - loss: 0.6696 - accuracy: 0.5844 - val_loss: inf - val_accuracy: 0.4615\n",
            "Epoch 48/50\n",
            "1/1 [==============================] - 0s 22ms/step - loss: 0.6691 - accuracy: 0.5855 - val_loss: inf - val_accuracy: 0.4615\n",
            "Epoch 49/50\n",
            "1/1 [==============================] - 0s 20ms/step - loss: 0.6687 - accuracy: 0.5855 - val_loss: inf - val_accuracy: 0.4615\n",
            "Epoch 50/50\n",
            "1/1 [==============================] - 0s 25ms/step - loss: 0.6682 - accuracy: 0.5866 - val_loss: inf - val_accuracy: 0.5611\n",
            "Accuracy: 0.5610859728506787\n",
            "Precision: 0.5769230769230769\n",
            "Recall: 0.41284403669724773\n",
            "F1 Score: 0.4812834224598931\n"
          ],
          "name": "stdout"
        }
      ]
    },
    {
      "cell_type": "code",
      "metadata": {
        "id": "JHHdSudyxQnW",
        "colab": {
          "base_uri": "https://localhost:8080/"
        },
        "outputId": "24bd64fe-7998-4d47-920e-a45edb4f5342"
      },
      "source": [
        "findCNNResult(df_new_microsoft)"
      ],
      "execution_count": 28,
      "outputs": [
        {
          "output_type": "stream",
          "text": [
            "Model: \"sequential_9\"\n",
            "_________________________________________________________________\n",
            "Layer (type)                 Output Shape              Param #   \n",
            "=================================================================\n",
            "conv1d_4 (Conv1D)            (None, 6, 32)             64        \n",
            "_________________________________________________________________\n",
            "max_pooling1d_4 (MaxPooling1 (None, 6, 32)             0         \n",
            "_________________________________________________________________\n",
            "flatten_4 (Flatten)          (None, 192)               0         \n",
            "_________________________________________________________________\n",
            "dense_9 (Dense)              (None, 1)                 193       \n",
            "=================================================================\n",
            "Total params: 257\n",
            "Trainable params: 257\n",
            "Non-trainable params: 0\n",
            "_________________________________________________________________\n",
            "Epoch 1/50\n",
            "7/7 [==============================] - 0s 24ms/step - loss: 0.6924 - accuracy: 0.5334 - val_loss: nan - val_accuracy: 0.3820\n",
            "Epoch 2/50\n",
            "7/7 [==============================] - 0s 7ms/step - loss: 0.6906 - accuracy: 0.5454 - val_loss: nan - val_accuracy: 0.3820\n",
            "Epoch 3/50\n",
            "7/7 [==============================] - 0s 8ms/step - loss: 0.6890 - accuracy: 0.5451 - val_loss: nan - val_accuracy: 0.3820\n",
            "Epoch 4/50\n",
            "7/7 [==============================] - 0s 7ms/step - loss: 0.6878 - accuracy: 0.5451 - val_loss: nan - val_accuracy: 0.3820\n",
            "Epoch 5/50\n",
            "7/7 [==============================] - 0s 7ms/step - loss: 0.6868 - accuracy: 0.5451 - val_loss: nan - val_accuracy: 0.3820\n",
            "Epoch 6/50\n",
            "7/7 [==============================] - 0s 7ms/step - loss: 0.6859 - accuracy: 0.5504 - val_loss: nan - val_accuracy: 0.3820\n",
            "Epoch 7/50\n",
            "7/7 [==============================] - 0s 8ms/step - loss: 0.6853 - accuracy: 0.5573 - val_loss: nan - val_accuracy: 0.3820\n",
            "Epoch 8/50\n",
            "7/7 [==============================] - 0s 8ms/step - loss: 0.6849 - accuracy: 0.5609 - val_loss: nan - val_accuracy: 0.3820\n",
            "Epoch 9/50\n",
            "7/7 [==============================] - 0s 7ms/step - loss: 0.6845 - accuracy: 0.5611 - val_loss: nan - val_accuracy: 0.3820\n",
            "Epoch 10/50\n",
            "7/7 [==============================] - 0s 7ms/step - loss: 0.6841 - accuracy: 0.5620 - val_loss: nan - val_accuracy: 0.3820\n",
            "Epoch 11/50\n",
            "7/7 [==============================] - 0s 7ms/step - loss: 0.6839 - accuracy: 0.5636 - val_loss: nan - val_accuracy: 0.3820\n",
            "Epoch 12/50\n",
            "7/7 [==============================] - 0s 6ms/step - loss: 0.6835 - accuracy: 0.5640 - val_loss: nan - val_accuracy: 0.3820\n",
            "Epoch 13/50\n",
            "7/7 [==============================] - 0s 6ms/step - loss: 0.6831 - accuracy: 0.5634 - val_loss: nan - val_accuracy: 0.3820\n",
            "Epoch 14/50\n",
            "7/7 [==============================] - 0s 7ms/step - loss: 0.6827 - accuracy: 0.5680 - val_loss: nan - val_accuracy: 0.3820\n",
            "Epoch 15/50\n",
            "7/7 [==============================] - 0s 7ms/step - loss: 0.6824 - accuracy: 0.5689 - val_loss: nan - val_accuracy: 0.3820\n",
            "Epoch 16/50\n",
            "7/7 [==============================] - 0s 7ms/step - loss: 0.6820 - accuracy: 0.5684 - val_loss: nan - val_accuracy: 0.3820\n",
            "Epoch 17/50\n",
            "7/7 [==============================] - 0s 6ms/step - loss: 0.6816 - accuracy: 0.5708 - val_loss: nan - val_accuracy: 0.3820\n",
            "Epoch 18/50\n",
            "7/7 [==============================] - 0s 6ms/step - loss: 0.6814 - accuracy: 0.5706 - val_loss: nan - val_accuracy: 0.3820\n",
            "Epoch 19/50\n",
            "7/7 [==============================] - 0s 7ms/step - loss: 0.6808 - accuracy: 0.5850 - val_loss: nan - val_accuracy: 0.3820\n",
            "Epoch 20/50\n",
            "7/7 [==============================] - 0s 6ms/step - loss: 0.6806 - accuracy: 0.6029 - val_loss: nan - val_accuracy: 0.3820\n",
            "Epoch 21/50\n",
            "7/7 [==============================] - 0s 6ms/step - loss: 0.6801 - accuracy: 0.6001 - val_loss: nan - val_accuracy: 0.3820\n",
            "Epoch 22/50\n",
            "7/7 [==============================] - 0s 6ms/step - loss: 0.6795 - accuracy: 0.5860 - val_loss: nan - val_accuracy: 0.3820\n",
            "Epoch 23/50\n",
            "7/7 [==============================] - 0s 7ms/step - loss: 0.6792 - accuracy: 0.5747 - val_loss: nan - val_accuracy: 0.3820\n",
            "Epoch 24/50\n",
            "7/7 [==============================] - 0s 7ms/step - loss: 0.6787 - accuracy: 0.5813 - val_loss: nan - val_accuracy: 0.3820\n",
            "Epoch 25/50\n",
            "7/7 [==============================] - 0s 7ms/step - loss: 0.6783 - accuracy: 0.6084 - val_loss: nan - val_accuracy: 0.3820\n",
            "Epoch 26/50\n",
            "7/7 [==============================] - 0s 6ms/step - loss: 0.6779 - accuracy: 0.5990 - val_loss: nan - val_accuracy: 0.3820\n",
            "Epoch 27/50\n",
            "7/7 [==============================] - 0s 6ms/step - loss: 0.6774 - accuracy: 0.5904 - val_loss: nan - val_accuracy: 0.3820\n",
            "Epoch 28/50\n",
            "7/7 [==============================] - 0s 7ms/step - loss: 0.6769 - accuracy: 0.6149 - val_loss: nan - val_accuracy: 0.3820\n",
            "Epoch 29/50\n",
            "7/7 [==============================] - 0s 7ms/step - loss: 0.6764 - accuracy: 0.6256 - val_loss: nan - val_accuracy: 0.3820\n",
            "Epoch 30/50\n",
            "7/7 [==============================] - 0s 7ms/step - loss: 0.6759 - accuracy: 0.6073 - val_loss: nan - val_accuracy: 0.3820\n",
            "Epoch 31/50\n",
            "7/7 [==============================] - 0s 6ms/step - loss: 0.6753 - accuracy: 0.6066 - val_loss: nan - val_accuracy: 0.3820\n",
            "Epoch 32/50\n",
            "7/7 [==============================] - 0s 6ms/step - loss: 0.6748 - accuracy: 0.6309 - val_loss: nan - val_accuracy: 0.3820\n",
            "Epoch 33/50\n",
            "7/7 [==============================] - 0s 7ms/step - loss: 0.6743 - accuracy: 0.6102 - val_loss: nan - val_accuracy: 0.3820\n",
            "Epoch 34/50\n",
            "7/7 [==============================] - 0s 8ms/step - loss: 0.6737 - accuracy: 0.6104 - val_loss: nan - val_accuracy: 0.3820\n",
            "Epoch 35/50\n",
            "7/7 [==============================] - 0s 8ms/step - loss: 0.6731 - accuracy: 0.6273 - val_loss: nan - val_accuracy: 0.3820\n",
            "Epoch 36/50\n",
            "7/7 [==============================] - 0s 7ms/step - loss: 0.6725 - accuracy: 0.6236 - val_loss: nan - val_accuracy: 0.3820\n",
            "Epoch 37/50\n",
            "7/7 [==============================] - 0s 8ms/step - loss: 0.6719 - accuracy: 0.6178 - val_loss: nan - val_accuracy: 0.3820\n",
            "Epoch 38/50\n",
            "7/7 [==============================] - 0s 8ms/step - loss: 0.6712 - accuracy: 0.6361 - val_loss: nan - val_accuracy: 0.3820\n",
            "Epoch 39/50\n",
            "7/7 [==============================] - 0s 7ms/step - loss: 0.6707 - accuracy: 0.6232 - val_loss: nan - val_accuracy: 0.3820\n",
            "Epoch 40/50\n",
            "7/7 [==============================] - 0s 7ms/step - loss: 0.6700 - accuracy: 0.6383 - val_loss: nan - val_accuracy: 0.3820\n",
            "Epoch 41/50\n",
            "7/7 [==============================] - 0s 6ms/step - loss: 0.6692 - accuracy: 0.6236 - val_loss: nan - val_accuracy: 0.3820\n",
            "Epoch 42/50\n",
            "7/7 [==============================] - 0s 7ms/step - loss: 0.6687 - accuracy: 0.6281 - val_loss: nan - val_accuracy: 0.3820\n",
            "Epoch 43/50\n",
            "7/7 [==============================] - 0s 6ms/step - loss: 0.6678 - accuracy: 0.6416 - val_loss: nan - val_accuracy: 0.3820\n",
            "Epoch 44/50\n",
            "7/7 [==============================] - 0s 6ms/step - loss: 0.6671 - accuracy: 0.6408 - val_loss: nan - val_accuracy: 0.3820\n",
            "Epoch 45/50\n",
            "7/7 [==============================] - 0s 6ms/step - loss: 0.6663 - accuracy: 0.6472 - val_loss: nan - val_accuracy: 0.3820\n",
            "Epoch 46/50\n",
            "7/7 [==============================] - 0s 6ms/step - loss: 0.6656 - accuracy: 0.6358 - val_loss: nan - val_accuracy: 0.3820\n",
            "Epoch 47/50\n",
            "7/7 [==============================] - 0s 7ms/step - loss: 0.6650 - accuracy: 0.6690 - val_loss: nan - val_accuracy: 0.3820\n",
            "Epoch 48/50\n",
            "7/7 [==============================] - 0s 7ms/step - loss: 0.6641 - accuracy: 0.6569 - val_loss: nan - val_accuracy: 0.3820\n",
            "Epoch 49/50\n",
            "7/7 [==============================] - 0s 7ms/step - loss: 0.6632 - accuracy: 0.6492 - val_loss: nan - val_accuracy: 0.3820\n",
            "Epoch 50/50\n",
            "7/7 [==============================] - 0s 7ms/step - loss: 0.6625 - accuracy: 0.6838 - val_loss: nan - val_accuracy: 0.3820\n",
            "Accuracy: 0.38196618659987475\n",
            "Precision: 0.0\n",
            "Recall: 0.0\n",
            "F1 Score: 0.0\n"
          ],
          "name": "stdout"
        },
        {
          "output_type": "stream",
          "text": [
            "/usr/local/lib/python3.6/dist-packages/sklearn/metrics/_classification.py:1272: UndefinedMetricWarning: Precision is ill-defined and being set to 0.0 due to no predicted samples. Use `zero_division` parameter to control this behavior.\n",
            "  _warn_prf(average, modifier, msg_start, len(result))\n"
          ],
          "name": "stderr"
        }
      ]
    },
    {
      "cell_type": "markdown",
      "metadata": {
        "id": "5NnJ8-5-Y6qw"
      },
      "source": [
        "# Pages that helped us in this project : \r\n",
        "\r\n",
        "https://en.wikipedia.org/\r\n",
        "\r\n",
        "https://scikit-learn.org/\r\n",
        "\r\n",
        "https://stackabuse.com"
      ]
    }
  ]
}